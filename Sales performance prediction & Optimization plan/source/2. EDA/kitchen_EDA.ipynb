{
 "cells": [
  {
   "cell_type": "code",
   "execution_count": 1,
   "metadata": {},
   "outputs": [],
   "source": [
    "import pandas as pd \n",
    "import numpy as np \n",
    "import os \n",
    "\n",
    "import seaborn as sns\n",
    "import matplotlib as mpl\n",
    "import matplotlib.pyplot as plt\n",
    "import matplotlib.font_manager as fm\n",
    "from matplotlib import rc"
   ]
  },
  {
   "cell_type": "code",
   "execution_count": 2,
   "metadata": {},
   "outputs": [],
   "source": [
    "pd.set_option('display.float_format', '{:.2f}'.format)    #과학적 표기법 안쓸래 \n",
    "mpl.rcParams['axes.unicode_minus'] = False               # 마이너스 표기 오류 방지 "
   ]
  },
  {
   "cell_type": "code",
   "execution_count": 3,
   "metadata": {},
   "outputs": [],
   "source": [
    "# 한글 폰트 깨짐 방지 \n",
    "font_name = fm.FontProperties(fname=\"C:/Windows/Fonts/malgun.ttf\").get_name()   \n",
    "rc('font', family=font_name)\n",
    "# plt.rcParams['font.family'] = 'Malgun Gothic'"
   ]
  },
  {
   "cell_type": "code",
   "execution_count": 4,
   "metadata": {},
   "outputs": [],
   "source": [
    "base_dir = \"C:\\\\programming\\\\bigcontest_2020\\\\champion_league\\\\preprocess\\\\saejin\"\n",
    "excel_file = \"원데이터 전처리.xlsx\"\n",
    "\n",
    "excel_dir = os.path.join(base_dir,excel_file)"
   ]
  },
  {
   "cell_type": "code",
   "execution_count": 5,
   "metadata": {},
   "outputs": [],
   "source": [
    "raw_data = pd.read_excel(excel_dir, \n",
    "                             sheet_name = \"Sheet1\",\n",
    "                             header = 0)"
   ]
  },
  {
   "cell_type": "code",
   "execution_count": 6,
   "metadata": {},
   "outputs": [
    {
     "data": {
      "text/html": [
       "<div>\n",
       "<style scoped>\n",
       "    .dataframe tbody tr th:only-of-type {\n",
       "        vertical-align: middle;\n",
       "    }\n",
       "\n",
       "    .dataframe tbody tr th {\n",
       "        vertical-align: top;\n",
       "    }\n",
       "\n",
       "    .dataframe thead th {\n",
       "        text-align: right;\n",
       "    }\n",
       "</style>\n",
       "<table border=\"1\" class=\"dataframe\">\n",
       "  <thead>\n",
       "    <tr style=\"text-align: right;\">\n",
       "      <th></th>\n",
       "      <th>Unnamed: 0</th>\n",
       "      <th>방송일시</th>\n",
       "      <th>노출(분)</th>\n",
       "      <th>마더코드</th>\n",
       "      <th>상품코드</th>\n",
       "      <th>상품명</th>\n",
       "      <th>상품군</th>\n",
       "      <th>판매단가</th>\n",
       "      <th>취급액</th>\n",
       "      <th>날짜</th>\n",
       "      <th>...</th>\n",
       "      <th>월</th>\n",
       "      <th>일</th>\n",
       "      <th>요일</th>\n",
       "      <th>분기</th>\n",
       "      <th>365일</th>\n",
       "      <th>계절</th>\n",
       "      <th>방송시간</th>\n",
       "      <th>매진여부</th>\n",
       "      <th>취급액boxcox</th>\n",
       "      <th>최소판매수량</th>\n",
       "    </tr>\n",
       "  </thead>\n",
       "  <tbody>\n",
       "    <tr>\n",
       "      <th>0</th>\n",
       "      <td>1</td>\n",
       "      <td>2019-01-01 06:00:00</td>\n",
       "      <td>20.00</td>\n",
       "      <td>100346</td>\n",
       "      <td>201072</td>\n",
       "      <td>테이트 남성 셀린니트3종</td>\n",
       "      <td>의류</td>\n",
       "      <td>39900</td>\n",
       "      <td>2099000</td>\n",
       "      <td>20190101</td>\n",
       "      <td>...</td>\n",
       "      <td>1</td>\n",
       "      <td>1</td>\n",
       "      <td>화요일</td>\n",
       "      <td>Q1</td>\n",
       "      <td>1</td>\n",
       "      <td>겨울</td>\n",
       "      <td>20.00</td>\n",
       "      <td>0</td>\n",
       "      <td>109.82</td>\n",
       "      <td>53</td>\n",
       "    </tr>\n",
       "    <tr>\n",
       "      <th>1</th>\n",
       "      <td>2</td>\n",
       "      <td>2019-01-01 06:00:00</td>\n",
       "      <td>20.00</td>\n",
       "      <td>100346</td>\n",
       "      <td>201079</td>\n",
       "      <td>테이트 여성 셀린니트3종</td>\n",
       "      <td>의류</td>\n",
       "      <td>39900</td>\n",
       "      <td>4371000</td>\n",
       "      <td>20190101</td>\n",
       "      <td>...</td>\n",
       "      <td>1</td>\n",
       "      <td>1</td>\n",
       "      <td>화요일</td>\n",
       "      <td>Q1</td>\n",
       "      <td>1</td>\n",
       "      <td>겨울</td>\n",
       "      <td>20.00</td>\n",
       "      <td>0</td>\n",
       "      <td>130.05</td>\n",
       "      <td>110</td>\n",
       "    </tr>\n",
       "    <tr>\n",
       "      <th>2</th>\n",
       "      <td>3</td>\n",
       "      <td>2019-01-01 06:20:00</td>\n",
       "      <td>20.00</td>\n",
       "      <td>100346</td>\n",
       "      <td>201072</td>\n",
       "      <td>테이트 남성 셀린니트3종</td>\n",
       "      <td>의류</td>\n",
       "      <td>39900</td>\n",
       "      <td>3262000</td>\n",
       "      <td>20190101</td>\n",
       "      <td>...</td>\n",
       "      <td>1</td>\n",
       "      <td>1</td>\n",
       "      <td>화요일</td>\n",
       "      <td>Q1</td>\n",
       "      <td>1</td>\n",
       "      <td>겨울</td>\n",
       "      <td>20.00</td>\n",
       "      <td>0</td>\n",
       "      <td>121.58</td>\n",
       "      <td>82</td>\n",
       "    </tr>\n",
       "    <tr>\n",
       "      <th>3</th>\n",
       "      <td>4</td>\n",
       "      <td>2019-01-01 06:20:00</td>\n",
       "      <td>20.00</td>\n",
       "      <td>100346</td>\n",
       "      <td>201079</td>\n",
       "      <td>테이트 여성 셀린니트3종</td>\n",
       "      <td>의류</td>\n",
       "      <td>39900</td>\n",
       "      <td>6955000</td>\n",
       "      <td>20190101</td>\n",
       "      <td>...</td>\n",
       "      <td>1</td>\n",
       "      <td>1</td>\n",
       "      <td>화요일</td>\n",
       "      <td>Q1</td>\n",
       "      <td>1</td>\n",
       "      <td>겨울</td>\n",
       "      <td>20.00</td>\n",
       "      <td>0</td>\n",
       "      <td>144.68</td>\n",
       "      <td>174</td>\n",
       "    </tr>\n",
       "    <tr>\n",
       "      <th>4</th>\n",
       "      <td>5</td>\n",
       "      <td>2019-01-01 06:40:00</td>\n",
       "      <td>20.00</td>\n",
       "      <td>100346</td>\n",
       "      <td>201072</td>\n",
       "      <td>테이트 남성 셀린니트3종</td>\n",
       "      <td>의류</td>\n",
       "      <td>39900</td>\n",
       "      <td>6672000</td>\n",
       "      <td>20190101</td>\n",
       "      <td>...</td>\n",
       "      <td>1</td>\n",
       "      <td>1</td>\n",
       "      <td>화요일</td>\n",
       "      <td>Q1</td>\n",
       "      <td>1</td>\n",
       "      <td>겨울</td>\n",
       "      <td>20.00</td>\n",
       "      <td>0</td>\n",
       "      <td>143.31</td>\n",
       "      <td>167</td>\n",
       "    </tr>\n",
       "    <tr>\n",
       "      <th>...</th>\n",
       "      <td>...</td>\n",
       "      <td>...</td>\n",
       "      <td>...</td>\n",
       "      <td>...</td>\n",
       "      <td>...</td>\n",
       "      <td>...</td>\n",
       "      <td>...</td>\n",
       "      <td>...</td>\n",
       "      <td>...</td>\n",
       "      <td>...</td>\n",
       "      <td>...</td>\n",
       "      <td>...</td>\n",
       "      <td>...</td>\n",
       "      <td>...</td>\n",
       "      <td>...</td>\n",
       "      <td>...</td>\n",
       "      <td>...</td>\n",
       "      <td>...</td>\n",
       "      <td>...</td>\n",
       "      <td>...</td>\n",
       "      <td>...</td>\n",
       "    </tr>\n",
       "    <tr>\n",
       "      <th>35370</th>\n",
       "      <td>38296</td>\n",
       "      <td>2019-12-31 23:20:00</td>\n",
       "      <td>20.00</td>\n",
       "      <td>100448</td>\n",
       "      <td>201391</td>\n",
       "      <td>일시불쿠첸압력밥솥 6인용</td>\n",
       "      <td>주방</td>\n",
       "      <td>148000</td>\n",
       "      <td>1664000</td>\n",
       "      <td>20191231</td>\n",
       "      <td>...</td>\n",
       "      <td>12</td>\n",
       "      <td>31</td>\n",
       "      <td>화요일</td>\n",
       "      <td>Q4</td>\n",
       "      <td>365</td>\n",
       "      <td>겨울</td>\n",
       "      <td>20.00</td>\n",
       "      <td>0</td>\n",
       "      <td>104.07</td>\n",
       "      <td>11</td>\n",
       "    </tr>\n",
       "    <tr>\n",
       "      <th>35371</th>\n",
       "      <td>38297</td>\n",
       "      <td>2019-12-31 23:40:00</td>\n",
       "      <td>20.00</td>\n",
       "      <td>100448</td>\n",
       "      <td>201383</td>\n",
       "      <td>무이자쿠첸압력밥솥 10인용</td>\n",
       "      <td>주방</td>\n",
       "      <td>178000</td>\n",
       "      <td>9149000</td>\n",
       "      <td>20191231</td>\n",
       "      <td>...</td>\n",
       "      <td>12</td>\n",
       "      <td>31</td>\n",
       "      <td>화요일</td>\n",
       "      <td>Q4</td>\n",
       "      <td>365</td>\n",
       "      <td>겨울</td>\n",
       "      <td>20.00</td>\n",
       "      <td>0</td>\n",
       "      <td>154.06</td>\n",
       "      <td>51</td>\n",
       "    </tr>\n",
       "    <tr>\n",
       "      <th>35372</th>\n",
       "      <td>38298</td>\n",
       "      <td>2019-12-31 23:40:00</td>\n",
       "      <td>20.00</td>\n",
       "      <td>100448</td>\n",
       "      <td>201390</td>\n",
       "      <td>일시불쿠첸압력밥솥 10인용</td>\n",
       "      <td>주방</td>\n",
       "      <td>168000</td>\n",
       "      <td>15282000</td>\n",
       "      <td>20191231</td>\n",
       "      <td>...</td>\n",
       "      <td>12</td>\n",
       "      <td>31</td>\n",
       "      <td>화요일</td>\n",
       "      <td>Q4</td>\n",
       "      <td>365</td>\n",
       "      <td>겨울</td>\n",
       "      <td>20.00</td>\n",
       "      <td>0</td>\n",
       "      <td>173.20</td>\n",
       "      <td>91</td>\n",
       "    </tr>\n",
       "    <tr>\n",
       "      <th>35373</th>\n",
       "      <td>38299</td>\n",
       "      <td>2019-12-31 23:40:00</td>\n",
       "      <td>20.00</td>\n",
       "      <td>100448</td>\n",
       "      <td>201384</td>\n",
       "      <td>무이자쿠첸압력밥솥 6인용</td>\n",
       "      <td>주방</td>\n",
       "      <td>158000</td>\n",
       "      <td>2328000</td>\n",
       "      <td>20191231</td>\n",
       "      <td>...</td>\n",
       "      <td>12</td>\n",
       "      <td>31</td>\n",
       "      <td>화요일</td>\n",
       "      <td>Q4</td>\n",
       "      <td>365</td>\n",
       "      <td>겨울</td>\n",
       "      <td>20.00</td>\n",
       "      <td>0</td>\n",
       "      <td>112.48</td>\n",
       "      <td>15</td>\n",
       "    </tr>\n",
       "    <tr>\n",
       "      <th>35374</th>\n",
       "      <td>38300</td>\n",
       "      <td>2019-12-31 23:40:00</td>\n",
       "      <td>20.00</td>\n",
       "      <td>100448</td>\n",
       "      <td>201391</td>\n",
       "      <td>일시불쿠첸압력밥솥 6인용</td>\n",
       "      <td>주방</td>\n",
       "      <td>148000</td>\n",
       "      <td>10157000</td>\n",
       "      <td>20191231</td>\n",
       "      <td>...</td>\n",
       "      <td>12</td>\n",
       "      <td>31</td>\n",
       "      <td>화요일</td>\n",
       "      <td>Q4</td>\n",
       "      <td>365</td>\n",
       "      <td>겨울</td>\n",
       "      <td>20.00</td>\n",
       "      <td>0</td>\n",
       "      <td>157.78</td>\n",
       "      <td>69</td>\n",
       "    </tr>\n",
       "  </tbody>\n",
       "</table>\n",
       "<p>35375 rows × 21 columns</p>\n",
       "</div>"
      ],
      "text/plain": [
       "       Unnamed: 0                방송일시  노출(분)    마더코드    상품코드             상품명  \\\n",
       "0               1 2019-01-01 06:00:00  20.00  100346  201072   테이트 남성 셀린니트3종   \n",
       "1               2 2019-01-01 06:00:00  20.00  100346  201079   테이트 여성 셀린니트3종   \n",
       "2               3 2019-01-01 06:20:00  20.00  100346  201072   테이트 남성 셀린니트3종   \n",
       "3               4 2019-01-01 06:20:00  20.00  100346  201079   테이트 여성 셀린니트3종   \n",
       "4               5 2019-01-01 06:40:00  20.00  100346  201072   테이트 남성 셀린니트3종   \n",
       "...           ...                 ...    ...     ...     ...             ...   \n",
       "35370       38296 2019-12-31 23:20:00  20.00  100448  201391   일시불쿠첸압력밥솥 6인용   \n",
       "35371       38297 2019-12-31 23:40:00  20.00  100448  201383  무이자쿠첸압력밥솥 10인용   \n",
       "35372       38298 2019-12-31 23:40:00  20.00  100448  201390  일시불쿠첸압력밥솥 10인용   \n",
       "35373       38299 2019-12-31 23:40:00  20.00  100448  201384   무이자쿠첸압력밥솥 6인용   \n",
       "35374       38300 2019-12-31 23:40:00  20.00  100448  201391   일시불쿠첸압력밥솥 6인용   \n",
       "\n",
       "      상품군    판매단가       취급액        날짜  ...   월   일   요일  분기 365일  계절  방송시간  \\\n",
       "0      의류   39900   2099000  20190101  ...   1   1  화요일  Q1    1  겨울 20.00   \n",
       "1      의류   39900   4371000  20190101  ...   1   1  화요일  Q1    1  겨울 20.00   \n",
       "2      의류   39900   3262000  20190101  ...   1   1  화요일  Q1    1  겨울 20.00   \n",
       "3      의류   39900   6955000  20190101  ...   1   1  화요일  Q1    1  겨울 20.00   \n",
       "4      의류   39900   6672000  20190101  ...   1   1  화요일  Q1    1  겨울 20.00   \n",
       "...    ..     ...       ...       ...  ...  ..  ..  ...  ..  ...  ..   ...   \n",
       "35370  주방  148000   1664000  20191231  ...  12  31  화요일  Q4  365  겨울 20.00   \n",
       "35371  주방  178000   9149000  20191231  ...  12  31  화요일  Q4  365  겨울 20.00   \n",
       "35372  주방  168000  15282000  20191231  ...  12  31  화요일  Q4  365  겨울 20.00   \n",
       "35373  주방  158000   2328000  20191231  ...  12  31  화요일  Q4  365  겨울 20.00   \n",
       "35374  주방  148000  10157000  20191231  ...  12  31  화요일  Q4  365  겨울 20.00   \n",
       "\n",
       "       매진여부  취급액boxcox  최소판매수량  \n",
       "0         0     109.82      53  \n",
       "1         0     130.05     110  \n",
       "2         0     121.58      82  \n",
       "3         0     144.68     174  \n",
       "4         0     143.31     167  \n",
       "...     ...        ...     ...  \n",
       "35370     0     104.07      11  \n",
       "35371     0     154.06      51  \n",
       "35372     0     173.20      91  \n",
       "35373     0     112.48      15  \n",
       "35374     0     157.78      69  \n",
       "\n",
       "[35375 rows x 21 columns]"
      ]
     },
     "execution_count": 6,
     "metadata": {},
     "output_type": "execute_result"
    }
   ],
   "source": [
    "raw_data"
   ]
  },
  {
   "cell_type": "markdown",
   "metadata": {},
   "source": [
    "# 주방/ 속옷 / 잡화 / 이미용 / 건강기능 "
   ]
  },
  {
   "cell_type": "code",
   "execution_count": 7,
   "metadata": {},
   "outputs": [],
   "source": [
    "# 1. 주방 "
   ]
  },
  {
   "cell_type": "code",
   "execution_count": 8,
   "metadata": {},
   "outputs": [],
   "source": [
    "#  1-1. 계절 별 취급액 /  월 별 취급액 변화 추이 "
   ]
  },
  {
   "cell_type": "code",
   "execution_count": 9,
   "metadata": {},
   "outputs": [],
   "source": [
    "kitchen_raw = raw_data[raw_data['상품군'] == '주방']"
   ]
  },
  {
   "cell_type": "code",
   "execution_count": 10,
   "metadata": {},
   "outputs": [
    {
     "data": {
      "text/html": [
       "<div>\n",
       "<style scoped>\n",
       "    .dataframe tbody tr th:only-of-type {\n",
       "        vertical-align: middle;\n",
       "    }\n",
       "\n",
       "    .dataframe tbody tr th {\n",
       "        vertical-align: top;\n",
       "    }\n",
       "\n",
       "    .dataframe thead th {\n",
       "        text-align: right;\n",
       "    }\n",
       "</style>\n",
       "<table border=\"1\" class=\"dataframe\">\n",
       "  <thead>\n",
       "    <tr style=\"text-align: right;\">\n",
       "      <th></th>\n",
       "      <th>Unnamed: 0</th>\n",
       "      <th>방송일시</th>\n",
       "      <th>노출(분)</th>\n",
       "      <th>마더코드</th>\n",
       "      <th>상품코드</th>\n",
       "      <th>상품명</th>\n",
       "      <th>상품군</th>\n",
       "      <th>판매단가</th>\n",
       "      <th>취급액</th>\n",
       "      <th>날짜</th>\n",
       "      <th>...</th>\n",
       "      <th>월</th>\n",
       "      <th>일</th>\n",
       "      <th>요일</th>\n",
       "      <th>분기</th>\n",
       "      <th>365일</th>\n",
       "      <th>계절</th>\n",
       "      <th>방송시간</th>\n",
       "      <th>매진여부</th>\n",
       "      <th>취급액boxcox</th>\n",
       "      <th>최소판매수량</th>\n",
       "    </tr>\n",
       "  </thead>\n",
       "  <tbody>\n",
       "    <tr>\n",
       "      <th>20</th>\n",
       "      <td>21</td>\n",
       "      <td>2019-01-01 12:00:00</td>\n",
       "      <td>20.00</td>\n",
       "      <td>100088</td>\n",
       "      <td>200236</td>\n",
       "      <td>에코라믹 통주물 스톤 냄비세트</td>\n",
       "      <td>주방</td>\n",
       "      <td>60900</td>\n",
       "      <td>33823000</td>\n",
       "      <td>20190101</td>\n",
       "      <td>...</td>\n",
       "      <td>1</td>\n",
       "      <td>1</td>\n",
       "      <td>화요일</td>\n",
       "      <td>Q1</td>\n",
       "      <td>1</td>\n",
       "      <td>겨울</td>\n",
       "      <td>20.00</td>\n",
       "      <td>0</td>\n",
       "      <td>207.52</td>\n",
       "      <td>555</td>\n",
       "    </tr>\n",
       "    <tr>\n",
       "      <th>21</th>\n",
       "      <td>22</td>\n",
       "      <td>2019-01-01 12:20:00</td>\n",
       "      <td>20.00</td>\n",
       "      <td>100088</td>\n",
       "      <td>200236</td>\n",
       "      <td>에코라믹 통주물 스톤 냄비세트</td>\n",
       "      <td>주방</td>\n",
       "      <td>60900</td>\n",
       "      <td>59083000</td>\n",
       "      <td>20190101</td>\n",
       "      <td>...</td>\n",
       "      <td>1</td>\n",
       "      <td>1</td>\n",
       "      <td>화요일</td>\n",
       "      <td>Q1</td>\n",
       "      <td>1</td>\n",
       "      <td>겨울</td>\n",
       "      <td>20.00</td>\n",
       "      <td>0</td>\n",
       "      <td>235.50</td>\n",
       "      <td>970</td>\n",
       "    </tr>\n",
       "    <tr>\n",
       "      <th>22</th>\n",
       "      <td>23</td>\n",
       "      <td>2019-01-01 12:40:00</td>\n",
       "      <td>20.00</td>\n",
       "      <td>100088</td>\n",
       "      <td>200236</td>\n",
       "      <td>에코라믹 통주물 스톤 냄비세트</td>\n",
       "      <td>주방</td>\n",
       "      <td>60900</td>\n",
       "      <td>99235000</td>\n",
       "      <td>20190101</td>\n",
       "      <td>...</td>\n",
       "      <td>1</td>\n",
       "      <td>1</td>\n",
       "      <td>화요일</td>\n",
       "      <td>Q1</td>\n",
       "      <td>1</td>\n",
       "      <td>겨울</td>\n",
       "      <td>20.00</td>\n",
       "      <td>0</td>\n",
       "      <td>264.81</td>\n",
       "      <td>1629</td>\n",
       "    </tr>\n",
       "    <tr>\n",
       "      <th>79</th>\n",
       "      <td>80</td>\n",
       "      <td>2019-01-02 10:00:00</td>\n",
       "      <td>20.00</td>\n",
       "      <td>100448</td>\n",
       "      <td>202098</td>\n",
       "      <td>일시불 쿠첸 풀스텐 압력밥솥 10인용 (A1)</td>\n",
       "      <td>주방</td>\n",
       "      <td>158000</td>\n",
       "      <td>7239000</td>\n",
       "      <td>20190102</td>\n",
       "      <td>...</td>\n",
       "      <td>1</td>\n",
       "      <td>2</td>\n",
       "      <td>수요일</td>\n",
       "      <td>Q1</td>\n",
       "      <td>2</td>\n",
       "      <td>겨울</td>\n",
       "      <td>20.00</td>\n",
       "      <td>0</td>\n",
       "      <td>146.02</td>\n",
       "      <td>46</td>\n",
       "    </tr>\n",
       "    <tr>\n",
       "      <th>80</th>\n",
       "      <td>81</td>\n",
       "      <td>2019-01-02 10:00:00</td>\n",
       "      <td>20.00</td>\n",
       "      <td>100448</td>\n",
       "      <td>202093</td>\n",
       "      <td>무이자 쿠첸 풀스텐 압력밥솥 10인용(A1)</td>\n",
       "      <td>주방</td>\n",
       "      <td>168000</td>\n",
       "      <td>8951000</td>\n",
       "      <td>20190102</td>\n",
       "      <td>...</td>\n",
       "      <td>1</td>\n",
       "      <td>2</td>\n",
       "      <td>수요일</td>\n",
       "      <td>Q1</td>\n",
       "      <td>2</td>\n",
       "      <td>겨울</td>\n",
       "      <td>20.00</td>\n",
       "      <td>0</td>\n",
       "      <td>153.29</td>\n",
       "      <td>53</td>\n",
       "    </tr>\n",
       "    <tr>\n",
       "      <th>...</th>\n",
       "      <td>...</td>\n",
       "      <td>...</td>\n",
       "      <td>...</td>\n",
       "      <td>...</td>\n",
       "      <td>...</td>\n",
       "      <td>...</td>\n",
       "      <td>...</td>\n",
       "      <td>...</td>\n",
       "      <td>...</td>\n",
       "      <td>...</td>\n",
       "      <td>...</td>\n",
       "      <td>...</td>\n",
       "      <td>...</td>\n",
       "      <td>...</td>\n",
       "      <td>...</td>\n",
       "      <td>...</td>\n",
       "      <td>...</td>\n",
       "      <td>...</td>\n",
       "      <td>...</td>\n",
       "      <td>...</td>\n",
       "      <td>...</td>\n",
       "    </tr>\n",
       "    <tr>\n",
       "      <th>35370</th>\n",
       "      <td>38296</td>\n",
       "      <td>2019-12-31 23:20:00</td>\n",
       "      <td>20.00</td>\n",
       "      <td>100448</td>\n",
       "      <td>201391</td>\n",
       "      <td>일시불쿠첸압력밥솥 6인용</td>\n",
       "      <td>주방</td>\n",
       "      <td>148000</td>\n",
       "      <td>1664000</td>\n",
       "      <td>20191231</td>\n",
       "      <td>...</td>\n",
       "      <td>12</td>\n",
       "      <td>31</td>\n",
       "      <td>화요일</td>\n",
       "      <td>Q4</td>\n",
       "      <td>365</td>\n",
       "      <td>겨울</td>\n",
       "      <td>20.00</td>\n",
       "      <td>0</td>\n",
       "      <td>104.07</td>\n",
       "      <td>11</td>\n",
       "    </tr>\n",
       "    <tr>\n",
       "      <th>35371</th>\n",
       "      <td>38297</td>\n",
       "      <td>2019-12-31 23:40:00</td>\n",
       "      <td>20.00</td>\n",
       "      <td>100448</td>\n",
       "      <td>201383</td>\n",
       "      <td>무이자쿠첸압력밥솥 10인용</td>\n",
       "      <td>주방</td>\n",
       "      <td>178000</td>\n",
       "      <td>9149000</td>\n",
       "      <td>20191231</td>\n",
       "      <td>...</td>\n",
       "      <td>12</td>\n",
       "      <td>31</td>\n",
       "      <td>화요일</td>\n",
       "      <td>Q4</td>\n",
       "      <td>365</td>\n",
       "      <td>겨울</td>\n",
       "      <td>20.00</td>\n",
       "      <td>0</td>\n",
       "      <td>154.06</td>\n",
       "      <td>51</td>\n",
       "    </tr>\n",
       "    <tr>\n",
       "      <th>35372</th>\n",
       "      <td>38298</td>\n",
       "      <td>2019-12-31 23:40:00</td>\n",
       "      <td>20.00</td>\n",
       "      <td>100448</td>\n",
       "      <td>201390</td>\n",
       "      <td>일시불쿠첸압력밥솥 10인용</td>\n",
       "      <td>주방</td>\n",
       "      <td>168000</td>\n",
       "      <td>15282000</td>\n",
       "      <td>20191231</td>\n",
       "      <td>...</td>\n",
       "      <td>12</td>\n",
       "      <td>31</td>\n",
       "      <td>화요일</td>\n",
       "      <td>Q4</td>\n",
       "      <td>365</td>\n",
       "      <td>겨울</td>\n",
       "      <td>20.00</td>\n",
       "      <td>0</td>\n",
       "      <td>173.20</td>\n",
       "      <td>91</td>\n",
       "    </tr>\n",
       "    <tr>\n",
       "      <th>35373</th>\n",
       "      <td>38299</td>\n",
       "      <td>2019-12-31 23:40:00</td>\n",
       "      <td>20.00</td>\n",
       "      <td>100448</td>\n",
       "      <td>201384</td>\n",
       "      <td>무이자쿠첸압력밥솥 6인용</td>\n",
       "      <td>주방</td>\n",
       "      <td>158000</td>\n",
       "      <td>2328000</td>\n",
       "      <td>20191231</td>\n",
       "      <td>...</td>\n",
       "      <td>12</td>\n",
       "      <td>31</td>\n",
       "      <td>화요일</td>\n",
       "      <td>Q4</td>\n",
       "      <td>365</td>\n",
       "      <td>겨울</td>\n",
       "      <td>20.00</td>\n",
       "      <td>0</td>\n",
       "      <td>112.48</td>\n",
       "      <td>15</td>\n",
       "    </tr>\n",
       "    <tr>\n",
       "      <th>35374</th>\n",
       "      <td>38300</td>\n",
       "      <td>2019-12-31 23:40:00</td>\n",
       "      <td>20.00</td>\n",
       "      <td>100448</td>\n",
       "      <td>201391</td>\n",
       "      <td>일시불쿠첸압력밥솥 6인용</td>\n",
       "      <td>주방</td>\n",
       "      <td>148000</td>\n",
       "      <td>10157000</td>\n",
       "      <td>20191231</td>\n",
       "      <td>...</td>\n",
       "      <td>12</td>\n",
       "      <td>31</td>\n",
       "      <td>화요일</td>\n",
       "      <td>Q4</td>\n",
       "      <td>365</td>\n",
       "      <td>겨울</td>\n",
       "      <td>20.00</td>\n",
       "      <td>0</td>\n",
       "      <td>157.78</td>\n",
       "      <td>69</td>\n",
       "    </tr>\n",
       "  </tbody>\n",
       "</table>\n",
       "<p>6567 rows × 21 columns</p>\n",
       "</div>"
      ],
      "text/plain": [
       "       Unnamed: 0                방송일시  노출(분)    마더코드    상품코드  \\\n",
       "20             21 2019-01-01 12:00:00  20.00  100088  200236   \n",
       "21             22 2019-01-01 12:20:00  20.00  100088  200236   \n",
       "22             23 2019-01-01 12:40:00  20.00  100088  200236   \n",
       "79             80 2019-01-02 10:00:00  20.00  100448  202098   \n",
       "80             81 2019-01-02 10:00:00  20.00  100448  202093   \n",
       "...           ...                 ...    ...     ...     ...   \n",
       "35370       38296 2019-12-31 23:20:00  20.00  100448  201391   \n",
       "35371       38297 2019-12-31 23:40:00  20.00  100448  201383   \n",
       "35372       38298 2019-12-31 23:40:00  20.00  100448  201390   \n",
       "35373       38299 2019-12-31 23:40:00  20.00  100448  201384   \n",
       "35374       38300 2019-12-31 23:40:00  20.00  100448  201391   \n",
       "\n",
       "                             상품명 상품군    판매단가       취급액        날짜  ...   월   일  \\\n",
       "20              에코라믹 통주물 스톤 냄비세트  주방   60900  33823000  20190101  ...   1   1   \n",
       "21              에코라믹 통주물 스톤 냄비세트  주방   60900  59083000  20190101  ...   1   1   \n",
       "22              에코라믹 통주물 스톤 냄비세트  주방   60900  99235000  20190101  ...   1   1   \n",
       "79     일시불 쿠첸 풀스텐 압력밥솥 10인용 (A1)  주방  158000   7239000  20190102  ...   1   2   \n",
       "80      무이자 쿠첸 풀스텐 압력밥솥 10인용(A1)  주방  168000   8951000  20190102  ...   1   2   \n",
       "...                          ...  ..     ...       ...       ...  ...  ..  ..   \n",
       "35370              일시불쿠첸압력밥솥 6인용  주방  148000   1664000  20191231  ...  12  31   \n",
       "35371             무이자쿠첸압력밥솥 10인용  주방  178000   9149000  20191231  ...  12  31   \n",
       "35372             일시불쿠첸압력밥솥 10인용  주방  168000  15282000  20191231  ...  12  31   \n",
       "35373              무이자쿠첸압력밥솥 6인용  주방  158000   2328000  20191231  ...  12  31   \n",
       "35374              일시불쿠첸압력밥솥 6인용  주방  148000  10157000  20191231  ...  12  31   \n",
       "\n",
       "        요일  분기 365일  계절  방송시간  매진여부  취급액boxcox  최소판매수량  \n",
       "20     화요일  Q1    1  겨울 20.00     0     207.52     555  \n",
       "21     화요일  Q1    1  겨울 20.00     0     235.50     970  \n",
       "22     화요일  Q1    1  겨울 20.00     0     264.81    1629  \n",
       "79     수요일  Q1    2  겨울 20.00     0     146.02      46  \n",
       "80     수요일  Q1    2  겨울 20.00     0     153.29      53  \n",
       "...    ...  ..  ...  ..   ...   ...        ...     ...  \n",
       "35370  화요일  Q4  365  겨울 20.00     0     104.07      11  \n",
       "35371  화요일  Q4  365  겨울 20.00     0     154.06      51  \n",
       "35372  화요일  Q4  365  겨울 20.00     0     173.20      91  \n",
       "35373  화요일  Q4  365  겨울 20.00     0     112.48      15  \n",
       "35374  화요일  Q4  365  겨울 20.00     0     157.78      69  \n",
       "\n",
       "[6567 rows x 21 columns]"
      ]
     },
     "execution_count": 10,
     "metadata": {},
     "output_type": "execute_result"
    }
   ],
   "source": [
    "kitchen_raw"
   ]
  },
  {
   "cell_type": "code",
   "execution_count": 11,
   "metadata": {},
   "outputs": [
    {
     "data": {
      "text/plain": [
       "<bound method DataFrame.info of        Unnamed: 0                방송일시  노출(분)    마더코드    상품코드  \\\n",
       "20             21 2019-01-01 12:00:00  20.00  100088  200236   \n",
       "21             22 2019-01-01 12:20:00  20.00  100088  200236   \n",
       "22             23 2019-01-01 12:40:00  20.00  100088  200236   \n",
       "79             80 2019-01-02 10:00:00  20.00  100448  202098   \n",
       "80             81 2019-01-02 10:00:00  20.00  100448  202093   \n",
       "...           ...                 ...    ...     ...     ...   \n",
       "35370       38296 2019-12-31 23:20:00  20.00  100448  201391   \n",
       "35371       38297 2019-12-31 23:40:00  20.00  100448  201383   \n",
       "35372       38298 2019-12-31 23:40:00  20.00  100448  201390   \n",
       "35373       38299 2019-12-31 23:40:00  20.00  100448  201384   \n",
       "35374       38300 2019-12-31 23:40:00  20.00  100448  201391   \n",
       "\n",
       "                             상품명 상품군    판매단가       취급액        날짜  ...   월   일  \\\n",
       "20              에코라믹 통주물 스톤 냄비세트  주방   60900  33823000  20190101  ...   1   1   \n",
       "21              에코라믹 통주물 스톤 냄비세트  주방   60900  59083000  20190101  ...   1   1   \n",
       "22              에코라믹 통주물 스톤 냄비세트  주방   60900  99235000  20190101  ...   1   1   \n",
       "79     일시불 쿠첸 풀스텐 압력밥솥 10인용 (A1)  주방  158000   7239000  20190102  ...   1   2   \n",
       "80      무이자 쿠첸 풀스텐 압력밥솥 10인용(A1)  주방  168000   8951000  20190102  ...   1   2   \n",
       "...                          ...  ..     ...       ...       ...  ...  ..  ..   \n",
       "35370              일시불쿠첸압력밥솥 6인용  주방  148000   1664000  20191231  ...  12  31   \n",
       "35371             무이자쿠첸압력밥솥 10인용  주방  178000   9149000  20191231  ...  12  31   \n",
       "35372             일시불쿠첸압력밥솥 10인용  주방  168000  15282000  20191231  ...  12  31   \n",
       "35373              무이자쿠첸압력밥솥 6인용  주방  158000   2328000  20191231  ...  12  31   \n",
       "35374              일시불쿠첸압력밥솥 6인용  주방  148000  10157000  20191231  ...  12  31   \n",
       "\n",
       "        요일  분기 365일  계절  방송시간  매진여부  취급액boxcox  최소판매수량  \n",
       "20     화요일  Q1    1  겨울 20.00     0     207.52     555  \n",
       "21     화요일  Q1    1  겨울 20.00     0     235.50     970  \n",
       "22     화요일  Q1    1  겨울 20.00     0     264.81    1629  \n",
       "79     수요일  Q1    2  겨울 20.00     0     146.02      46  \n",
       "80     수요일  Q1    2  겨울 20.00     0     153.29      53  \n",
       "...    ...  ..  ...  ..   ...   ...        ...     ...  \n",
       "35370  화요일  Q4  365  겨울 20.00     0     104.07      11  \n",
       "35371  화요일  Q4  365  겨울 20.00     0     154.06      51  \n",
       "35372  화요일  Q4  365  겨울 20.00     0     173.20      91  \n",
       "35373  화요일  Q4  365  겨울 20.00     0     112.48      15  \n",
       "35374  화요일  Q4  365  겨울 20.00     0     157.78      69  \n",
       "\n",
       "[6567 rows x 21 columns]>"
      ]
     },
     "execution_count": 11,
     "metadata": {},
     "output_type": "execute_result"
    }
   ],
   "source": [
    "kitchen_raw.info\n",
    "# 6567 행, "
   ]
  },
  {
   "cell_type": "code",
   "execution_count": 12,
   "metadata": {},
   "outputs": [],
   "source": [
    "# sales_by_season = kitchen_raw['상품명','판매단가','취급액','월','일','요일','계절','최소판매수량']"
   ]
  },
  {
   "cell_type": "code",
   "execution_count": 13,
   "metadata": {},
   "outputs": [],
   "source": [
    "# sales_by_season_full = pd.DataFrame(kitchen_raw, columns =['상품명','판매단가','취급액','계절','최소판매수량'])"
   ]
  },
  {
   "cell_type": "code",
   "execution_count": 14,
   "metadata": {},
   "outputs": [],
   "source": [
    "sales_by_season = pd.DataFrame(kitchen_raw, columns =['취급액','계절'])"
   ]
  },
  {
   "cell_type": "code",
   "execution_count": null,
   "metadata": {},
   "outputs": [],
   "source": []
  },
  {
   "cell_type": "code",
   "execution_count": 15,
   "metadata": {},
   "outputs": [
    {
     "data": {
      "text/html": [
       "<div>\n",
       "<style scoped>\n",
       "    .dataframe tbody tr th:only-of-type {\n",
       "        vertical-align: middle;\n",
       "    }\n",
       "\n",
       "    .dataframe tbody tr th {\n",
       "        vertical-align: top;\n",
       "    }\n",
       "\n",
       "    .dataframe thead th {\n",
       "        text-align: right;\n",
       "    }\n",
       "</style>\n",
       "<table border=\"1\" class=\"dataframe\">\n",
       "  <thead>\n",
       "    <tr style=\"text-align: right;\">\n",
       "      <th></th>\n",
       "      <th>취급액</th>\n",
       "      <th>계절</th>\n",
       "    </tr>\n",
       "  </thead>\n",
       "  <tbody>\n",
       "    <tr>\n",
       "      <th>20</th>\n",
       "      <td>33823000</td>\n",
       "      <td>겨울</td>\n",
       "    </tr>\n",
       "    <tr>\n",
       "      <th>21</th>\n",
       "      <td>59083000</td>\n",
       "      <td>겨울</td>\n",
       "    </tr>\n",
       "    <tr>\n",
       "      <th>22</th>\n",
       "      <td>99235000</td>\n",
       "      <td>겨울</td>\n",
       "    </tr>\n",
       "    <tr>\n",
       "      <th>79</th>\n",
       "      <td>7239000</td>\n",
       "      <td>겨울</td>\n",
       "    </tr>\n",
       "    <tr>\n",
       "      <th>80</th>\n",
       "      <td>8951000</td>\n",
       "      <td>겨울</td>\n",
       "    </tr>\n",
       "    <tr>\n",
       "      <th>...</th>\n",
       "      <td>...</td>\n",
       "      <td>...</td>\n",
       "    </tr>\n",
       "    <tr>\n",
       "      <th>35370</th>\n",
       "      <td>1664000</td>\n",
       "      <td>겨울</td>\n",
       "    </tr>\n",
       "    <tr>\n",
       "      <th>35371</th>\n",
       "      <td>9149000</td>\n",
       "      <td>겨울</td>\n",
       "    </tr>\n",
       "    <tr>\n",
       "      <th>35372</th>\n",
       "      <td>15282000</td>\n",
       "      <td>겨울</td>\n",
       "    </tr>\n",
       "    <tr>\n",
       "      <th>35373</th>\n",
       "      <td>2328000</td>\n",
       "      <td>겨울</td>\n",
       "    </tr>\n",
       "    <tr>\n",
       "      <th>35374</th>\n",
       "      <td>10157000</td>\n",
       "      <td>겨울</td>\n",
       "    </tr>\n",
       "  </tbody>\n",
       "</table>\n",
       "<p>6567 rows × 2 columns</p>\n",
       "</div>"
      ],
      "text/plain": [
       "            취급액  계절\n",
       "20     33823000  겨울\n",
       "21     59083000  겨울\n",
       "22     99235000  겨울\n",
       "79      7239000  겨울\n",
       "80      8951000  겨울\n",
       "...         ...  ..\n",
       "35370   1664000  겨울\n",
       "35371   9149000  겨울\n",
       "35372  15282000  겨울\n",
       "35373   2328000  겨울\n",
       "35374  10157000  겨울\n",
       "\n",
       "[6567 rows x 2 columns]"
      ]
     },
     "execution_count": 15,
     "metadata": {},
     "output_type": "execute_result"
    }
   ],
   "source": [
    "sales_by_season"
   ]
  },
  {
   "cell_type": "code",
   "execution_count": 16,
   "metadata": {},
   "outputs": [],
   "source": [
    "group_season = sales_by_season.groupby(['계절'])"
   ]
  },
  {
   "cell_type": "code",
   "execution_count": 17,
   "metadata": {},
   "outputs": [],
   "source": [
    "sns.set(rc = {\"figure.figsize\": (14,6)})"
   ]
  },
  {
   "cell_type": "code",
   "execution_count": 18,
   "metadata": {},
   "outputs": [],
   "source": [
    "flierprops = dict(marker = 'o', markersize = 5)"
   ]
  },
  {
   "cell_type": "code",
   "execution_count": 19,
   "metadata": {},
   "outputs": [
    {
     "name": "stderr",
     "output_type": "stream",
     "text": [
      "C:\\ProgramData\\Anaconda3\\lib\\site-packages\\matplotlib\\backends\\backend_agg.py:211: RuntimeWarning: Glyph 44200 missing from current font.\n",
      "  font.set_text(s, 0.0, flags=flags)\n",
      "C:\\ProgramData\\Anaconda3\\lib\\site-packages\\matplotlib\\backends\\backend_agg.py:211: RuntimeWarning: Glyph 50872 missing from current font.\n",
      "  font.set_text(s, 0.0, flags=flags)\n",
      "C:\\ProgramData\\Anaconda3\\lib\\site-packages\\matplotlib\\backends\\backend_agg.py:211: RuntimeWarning: Glyph 48388 missing from current font.\n",
      "  font.set_text(s, 0.0, flags=flags)\n",
      "C:\\ProgramData\\Anaconda3\\lib\\site-packages\\matplotlib\\backends\\backend_agg.py:211: RuntimeWarning: Glyph 50668 missing from current font.\n",
      "  font.set_text(s, 0.0, flags=flags)\n",
      "C:\\ProgramData\\Anaconda3\\lib\\site-packages\\matplotlib\\backends\\backend_agg.py:211: RuntimeWarning: Glyph 47492 missing from current font.\n",
      "  font.set_text(s, 0.0, flags=flags)\n",
      "C:\\ProgramData\\Anaconda3\\lib\\site-packages\\matplotlib\\backends\\backend_agg.py:211: RuntimeWarning: Glyph 44032 missing from current font.\n",
      "  font.set_text(s, 0.0, flags=flags)\n",
      "C:\\ProgramData\\Anaconda3\\lib\\site-packages\\matplotlib\\backends\\backend_agg.py:211: RuntimeWarning: Glyph 51012 missing from current font.\n",
      "  font.set_text(s, 0.0, flags=flags)\n",
      "C:\\ProgramData\\Anaconda3\\lib\\site-packages\\matplotlib\\backends\\backend_agg.py:211: RuntimeWarning: Glyph 44228 missing from current font.\n",
      "  font.set_text(s, 0.0, flags=flags)\n",
      "C:\\ProgramData\\Anaconda3\\lib\\site-packages\\matplotlib\\backends\\backend_agg.py:211: RuntimeWarning: Glyph 51208 missing from current font.\n",
      "  font.set_text(s, 0.0, flags=flags)\n",
      "C:\\ProgramData\\Anaconda3\\lib\\site-packages\\matplotlib\\backends\\backend_agg.py:180: RuntimeWarning: Glyph 44200 missing from current font.\n",
      "  font.set_text(s, 0, flags=flags)\n",
      "C:\\ProgramData\\Anaconda3\\lib\\site-packages\\matplotlib\\backends\\backend_agg.py:180: RuntimeWarning: Glyph 50872 missing from current font.\n",
      "  font.set_text(s, 0, flags=flags)\n",
      "C:\\ProgramData\\Anaconda3\\lib\\site-packages\\matplotlib\\backends\\backend_agg.py:176: RuntimeWarning: Glyph 48388 missing from current font.\n",
      "  font.load_char(ord(s), flags=flags)\n",
      "C:\\ProgramData\\Anaconda3\\lib\\site-packages\\matplotlib\\backends\\backend_agg.py:180: RuntimeWarning: Glyph 50668 missing from current font.\n",
      "  font.set_text(s, 0, flags=flags)\n",
      "C:\\ProgramData\\Anaconda3\\lib\\site-packages\\matplotlib\\backends\\backend_agg.py:180: RuntimeWarning: Glyph 47492 missing from current font.\n",
      "  font.set_text(s, 0, flags=flags)\n",
      "C:\\ProgramData\\Anaconda3\\lib\\site-packages\\matplotlib\\backends\\backend_agg.py:180: RuntimeWarning: Glyph 44032 missing from current font.\n",
      "  font.set_text(s, 0, flags=flags)\n",
      "C:\\ProgramData\\Anaconda3\\lib\\site-packages\\matplotlib\\backends\\backend_agg.py:180: RuntimeWarning: Glyph 51012 missing from current font.\n",
      "  font.set_text(s, 0, flags=flags)\n",
      "C:\\ProgramData\\Anaconda3\\lib\\site-packages\\matplotlib\\backends\\backend_agg.py:180: RuntimeWarning: Glyph 44228 missing from current font.\n",
      "  font.set_text(s, 0, flags=flags)\n",
      "C:\\ProgramData\\Anaconda3\\lib\\site-packages\\matplotlib\\backends\\backend_agg.py:180: RuntimeWarning: Glyph 51208 missing from current font.\n",
      "  font.set_text(s, 0, flags=flags)\n",
      "C:\\ProgramData\\Anaconda3\\lib\\site-packages\\matplotlib\\backends\\backend_agg.py:211: RuntimeWarning: Glyph 52712 missing from current font.\n",
      "  font.set_text(s, 0.0, flags=flags)\n",
      "C:\\ProgramData\\Anaconda3\\lib\\site-packages\\matplotlib\\backends\\backend_agg.py:211: RuntimeWarning: Glyph 44553 missing from current font.\n",
      "  font.set_text(s, 0.0, flags=flags)\n",
      "C:\\ProgramData\\Anaconda3\\lib\\site-packages\\matplotlib\\backends\\backend_agg.py:211: RuntimeWarning: Glyph 50529 missing from current font.\n",
      "  font.set_text(s, 0.0, flags=flags)\n",
      "C:\\ProgramData\\Anaconda3\\lib\\site-packages\\matplotlib\\backends\\backend_agg.py:180: RuntimeWarning: Glyph 52712 missing from current font.\n",
      "  font.set_text(s, 0, flags=flags)\n",
      "C:\\ProgramData\\Anaconda3\\lib\\site-packages\\matplotlib\\backends\\backend_agg.py:180: RuntimeWarning: Glyph 44553 missing from current font.\n",
      "  font.set_text(s, 0, flags=flags)\n",
      "C:\\ProgramData\\Anaconda3\\lib\\site-packages\\matplotlib\\backends\\backend_agg.py:180: RuntimeWarning: Glyph 50529 missing from current font.\n",
      "  font.set_text(s, 0, flags=flags)\n"
     ]
    },
    {
     "data": {
      "image/png": "[encoded data removed]",
      "text/plain": [
       "<Figure size 1008x432 with 1 Axes>"
      ]
     },
     "metadata": {},
     "output_type": "display_data"
    }
   ],
   "source": [
    "sns.boxplot(x = '계절', y='취급액',  data = sales_by_season, flierprops = flierprops)\n",
    "plt.show()"
   ]
  },
  {
   "cell_type": "code",
   "execution_count": 20,
   "metadata": {},
   "outputs": [],
   "source": [
    "season_sum = group_season['취급액'].sum()\n",
    "season_mean = group_season['취급액'].mean()"
   ]
  },
  {
   "cell_type": "code",
   "execution_count": null,
   "metadata": {},
   "outputs": [],
   "source": []
  },
  {
   "cell_type": "code",
   "execution_count": 21,
   "metadata": {},
   "outputs": [
    {
     "data": {
      "text/plain": [
       "계절\n",
       "가을    29203429000\n",
       "겨울    36065434000\n",
       "봄     30520601000\n",
       "여름    30855573000\n",
       "Name: 취급액, dtype: int64"
      ]
     },
     "execution_count": 21,
     "metadata": {},
     "output_type": "execute_result"
    }
   ],
   "source": [
    "season_sum"
   ]
  },
  {
   "cell_type": "code",
   "execution_count": 22,
   "metadata": {},
   "outputs": [],
   "source": [
    "season_sum_sort = pd.Series(season_sum, ('봄','여름','가을','겨울'))   # 봄 -> 여름 -> 가을 -> 겨울 순으로 정렬 "
   ]
  },
  {
   "cell_type": "code",
   "execution_count": 23,
   "metadata": {},
   "outputs": [
    {
     "data": {
      "text/plain": [
       "봄     30520601000\n",
       "여름    30855573000\n",
       "가을    29203429000\n",
       "겨울    36065434000\n",
       "Name: 취급액, dtype: int64"
      ]
     },
     "execution_count": 23,
     "metadata": {},
     "output_type": "execute_result"
    }
   ],
   "source": [
    "season_sum_sort"
   ]
  },
  {
   "cell_type": "code",
   "execution_count": 24,
   "metadata": {
    "scrolled": false
   },
   "outputs": [
    {
     "data": {
      "text/plain": [
       "Text(0, 0.5, '취급액 총액')"
      ]
     },
     "execution_count": 24,
     "metadata": {},
     "output_type": "execute_result"
    },
    {
     "name": "stderr",
     "output_type": "stream",
     "text": [
      "C:\\ProgramData\\Anaconda3\\lib\\site-packages\\matplotlib\\backends\\backend_agg.py:211: RuntimeWarning: Glyph 48388 missing from current font.\n",
      "  font.set_text(s, 0.0, flags=flags)\n",
      "C:\\ProgramData\\Anaconda3\\lib\\site-packages\\matplotlib\\backends\\backend_agg.py:211: RuntimeWarning: Glyph 50668 missing from current font.\n",
      "  font.set_text(s, 0.0, flags=flags)\n",
      "C:\\ProgramData\\Anaconda3\\lib\\site-packages\\matplotlib\\backends\\backend_agg.py:211: RuntimeWarning: Glyph 47492 missing from current font.\n",
      "  font.set_text(s, 0.0, flags=flags)\n",
      "C:\\ProgramData\\Anaconda3\\lib\\site-packages\\matplotlib\\backends\\backend_agg.py:211: RuntimeWarning: Glyph 44032 missing from current font.\n",
      "  font.set_text(s, 0.0, flags=flags)\n",
      "C:\\ProgramData\\Anaconda3\\lib\\site-packages\\matplotlib\\backends\\backend_agg.py:211: RuntimeWarning: Glyph 51012 missing from current font.\n",
      "  font.set_text(s, 0.0, flags=flags)\n",
      "C:\\ProgramData\\Anaconda3\\lib\\site-packages\\matplotlib\\backends\\backend_agg.py:211: RuntimeWarning: Glyph 44200 missing from current font.\n",
      "  font.set_text(s, 0.0, flags=flags)\n",
      "C:\\ProgramData\\Anaconda3\\lib\\site-packages\\matplotlib\\backends\\backend_agg.py:211: RuntimeWarning: Glyph 50872 missing from current font.\n",
      "  font.set_text(s, 0.0, flags=flags)\n",
      "C:\\ProgramData\\Anaconda3\\lib\\site-packages\\matplotlib\\backends\\backend_agg.py:211: RuntimeWarning: Glyph 44228 missing from current font.\n",
      "  font.set_text(s, 0.0, flags=flags)\n",
      "C:\\ProgramData\\Anaconda3\\lib\\site-packages\\matplotlib\\backends\\backend_agg.py:211: RuntimeWarning: Glyph 51208 missing from current font.\n",
      "  font.set_text(s, 0.0, flags=flags)\n",
      "C:\\ProgramData\\Anaconda3\\lib\\site-packages\\matplotlib\\backends\\backend_agg.py:211: RuntimeWarning: Glyph 48324 missing from current font.\n",
      "  font.set_text(s, 0.0, flags=flags)\n",
      "C:\\ProgramData\\Anaconda3\\lib\\site-packages\\matplotlib\\backends\\backend_agg.py:211: RuntimeWarning: Glyph 52712 missing from current font.\n",
      "  font.set_text(s, 0.0, flags=flags)\n",
      "C:\\ProgramData\\Anaconda3\\lib\\site-packages\\matplotlib\\backends\\backend_agg.py:211: RuntimeWarning: Glyph 44553 missing from current font.\n",
      "  font.set_text(s, 0.0, flags=flags)\n",
      "C:\\ProgramData\\Anaconda3\\lib\\site-packages\\matplotlib\\backends\\backend_agg.py:211: RuntimeWarning: Glyph 50529 missing from current font.\n",
      "  font.set_text(s, 0.0, flags=flags)\n",
      "C:\\ProgramData\\Anaconda3\\lib\\site-packages\\matplotlib\\backends\\backend_agg.py:211: RuntimeWarning: Glyph 52509 missing from current font.\n",
      "  font.set_text(s, 0.0, flags=flags)\n",
      "C:\\ProgramData\\Anaconda3\\lib\\site-packages\\matplotlib\\backends\\backend_agg.py:176: RuntimeWarning: Glyph 48388 missing from current font.\n",
      "  font.load_char(ord(s), flags=flags)\n",
      "C:\\ProgramData\\Anaconda3\\lib\\site-packages\\matplotlib\\backends\\backend_agg.py:180: RuntimeWarning: Glyph 50668 missing from current font.\n",
      "  font.set_text(s, 0, flags=flags)\n",
      "C:\\ProgramData\\Anaconda3\\lib\\site-packages\\matplotlib\\backends\\backend_agg.py:180: RuntimeWarning: Glyph 47492 missing from current font.\n",
      "  font.set_text(s, 0, flags=flags)\n",
      "C:\\ProgramData\\Anaconda3\\lib\\site-packages\\matplotlib\\backends\\backend_agg.py:180: RuntimeWarning: Glyph 44032 missing from current font.\n",
      "  font.set_text(s, 0, flags=flags)\n",
      "C:\\ProgramData\\Anaconda3\\lib\\site-packages\\matplotlib\\backends\\backend_agg.py:180: RuntimeWarning: Glyph 51012 missing from current font.\n",
      "  font.set_text(s, 0, flags=flags)\n",
      "C:\\ProgramData\\Anaconda3\\lib\\site-packages\\matplotlib\\backends\\backend_agg.py:180: RuntimeWarning: Glyph 44200 missing from current font.\n",
      "  font.set_text(s, 0, flags=flags)\n",
      "C:\\ProgramData\\Anaconda3\\lib\\site-packages\\matplotlib\\backends\\backend_agg.py:180: RuntimeWarning: Glyph 50872 missing from current font.\n",
      "  font.set_text(s, 0, flags=flags)\n",
      "C:\\ProgramData\\Anaconda3\\lib\\site-packages\\matplotlib\\backends\\backend_agg.py:180: RuntimeWarning: Glyph 44228 missing from current font.\n",
      "  font.set_text(s, 0, flags=flags)\n",
      "C:\\ProgramData\\Anaconda3\\lib\\site-packages\\matplotlib\\backends\\backend_agg.py:180: RuntimeWarning: Glyph 51208 missing from current font.\n",
      "  font.set_text(s, 0, flags=flags)\n",
      "C:\\ProgramData\\Anaconda3\\lib\\site-packages\\matplotlib\\backends\\backend_agg.py:180: RuntimeWarning: Glyph 52712 missing from current font.\n",
      "  font.set_text(s, 0, flags=flags)\n",
      "C:\\ProgramData\\Anaconda3\\lib\\site-packages\\matplotlib\\backends\\backend_agg.py:180: RuntimeWarning: Glyph 44553 missing from current font.\n",
      "  font.set_text(s, 0, flags=flags)\n",
      "C:\\ProgramData\\Anaconda3\\lib\\site-packages\\matplotlib\\backends\\backend_agg.py:180: RuntimeWarning: Glyph 50529 missing from current font.\n",
      "  font.set_text(s, 0, flags=flags)\n",
      "C:\\ProgramData\\Anaconda3\\lib\\site-packages\\matplotlib\\backends\\backend_agg.py:180: RuntimeWarning: Glyph 52509 missing from current font.\n",
      "  font.set_text(s, 0, flags=flags)\n",
      "C:\\ProgramData\\Anaconda3\\lib\\site-packages\\matplotlib\\backends\\backend_agg.py:180: RuntimeWarning: Glyph 48324 missing from current font.\n",
      "  font.set_text(s, 0, flags=flags)\n"
     ]
    },
    {
     "data": {
      "image/png": "[encoded data removed]",
      "text/plain": [
       "<Figure size 1008x432 with 1 Axes>"
      ]
     },
     "metadata": {},
     "output_type": "display_data"
    }
   ],
   "source": [
    "season_sum_sort.plot()\n",
    "plt.title(\"계절별 취급액 총액\")\n",
    "plt.xlabel(\"계절\")\n",
    "plt.ylabel(\"취급액 총액\")"
   ]
  },
  {
   "cell_type": "code",
   "execution_count": 25,
   "metadata": {},
   "outputs": [
    {
     "data": {
      "text/plain": [
       "<matplotlib.axes._subplots.AxesSubplot at 0x1ecc54eda48>"
      ]
     },
     "execution_count": 25,
     "metadata": {},
     "output_type": "execute_result"
    },
    {
     "name": "stderr",
     "output_type": "stream",
     "text": [
      "C:\\ProgramData\\Anaconda3\\lib\\site-packages\\matplotlib\\backends\\backend_agg.py:211: RuntimeWarning: Glyph 52712 missing from current font.\n",
      "  font.set_text(s, 0.0, flags=flags)\n",
      "C:\\ProgramData\\Anaconda3\\lib\\site-packages\\matplotlib\\backends\\backend_agg.py:211: RuntimeWarning: Glyph 44553 missing from current font.\n",
      "  font.set_text(s, 0.0, flags=flags)\n",
      "C:\\ProgramData\\Anaconda3\\lib\\site-packages\\matplotlib\\backends\\backend_agg.py:211: RuntimeWarning: Glyph 50529 missing from current font.\n",
      "  font.set_text(s, 0.0, flags=flags)\n",
      "C:\\ProgramData\\Anaconda3\\lib\\site-packages\\matplotlib\\backends\\backend_agg.py:180: RuntimeWarning: Glyph 52712 missing from current font.\n",
      "  font.set_text(s, 0, flags=flags)\n",
      "C:\\ProgramData\\Anaconda3\\lib\\site-packages\\matplotlib\\backends\\backend_agg.py:180: RuntimeWarning: Glyph 44553 missing from current font.\n",
      "  font.set_text(s, 0, flags=flags)\n",
      "C:\\ProgramData\\Anaconda3\\lib\\site-packages\\matplotlib\\backends\\backend_agg.py:180: RuntimeWarning: Glyph 50529 missing from current font.\n",
      "  font.set_text(s, 0, flags=flags)\n"
     ]
    },
    {
     "data": {
      "image/png": "[encoded data removed]",
      "text/plain": [
       "<Figure size 1008x432 with 1 Axes>"
      ]
     },
     "metadata": {},
     "output_type": "display_data"
    }
   ],
   "source": [
    "sales_by_season.plot()"
   ]
  },
  {
   "cell_type": "markdown",
   "metadata": {},
   "source": [
    "# 계절별 취급액 평균 "
   ]
  },
  {
   "cell_type": "code",
   "execution_count": 26,
   "metadata": {},
   "outputs": [
    {
     "data": {
      "text/plain": [
       "계절\n",
       "가을   20565795.07\n",
       "겨울   19348408.80\n",
       "봄    17262783.37\n",
       "여름   20366714.85\n",
       "Name: 취급액, dtype: float64"
      ]
     },
     "execution_count": 26,
     "metadata": {},
     "output_type": "execute_result"
    }
   ],
   "source": [
    "season_mean"
   ]
  },
  {
   "cell_type": "code",
   "execution_count": 27,
   "metadata": {},
   "outputs": [
    {
     "data": {
      "text/plain": [
       "pandas.core.series.Series"
      ]
     },
     "execution_count": 27,
     "metadata": {},
     "output_type": "execute_result"
    }
   ],
   "source": [
    "type(season_mean)"
   ]
  },
  {
   "cell_type": "code",
   "execution_count": 28,
   "metadata": {},
   "outputs": [],
   "source": [
    "season_mean_sort = pd.Series(season_mean, ('봄','여름','가을','겨울'))   # 봄 -> 여름 -> 가을 -> 겨울 순으로 정렬 "
   ]
  },
  {
   "cell_type": "code",
   "execution_count": 29,
   "metadata": {},
   "outputs": [
    {
     "data": {
      "text/plain": [
       "봄    17262783.37\n",
       "여름   20366714.85\n",
       "가을   20565795.07\n",
       "겨울   19348408.80\n",
       "Name: 취급액, dtype: float64"
      ]
     },
     "execution_count": 29,
     "metadata": {},
     "output_type": "execute_result"
    }
   ],
   "source": [
    "season_mean_sort"
   ]
  },
  {
   "cell_type": "code",
   "execution_count": 30,
   "metadata": {},
   "outputs": [
    {
     "name": "stderr",
     "output_type": "stream",
     "text": [
      "C:\\ProgramData\\Anaconda3\\lib\\site-packages\\matplotlib\\backends\\backend_agg.py:211: RuntimeWarning: Glyph 48388 missing from current font.\n",
      "  font.set_text(s, 0.0, flags=flags)\n",
      "C:\\ProgramData\\Anaconda3\\lib\\site-packages\\matplotlib\\backends\\backend_agg.py:211: RuntimeWarning: Glyph 50668 missing from current font.\n",
      "  font.set_text(s, 0.0, flags=flags)\n",
      "C:\\ProgramData\\Anaconda3\\lib\\site-packages\\matplotlib\\backends\\backend_agg.py:211: RuntimeWarning: Glyph 47492 missing from current font.\n",
      "  font.set_text(s, 0.0, flags=flags)\n",
      "C:\\ProgramData\\Anaconda3\\lib\\site-packages\\matplotlib\\backends\\backend_agg.py:211: RuntimeWarning: Glyph 44032 missing from current font.\n",
      "  font.set_text(s, 0.0, flags=flags)\n",
      "C:\\ProgramData\\Anaconda3\\lib\\site-packages\\matplotlib\\backends\\backend_agg.py:211: RuntimeWarning: Glyph 51012 missing from current font.\n",
      "  font.set_text(s, 0.0, flags=flags)\n",
      "C:\\ProgramData\\Anaconda3\\lib\\site-packages\\matplotlib\\backends\\backend_agg.py:211: RuntimeWarning: Glyph 44200 missing from current font.\n",
      "  font.set_text(s, 0.0, flags=flags)\n",
      "C:\\ProgramData\\Anaconda3\\lib\\site-packages\\matplotlib\\backends\\backend_agg.py:211: RuntimeWarning: Glyph 50872 missing from current font.\n",
      "  font.set_text(s, 0.0, flags=flags)\n",
      "C:\\ProgramData\\Anaconda3\\lib\\site-packages\\matplotlib\\backends\\backend_agg.py:211: RuntimeWarning: Glyph 44228 missing from current font.\n",
      "  font.set_text(s, 0.0, flags=flags)\n",
      "C:\\ProgramData\\Anaconda3\\lib\\site-packages\\matplotlib\\backends\\backend_agg.py:211: RuntimeWarning: Glyph 51208 missing from current font.\n",
      "  font.set_text(s, 0.0, flags=flags)\n",
      "C:\\ProgramData\\Anaconda3\\lib\\site-packages\\matplotlib\\backends\\backend_agg.py:211: RuntimeWarning: Glyph 48324 missing from current font.\n",
      "  font.set_text(s, 0.0, flags=flags)\n",
      "C:\\ProgramData\\Anaconda3\\lib\\site-packages\\matplotlib\\backends\\backend_agg.py:211: RuntimeWarning: Glyph 52712 missing from current font.\n",
      "  font.set_text(s, 0.0, flags=flags)\n",
      "C:\\ProgramData\\Anaconda3\\lib\\site-packages\\matplotlib\\backends\\backend_agg.py:211: RuntimeWarning: Glyph 44553 missing from current font.\n",
      "  font.set_text(s, 0.0, flags=flags)\n",
      "C:\\ProgramData\\Anaconda3\\lib\\site-packages\\matplotlib\\backends\\backend_agg.py:211: RuntimeWarning: Glyph 50529 missing from current font.\n",
      "  font.set_text(s, 0.0, flags=flags)\n",
      "C:\\ProgramData\\Anaconda3\\lib\\site-packages\\matplotlib\\backends\\backend_agg.py:211: RuntimeWarning: Glyph 54217 missing from current font.\n",
      "  font.set_text(s, 0.0, flags=flags)\n",
      "C:\\ProgramData\\Anaconda3\\lib\\site-packages\\matplotlib\\backends\\backend_agg.py:211: RuntimeWarning: Glyph 44512 missing from current font.\n",
      "  font.set_text(s, 0.0, flags=flags)\n",
      "C:\\ProgramData\\Anaconda3\\lib\\site-packages\\matplotlib\\backends\\backend_agg.py:176: RuntimeWarning: Glyph 48388 missing from current font.\n",
      "  font.load_char(ord(s), flags=flags)\n",
      "C:\\ProgramData\\Anaconda3\\lib\\site-packages\\matplotlib\\backends\\backend_agg.py:180: RuntimeWarning: Glyph 50668 missing from current font.\n",
      "  font.set_text(s, 0, flags=flags)\n",
      "C:\\ProgramData\\Anaconda3\\lib\\site-packages\\matplotlib\\backends\\backend_agg.py:180: RuntimeWarning: Glyph 47492 missing from current font.\n",
      "  font.set_text(s, 0, flags=flags)\n",
      "C:\\ProgramData\\Anaconda3\\lib\\site-packages\\matplotlib\\backends\\backend_agg.py:180: RuntimeWarning: Glyph 44032 missing from current font.\n",
      "  font.set_text(s, 0, flags=flags)\n",
      "C:\\ProgramData\\Anaconda3\\lib\\site-packages\\matplotlib\\backends\\backend_agg.py:180: RuntimeWarning: Glyph 51012 missing from current font.\n",
      "  font.set_text(s, 0, flags=flags)\n",
      "C:\\ProgramData\\Anaconda3\\lib\\site-packages\\matplotlib\\backends\\backend_agg.py:180: RuntimeWarning: Glyph 44200 missing from current font.\n",
      "  font.set_text(s, 0, flags=flags)\n",
      "C:\\ProgramData\\Anaconda3\\lib\\site-packages\\matplotlib\\backends\\backend_agg.py:180: RuntimeWarning: Glyph 50872 missing from current font.\n",
      "  font.set_text(s, 0, flags=flags)\n",
      "C:\\ProgramData\\Anaconda3\\lib\\site-packages\\matplotlib\\backends\\backend_agg.py:180: RuntimeWarning: Glyph 44228 missing from current font.\n",
      "  font.set_text(s, 0, flags=flags)\n",
      "C:\\ProgramData\\Anaconda3\\lib\\site-packages\\matplotlib\\backends\\backend_agg.py:180: RuntimeWarning: Glyph 51208 missing from current font.\n",
      "  font.set_text(s, 0, flags=flags)\n",
      "C:\\ProgramData\\Anaconda3\\lib\\site-packages\\matplotlib\\backends\\backend_agg.py:180: RuntimeWarning: Glyph 52712 missing from current font.\n",
      "  font.set_text(s, 0, flags=flags)\n",
      "C:\\ProgramData\\Anaconda3\\lib\\site-packages\\matplotlib\\backends\\backend_agg.py:180: RuntimeWarning: Glyph 44553 missing from current font.\n",
      "  font.set_text(s, 0, flags=flags)\n",
      "C:\\ProgramData\\Anaconda3\\lib\\site-packages\\matplotlib\\backends\\backend_agg.py:180: RuntimeWarning: Glyph 50529 missing from current font.\n",
      "  font.set_text(s, 0, flags=flags)\n",
      "C:\\ProgramData\\Anaconda3\\lib\\site-packages\\matplotlib\\backends\\backend_agg.py:180: RuntimeWarning: Glyph 54217 missing from current font.\n",
      "  font.set_text(s, 0, flags=flags)\n",
      "C:\\ProgramData\\Anaconda3\\lib\\site-packages\\matplotlib\\backends\\backend_agg.py:180: RuntimeWarning: Glyph 44512 missing from current font.\n",
      "  font.set_text(s, 0, flags=flags)\n",
      "C:\\ProgramData\\Anaconda3\\lib\\site-packages\\matplotlib\\backends\\backend_agg.py:180: RuntimeWarning: Glyph 48324 missing from current font.\n",
      "  font.set_text(s, 0, flags=flags)\n"
     ]
    },
    {
     "data": {
      "image/png": "[encoded data removed]",
      "text/plain": [
       "<Figure size 1008x432 with 1 Axes>"
      ]
     },
     "metadata": {},
     "output_type": "display_data"
    }
   ],
   "source": [
    "season_mean_sort.plot()\n",
    "plt.title('계절별 취급액 평균') # 제목을 설정합니다. \n",
    "plt.ylabel('취급액 평균') # y 축의 라벨을 설정합니다. \n",
    "plt.xlabel('계절'); # x 축의 라벨을 설정합니다."
   ]
  },
  {
   "cell_type": "markdown",
   "metadata": {},
   "source": [
    "# 계절별 매진 여부\n"
   ]
  },
  {
   "cell_type": "code",
   "execution_count": 31,
   "metadata": {},
   "outputs": [],
   "source": [
    "soldout_by_season = pd.DataFrame(kitchen_raw, columns =['매진여부','계절'])"
   ]
  },
  {
   "cell_type": "code",
   "execution_count": 32,
   "metadata": {},
   "outputs": [
    {
     "data": {
      "text/html": [
       "<div>\n",
       "<style scoped>\n",
       "    .dataframe tbody tr th:only-of-type {\n",
       "        vertical-align: middle;\n",
       "    }\n",
       "\n",
       "    .dataframe tbody tr th {\n",
       "        vertical-align: top;\n",
       "    }\n",
       "\n",
       "    .dataframe thead th {\n",
       "        text-align: right;\n",
       "    }\n",
       "</style>\n",
       "<table border=\"1\" class=\"dataframe\">\n",
       "  <thead>\n",
       "    <tr style=\"text-align: right;\">\n",
       "      <th></th>\n",
       "      <th>Unnamed: 0</th>\n",
       "      <th>방송일시</th>\n",
       "      <th>노출(분)</th>\n",
       "      <th>마더코드</th>\n",
       "      <th>상품코드</th>\n",
       "      <th>상품명</th>\n",
       "      <th>상품군</th>\n",
       "      <th>판매단가</th>\n",
       "      <th>취급액</th>\n",
       "      <th>날짜</th>\n",
       "      <th>...</th>\n",
       "      <th>월</th>\n",
       "      <th>일</th>\n",
       "      <th>요일</th>\n",
       "      <th>분기</th>\n",
       "      <th>365일</th>\n",
       "      <th>계절</th>\n",
       "      <th>방송시간</th>\n",
       "      <th>매진여부</th>\n",
       "      <th>취급액boxcox</th>\n",
       "      <th>최소판매수량</th>\n",
       "    </tr>\n",
       "  </thead>\n",
       "  <tbody>\n",
       "    <tr>\n",
       "      <th>5692</th>\n",
       "      <td>5962</td>\n",
       "      <td>2019-03-03 12:20:00</td>\n",
       "      <td>12.13</td>\n",
       "      <td>100448</td>\n",
       "      <td>202097</td>\n",
       "      <td>일시불 쿠첸 풀스텐 압력밥솥 10인용</td>\n",
       "      <td>주방</td>\n",
       "      <td>158000</td>\n",
       "      <td>20502000</td>\n",
       "      <td>20190303</td>\n",
       "      <td>...</td>\n",
       "      <td>3</td>\n",
       "      <td>3</td>\n",
       "      <td>일요일</td>\n",
       "      <td>Q1</td>\n",
       "      <td>62</td>\n",
       "      <td>봄</td>\n",
       "      <td>40.00</td>\n",
       "      <td>1</td>\n",
       "      <td>185.20</td>\n",
       "      <td>130</td>\n",
       "    </tr>\n",
       "    <tr>\n",
       "      <th>5693</th>\n",
       "      <td>5964</td>\n",
       "      <td>2019-03-03 12:20:00</td>\n",
       "      <td>12.13</td>\n",
       "      <td>100448</td>\n",
       "      <td>202099</td>\n",
       "      <td>일시불 쿠첸 풀스텐 압력밥솥 6인용(A1)</td>\n",
       "      <td>주방</td>\n",
       "      <td>148000</td>\n",
       "      <td>7496000</td>\n",
       "      <td>20190303</td>\n",
       "      <td>...</td>\n",
       "      <td>3</td>\n",
       "      <td>3</td>\n",
       "      <td>일요일</td>\n",
       "      <td>Q1</td>\n",
       "      <td>62</td>\n",
       "      <td>봄</td>\n",
       "      <td>40.00</td>\n",
       "      <td>1</td>\n",
       "      <td>147.19</td>\n",
       "      <td>51</td>\n",
       "    </tr>\n",
       "    <tr>\n",
       "      <th>5694</th>\n",
       "      <td>5965</td>\n",
       "      <td>2019-03-03 12:20:00</td>\n",
       "      <td>12.13</td>\n",
       "      <td>100448</td>\n",
       "      <td>202094</td>\n",
       "      <td>무이자 쿠첸 풀스텐 압력밥솥 6인용(A1)</td>\n",
       "      <td>주방</td>\n",
       "      <td>158000</td>\n",
       "      <td>6280000</td>\n",
       "      <td>20190303</td>\n",
       "      <td>...</td>\n",
       "      <td>3</td>\n",
       "      <td>3</td>\n",
       "      <td>일요일</td>\n",
       "      <td>Q1</td>\n",
       "      <td>62</td>\n",
       "      <td>봄</td>\n",
       "      <td>40.00</td>\n",
       "      <td>1</td>\n",
       "      <td>141.34</td>\n",
       "      <td>40</td>\n",
       "    </tr>\n",
       "    <tr>\n",
       "      <th>8415</th>\n",
       "      <td>8881</td>\n",
       "      <td>2019-03-31 10:30:00</td>\n",
       "      <td>25.22</td>\n",
       "      <td>100117</td>\n",
       "      <td>200318</td>\n",
       "      <td>델첸  4in1 텀블러블랜더</td>\n",
       "      <td>주방</td>\n",
       "      <td>74800</td>\n",
       "      <td>33264000</td>\n",
       "      <td>20190331</td>\n",
       "      <td>...</td>\n",
       "      <td>3</td>\n",
       "      <td>31</td>\n",
       "      <td>일요일</td>\n",
       "      <td>Q1</td>\n",
       "      <td>90</td>\n",
       "      <td>봄</td>\n",
       "      <td>30.00</td>\n",
       "      <td>1</td>\n",
       "      <td>206.73</td>\n",
       "      <td>445</td>\n",
       "    </tr>\n",
       "    <tr>\n",
       "      <th>9406</th>\n",
       "      <td>10003</td>\n",
       "      <td>2019-04-09 07:30:00</td>\n",
       "      <td>22.37</td>\n",
       "      <td>100117</td>\n",
       "      <td>200318</td>\n",
       "      <td>델첸  4in1 텀블러블랜더</td>\n",
       "      <td>주방</td>\n",
       "      <td>74800</td>\n",
       "      <td>22415000</td>\n",
       "      <td>20190409</td>\n",
       "      <td>...</td>\n",
       "      <td>4</td>\n",
       "      <td>9</td>\n",
       "      <td>화요일</td>\n",
       "      <td>Q2</td>\n",
       "      <td>99</td>\n",
       "      <td>봄</td>\n",
       "      <td>30.00</td>\n",
       "      <td>1</td>\n",
       "      <td>188.99</td>\n",
       "      <td>300</td>\n",
       "    </tr>\n",
       "  </tbody>\n",
       "</table>\n",
       "<p>5 rows × 21 columns</p>\n",
       "</div>"
      ],
      "text/plain": [
       "      Unnamed: 0                방송일시  노출(분)    마더코드    상품코드  \\\n",
       "5692        5962 2019-03-03 12:20:00  12.13  100448  202097   \n",
       "5693        5964 2019-03-03 12:20:00  12.13  100448  202099   \n",
       "5694        5965 2019-03-03 12:20:00  12.13  100448  202094   \n",
       "8415        8881 2019-03-31 10:30:00  25.22  100117  200318   \n",
       "9406       10003 2019-04-09 07:30:00  22.37  100117  200318   \n",
       "\n",
       "                          상품명 상품군    판매단가       취급액        날짜  ...  월   일  \\\n",
       "5692     일시불 쿠첸 풀스텐 압력밥솥 10인용  주방  158000  20502000  20190303  ...  3   3   \n",
       "5693  일시불 쿠첸 풀스텐 압력밥솥 6인용(A1)  주방  148000   7496000  20190303  ...  3   3   \n",
       "5694  무이자 쿠첸 풀스텐 압력밥솥 6인용(A1)  주방  158000   6280000  20190303  ...  3   3   \n",
       "8415          델첸  4in1 텀블러블랜더  주방   74800  33264000  20190331  ...  3  31   \n",
       "9406          델첸  4in1 텀블러블랜더  주방   74800  22415000  20190409  ...  4   9   \n",
       "\n",
       "       요일  분기 365일  계절  방송시간  매진여부  취급액boxcox  최소판매수량  \n",
       "5692  일요일  Q1   62   봄 40.00     1     185.20     130  \n",
       "5693  일요일  Q1   62   봄 40.00     1     147.19      51  \n",
       "5694  일요일  Q1   62   봄 40.00     1     141.34      40  \n",
       "8415  일요일  Q1   90   봄 30.00     1     206.73     445  \n",
       "9406  화요일  Q2   99   봄 30.00     1     188.99     300  \n",
       "\n",
       "[5 rows x 21 columns]"
      ]
     },
     "execution_count": 32,
     "metadata": {},
     "output_type": "execute_result"
    }
   ],
   "source": [
    "kitchen_raw[kitchen_raw['매진여부'] == 1]"
   ]
  },
  {
   "cell_type": "code",
   "execution_count": null,
   "metadata": {},
   "outputs": [],
   "source": []
  },
  {
   "cell_type": "code",
   "execution_count": 33,
   "metadata": {},
   "outputs": [],
   "source": [
    "group_soldout = soldout_by_season.groupby(['계절'])"
   ]
  },
  {
   "cell_type": "code",
   "execution_count": 34,
   "metadata": {},
   "outputs": [
    {
     "data": {
      "text/html": [
       "<div>\n",
       "<style scoped>\n",
       "    .dataframe tbody tr th:only-of-type {\n",
       "        vertical-align: middle;\n",
       "    }\n",
       "\n",
       "    .dataframe tbody tr th {\n",
       "        vertical-align: top;\n",
       "    }\n",
       "\n",
       "    .dataframe thead th {\n",
       "        text-align: right;\n",
       "    }\n",
       "</style>\n",
       "<table border=\"1\" class=\"dataframe\">\n",
       "  <thead>\n",
       "    <tr style=\"text-align: right;\">\n",
       "      <th></th>\n",
       "      <th>매진여부</th>\n",
       "    </tr>\n",
       "    <tr>\n",
       "      <th>계절</th>\n",
       "      <th></th>\n",
       "    </tr>\n",
       "  </thead>\n",
       "  <tbody>\n",
       "    <tr>\n",
       "      <th>가을</th>\n",
       "      <td>0</td>\n",
       "    </tr>\n",
       "    <tr>\n",
       "      <th>겨울</th>\n",
       "      <td>0</td>\n",
       "    </tr>\n",
       "    <tr>\n",
       "      <th>봄</th>\n",
       "      <td>5</td>\n",
       "    </tr>\n",
       "    <tr>\n",
       "      <th>여름</th>\n",
       "      <td>0</td>\n",
       "    </tr>\n",
       "  </tbody>\n",
       "</table>\n",
       "</div>"
      ],
      "text/plain": [
       "    매진여부\n",
       "계절      \n",
       "가을     0\n",
       "겨울     0\n",
       "봄      5\n",
       "여름     0"
      ]
     },
     "execution_count": 34,
     "metadata": {},
     "output_type": "execute_result"
    }
   ],
   "source": [
    "group_soldout.sum()  # "
   ]
  },
  {
   "cell_type": "markdown",
   "metadata": {},
   "source": [
    "\n",
    "# 계절별 판매 단가 평균 "
   ]
  },
  {
   "cell_type": "code",
   "execution_count": 35,
   "metadata": {},
   "outputs": [],
   "source": [
    "unitprice_by_season =  pd.DataFrame(kitchen_raw, columns = ['판매단가','계절'])"
   ]
  },
  {
   "cell_type": "code",
   "execution_count": 36,
   "metadata": {},
   "outputs": [
    {
     "data": {
      "text/html": [
       "<div>\n",
       "<style scoped>\n",
       "    .dataframe tbody tr th:only-of-type {\n",
       "        vertical-align: middle;\n",
       "    }\n",
       "\n",
       "    .dataframe tbody tr th {\n",
       "        vertical-align: top;\n",
       "    }\n",
       "\n",
       "    .dataframe thead th {\n",
       "        text-align: right;\n",
       "    }\n",
       "</style>\n",
       "<table border=\"1\" class=\"dataframe\">\n",
       "  <thead>\n",
       "    <tr style=\"text-align: right;\">\n",
       "      <th></th>\n",
       "      <th>판매단가</th>\n",
       "      <th>계절</th>\n",
       "    </tr>\n",
       "  </thead>\n",
       "  <tbody>\n",
       "    <tr>\n",
       "      <th>20</th>\n",
       "      <td>60900</td>\n",
       "      <td>겨울</td>\n",
       "    </tr>\n",
       "    <tr>\n",
       "      <th>21</th>\n",
       "      <td>60900</td>\n",
       "      <td>겨울</td>\n",
       "    </tr>\n",
       "    <tr>\n",
       "      <th>22</th>\n",
       "      <td>60900</td>\n",
       "      <td>겨울</td>\n",
       "    </tr>\n",
       "    <tr>\n",
       "      <th>79</th>\n",
       "      <td>158000</td>\n",
       "      <td>겨울</td>\n",
       "    </tr>\n",
       "    <tr>\n",
       "      <th>80</th>\n",
       "      <td>168000</td>\n",
       "      <td>겨울</td>\n",
       "    </tr>\n",
       "    <tr>\n",
       "      <th>...</th>\n",
       "      <td>...</td>\n",
       "      <td>...</td>\n",
       "    </tr>\n",
       "    <tr>\n",
       "      <th>35370</th>\n",
       "      <td>148000</td>\n",
       "      <td>겨울</td>\n",
       "    </tr>\n",
       "    <tr>\n",
       "      <th>35371</th>\n",
       "      <td>178000</td>\n",
       "      <td>겨울</td>\n",
       "    </tr>\n",
       "    <tr>\n",
       "      <th>35372</th>\n",
       "      <td>168000</td>\n",
       "      <td>겨울</td>\n",
       "    </tr>\n",
       "    <tr>\n",
       "      <th>35373</th>\n",
       "      <td>158000</td>\n",
       "      <td>겨울</td>\n",
       "    </tr>\n",
       "    <tr>\n",
       "      <th>35374</th>\n",
       "      <td>148000</td>\n",
       "      <td>겨울</td>\n",
       "    </tr>\n",
       "  </tbody>\n",
       "</table>\n",
       "<p>6567 rows × 2 columns</p>\n",
       "</div>"
      ],
      "text/plain": [
       "         판매단가  계절\n",
       "20      60900  겨울\n",
       "21      60900  겨울\n",
       "22      60900  겨울\n",
       "79     158000  겨울\n",
       "80     168000  겨울\n",
       "...       ...  ..\n",
       "35370  148000  겨울\n",
       "35371  178000  겨울\n",
       "35372  168000  겨울\n",
       "35373  158000  겨울\n",
       "35374  148000  겨울\n",
       "\n",
       "[6567 rows x 2 columns]"
      ]
     },
     "execution_count": 36,
     "metadata": {},
     "output_type": "execute_result"
    }
   ],
   "source": [
    "unitprice_by_season"
   ]
  },
  {
   "cell_type": "code",
   "execution_count": 37,
   "metadata": {},
   "outputs": [],
   "source": [
    "unitprice_group_season = unitprice_by_season.groupby(\"계절\")"
   ]
  },
  {
   "cell_type": "code",
   "execution_count": 38,
   "metadata": {},
   "outputs": [
    {
     "data": {
      "text/plain": [
       "<matplotlib.axes._subplots.AxesSubplot at 0x1ecc4ee69c8>"
      ]
     },
     "execution_count": 38,
     "metadata": {},
     "output_type": "execute_result"
    },
    {
     "name": "stderr",
     "output_type": "stream",
     "text": [
      "C:\\ProgramData\\Anaconda3\\lib\\site-packages\\matplotlib\\backends\\backend_agg.py:211: RuntimeWarning: Glyph 44032 missing from current font.\n",
      "  font.set_text(s, 0.0, flags=flags)\n",
      "C:\\ProgramData\\Anaconda3\\lib\\site-packages\\matplotlib\\backends\\backend_agg.py:211: RuntimeWarning: Glyph 51012 missing from current font.\n",
      "  font.set_text(s, 0.0, flags=flags)\n",
      "C:\\ProgramData\\Anaconda3\\lib\\site-packages\\matplotlib\\backends\\backend_agg.py:211: RuntimeWarning: Glyph 44200 missing from current font.\n",
      "  font.set_text(s, 0.0, flags=flags)\n",
      "C:\\ProgramData\\Anaconda3\\lib\\site-packages\\matplotlib\\backends\\backend_agg.py:211: RuntimeWarning: Glyph 50872 missing from current font.\n",
      "  font.set_text(s, 0.0, flags=flags)\n",
      "C:\\ProgramData\\Anaconda3\\lib\\site-packages\\matplotlib\\backends\\backend_agg.py:211: RuntimeWarning: Glyph 48388 missing from current font.\n",
      "  font.set_text(s, 0.0, flags=flags)\n",
      "C:\\ProgramData\\Anaconda3\\lib\\site-packages\\matplotlib\\backends\\backend_agg.py:211: RuntimeWarning: Glyph 50668 missing from current font.\n",
      "  font.set_text(s, 0.0, flags=flags)\n",
      "C:\\ProgramData\\Anaconda3\\lib\\site-packages\\matplotlib\\backends\\backend_agg.py:211: RuntimeWarning: Glyph 47492 missing from current font.\n",
      "  font.set_text(s, 0.0, flags=flags)\n",
      "C:\\ProgramData\\Anaconda3\\lib\\site-packages\\matplotlib\\backends\\backend_agg.py:211: RuntimeWarning: Glyph 44228 missing from current font.\n",
      "  font.set_text(s, 0.0, flags=flags)\n",
      "C:\\ProgramData\\Anaconda3\\lib\\site-packages\\matplotlib\\backends\\backend_agg.py:211: RuntimeWarning: Glyph 51208 missing from current font.\n",
      "  font.set_text(s, 0.0, flags=flags)\n",
      "C:\\ProgramData\\Anaconda3\\lib\\site-packages\\matplotlib\\backends\\backend_agg.py:180: RuntimeWarning: Glyph 44032 missing from current font.\n",
      "  font.set_text(s, 0, flags=flags)\n",
      "C:\\ProgramData\\Anaconda3\\lib\\site-packages\\matplotlib\\backends\\backend_agg.py:180: RuntimeWarning: Glyph 51012 missing from current font.\n",
      "  font.set_text(s, 0, flags=flags)\n",
      "C:\\ProgramData\\Anaconda3\\lib\\site-packages\\matplotlib\\backends\\backend_agg.py:180: RuntimeWarning: Glyph 44200 missing from current font.\n",
      "  font.set_text(s, 0, flags=flags)\n",
      "C:\\ProgramData\\Anaconda3\\lib\\site-packages\\matplotlib\\backends\\backend_agg.py:180: RuntimeWarning: Glyph 50872 missing from current font.\n",
      "  font.set_text(s, 0, flags=flags)\n",
      "C:\\ProgramData\\Anaconda3\\lib\\site-packages\\matplotlib\\backends\\backend_agg.py:176: RuntimeWarning: Glyph 48388 missing from current font.\n",
      "  font.load_char(ord(s), flags=flags)\n",
      "C:\\ProgramData\\Anaconda3\\lib\\site-packages\\matplotlib\\backends\\backend_agg.py:180: RuntimeWarning: Glyph 50668 missing from current font.\n",
      "  font.set_text(s, 0, flags=flags)\n",
      "C:\\ProgramData\\Anaconda3\\lib\\site-packages\\matplotlib\\backends\\backend_agg.py:180: RuntimeWarning: Glyph 47492 missing from current font.\n",
      "  font.set_text(s, 0, flags=flags)\n",
      "C:\\ProgramData\\Anaconda3\\lib\\site-packages\\matplotlib\\backends\\backend_agg.py:180: RuntimeWarning: Glyph 44228 missing from current font.\n",
      "  font.set_text(s, 0, flags=flags)\n",
      "C:\\ProgramData\\Anaconda3\\lib\\site-packages\\matplotlib\\backends\\backend_agg.py:180: RuntimeWarning: Glyph 51208 missing from current font.\n",
      "  font.set_text(s, 0, flags=flags)\n",
      "C:\\ProgramData\\Anaconda3\\lib\\site-packages\\matplotlib\\backends\\backend_agg.py:211: RuntimeWarning: Glyph 54032 missing from current font.\n",
      "  font.set_text(s, 0.0, flags=flags)\n",
      "C:\\ProgramData\\Anaconda3\\lib\\site-packages\\matplotlib\\backends\\backend_agg.py:211: RuntimeWarning: Glyph 47588 missing from current font.\n",
      "  font.set_text(s, 0.0, flags=flags)\n",
      "C:\\ProgramData\\Anaconda3\\lib\\site-packages\\matplotlib\\backends\\backend_agg.py:211: RuntimeWarning: Glyph 45800 missing from current font.\n",
      "  font.set_text(s, 0.0, flags=flags)\n",
      "C:\\ProgramData\\Anaconda3\\lib\\site-packages\\matplotlib\\backends\\backend_agg.py:180: RuntimeWarning: Glyph 54032 missing from current font.\n",
      "  font.set_text(s, 0, flags=flags)\n",
      "C:\\ProgramData\\Anaconda3\\lib\\site-packages\\matplotlib\\backends\\backend_agg.py:180: RuntimeWarning: Glyph 47588 missing from current font.\n",
      "  font.set_text(s, 0, flags=flags)\n",
      "C:\\ProgramData\\Anaconda3\\lib\\site-packages\\matplotlib\\backends\\backend_agg.py:180: RuntimeWarning: Glyph 45800 missing from current font.\n",
      "  font.set_text(s, 0, flags=flags)\n"
     ]
    },
    {
     "data": {
      "image/png": "[encoded data removed]",
      "text/plain": [
       "<Figure size 1008x432 with 1 Axes>"
      ]
     },
     "metadata": {},
     "output_type": "display_data"
    }
   ],
   "source": [
    "unitprice_group_season.sum().plot()"
   ]
  },
  {
   "cell_type": "code",
   "execution_count": 39,
   "metadata": {},
   "outputs": [],
   "source": [
    "unitprice_group_mean = unitprice_group_season.mean()"
   ]
  },
  {
   "cell_type": "code",
   "execution_count": 40,
   "metadata": {},
   "outputs": [
    {
     "data": {
      "text/html": [
       "<div>\n",
       "<style scoped>\n",
       "    .dataframe tbody tr th:only-of-type {\n",
       "        vertical-align: middle;\n",
       "    }\n",
       "\n",
       "    .dataframe tbody tr th {\n",
       "        vertical-align: top;\n",
       "    }\n",
       "\n",
       "    .dataframe thead th {\n",
       "        text-align: right;\n",
       "    }\n",
       "</style>\n",
       "<table border=\"1\" class=\"dataframe\">\n",
       "  <thead>\n",
       "    <tr style=\"text-align: right;\">\n",
       "      <th></th>\n",
       "      <th>판매단가</th>\n",
       "    </tr>\n",
       "    <tr>\n",
       "      <th>계절</th>\n",
       "      <th></th>\n",
       "    </tr>\n",
       "  </thead>\n",
       "  <tbody>\n",
       "    <tr>\n",
       "      <th>가을</th>\n",
       "      <td>148289.44</td>\n",
       "    </tr>\n",
       "    <tr>\n",
       "      <th>겨울</th>\n",
       "      <td>157519.15</td>\n",
       "    </tr>\n",
       "    <tr>\n",
       "      <th>봄</th>\n",
       "      <td>151726.30</td>\n",
       "    </tr>\n",
       "    <tr>\n",
       "      <th>여름</th>\n",
       "      <td>147260.92</td>\n",
       "    </tr>\n",
       "  </tbody>\n",
       "</table>\n",
       "</div>"
      ],
      "text/plain": [
       "        판매단가\n",
       "계절          \n",
       "가을 148289.44\n",
       "겨울 157519.15\n",
       "봄  151726.30\n",
       "여름 147260.92"
      ]
     },
     "execution_count": 40,
     "metadata": {},
     "output_type": "execute_result"
    }
   ],
   "source": [
    "type(unitprice_group_mean)\n",
    "unitprice_group_mean\n"
   ]
  },
  {
   "cell_type": "code",
   "execution_count": 41,
   "metadata": {},
   "outputs": [],
   "source": [
    "unitprice_group_season_sort = pd.DataFrame(unitprice_group_mean, (\"봄\", \"여름\",\"가을\",\"겨울\"))"
   ]
  },
  {
   "cell_type": "code",
   "execution_count": 42,
   "metadata": {},
   "outputs": [
    {
     "data": {
      "text/plain": [
       "Text(0.5, 1.0, '계절별 판매단가 평균')"
      ]
     },
     "execution_count": 42,
     "metadata": {},
     "output_type": "execute_result"
    },
    {
     "name": "stderr",
     "output_type": "stream",
     "text": [
      "C:\\ProgramData\\Anaconda3\\lib\\site-packages\\matplotlib\\backends\\backend_agg.py:211: RuntimeWarning: Glyph 48388 missing from current font.\n",
      "  font.set_text(s, 0.0, flags=flags)\n",
      "C:\\ProgramData\\Anaconda3\\lib\\site-packages\\matplotlib\\backends\\backend_agg.py:211: RuntimeWarning: Glyph 50668 missing from current font.\n",
      "  font.set_text(s, 0.0, flags=flags)\n",
      "C:\\ProgramData\\Anaconda3\\lib\\site-packages\\matplotlib\\backends\\backend_agg.py:211: RuntimeWarning: Glyph 47492 missing from current font.\n",
      "  font.set_text(s, 0.0, flags=flags)\n",
      "C:\\ProgramData\\Anaconda3\\lib\\site-packages\\matplotlib\\backends\\backend_agg.py:211: RuntimeWarning: Glyph 44032 missing from current font.\n",
      "  font.set_text(s, 0.0, flags=flags)\n",
      "C:\\ProgramData\\Anaconda3\\lib\\site-packages\\matplotlib\\backends\\backend_agg.py:211: RuntimeWarning: Glyph 51012 missing from current font.\n",
      "  font.set_text(s, 0.0, flags=flags)\n",
      "C:\\ProgramData\\Anaconda3\\lib\\site-packages\\matplotlib\\backends\\backend_agg.py:211: RuntimeWarning: Glyph 44200 missing from current font.\n",
      "  font.set_text(s, 0.0, flags=flags)\n",
      "C:\\ProgramData\\Anaconda3\\lib\\site-packages\\matplotlib\\backends\\backend_agg.py:211: RuntimeWarning: Glyph 50872 missing from current font.\n",
      "  font.set_text(s, 0.0, flags=flags)\n",
      "C:\\ProgramData\\Anaconda3\\lib\\site-packages\\matplotlib\\backends\\backend_agg.py:211: RuntimeWarning: Glyph 44228 missing from current font.\n",
      "  font.set_text(s, 0.0, flags=flags)\n",
      "C:\\ProgramData\\Anaconda3\\lib\\site-packages\\matplotlib\\backends\\backend_agg.py:211: RuntimeWarning: Glyph 51208 missing from current font.\n",
      "  font.set_text(s, 0.0, flags=flags)\n",
      "C:\\ProgramData\\Anaconda3\\lib\\site-packages\\matplotlib\\backends\\backend_agg.py:211: RuntimeWarning: Glyph 48324 missing from current font.\n",
      "  font.set_text(s, 0.0, flags=flags)\n",
      "C:\\ProgramData\\Anaconda3\\lib\\site-packages\\matplotlib\\backends\\backend_agg.py:211: RuntimeWarning: Glyph 54032 missing from current font.\n",
      "  font.set_text(s, 0.0, flags=flags)\n",
      "C:\\ProgramData\\Anaconda3\\lib\\site-packages\\matplotlib\\backends\\backend_agg.py:211: RuntimeWarning: Glyph 47588 missing from current font.\n",
      "  font.set_text(s, 0.0, flags=flags)\n",
      "C:\\ProgramData\\Anaconda3\\lib\\site-packages\\matplotlib\\backends\\backend_agg.py:211: RuntimeWarning: Glyph 45800 missing from current font.\n",
      "  font.set_text(s, 0.0, flags=flags)\n",
      "C:\\ProgramData\\Anaconda3\\lib\\site-packages\\matplotlib\\backends\\backend_agg.py:211: RuntimeWarning: Glyph 54217 missing from current font.\n",
      "  font.set_text(s, 0.0, flags=flags)\n",
      "C:\\ProgramData\\Anaconda3\\lib\\site-packages\\matplotlib\\backends\\backend_agg.py:211: RuntimeWarning: Glyph 44512 missing from current font.\n",
      "  font.set_text(s, 0.0, flags=flags)\n",
      "C:\\ProgramData\\Anaconda3\\lib\\site-packages\\matplotlib\\backends\\backend_agg.py:176: RuntimeWarning: Glyph 48388 missing from current font.\n",
      "  font.load_char(ord(s), flags=flags)\n",
      "C:\\ProgramData\\Anaconda3\\lib\\site-packages\\matplotlib\\backends\\backend_agg.py:180: RuntimeWarning: Glyph 50668 missing from current font.\n",
      "  font.set_text(s, 0, flags=flags)\n",
      "C:\\ProgramData\\Anaconda3\\lib\\site-packages\\matplotlib\\backends\\backend_agg.py:180: RuntimeWarning: Glyph 47492 missing from current font.\n",
      "  font.set_text(s, 0, flags=flags)\n",
      "C:\\ProgramData\\Anaconda3\\lib\\site-packages\\matplotlib\\backends\\backend_agg.py:180: RuntimeWarning: Glyph 44032 missing from current font.\n",
      "  font.set_text(s, 0, flags=flags)\n",
      "C:\\ProgramData\\Anaconda3\\lib\\site-packages\\matplotlib\\backends\\backend_agg.py:180: RuntimeWarning: Glyph 51012 missing from current font.\n",
      "  font.set_text(s, 0, flags=flags)\n",
      "C:\\ProgramData\\Anaconda3\\lib\\site-packages\\matplotlib\\backends\\backend_agg.py:180: RuntimeWarning: Glyph 44200 missing from current font.\n",
      "  font.set_text(s, 0, flags=flags)\n",
      "C:\\ProgramData\\Anaconda3\\lib\\site-packages\\matplotlib\\backends\\backend_agg.py:180: RuntimeWarning: Glyph 50872 missing from current font.\n",
      "  font.set_text(s, 0, flags=flags)\n",
      "C:\\ProgramData\\Anaconda3\\lib\\site-packages\\matplotlib\\backends\\backend_agg.py:180: RuntimeWarning: Glyph 44228 missing from current font.\n",
      "  font.set_text(s, 0, flags=flags)\n",
      "C:\\ProgramData\\Anaconda3\\lib\\site-packages\\matplotlib\\backends\\backend_agg.py:180: RuntimeWarning: Glyph 51208 missing from current font.\n",
      "  font.set_text(s, 0, flags=flags)\n",
      "C:\\ProgramData\\Anaconda3\\lib\\site-packages\\matplotlib\\backends\\backend_agg.py:180: RuntimeWarning: Glyph 48324 missing from current font.\n",
      "  font.set_text(s, 0, flags=flags)\n",
      "C:\\ProgramData\\Anaconda3\\lib\\site-packages\\matplotlib\\backends\\backend_agg.py:180: RuntimeWarning: Glyph 54032 missing from current font.\n",
      "  font.set_text(s, 0, flags=flags)\n",
      "C:\\ProgramData\\Anaconda3\\lib\\site-packages\\matplotlib\\backends\\backend_agg.py:180: RuntimeWarning: Glyph 47588 missing from current font.\n",
      "  font.set_text(s, 0, flags=flags)\n",
      "C:\\ProgramData\\Anaconda3\\lib\\site-packages\\matplotlib\\backends\\backend_agg.py:180: RuntimeWarning: Glyph 45800 missing from current font.\n",
      "  font.set_text(s, 0, flags=flags)\n",
      "C:\\ProgramData\\Anaconda3\\lib\\site-packages\\matplotlib\\backends\\backend_agg.py:180: RuntimeWarning: Glyph 54217 missing from current font.\n",
      "  font.set_text(s, 0, flags=flags)\n",
      "C:\\ProgramData\\Anaconda3\\lib\\site-packages\\matplotlib\\backends\\backend_agg.py:180: RuntimeWarning: Glyph 44512 missing from current font.\n",
      "  font.set_text(s, 0, flags=flags)\n"
     ]
    },
    {
     "data": {
      "image/png": "[encoded data removed]",
      "text/plain": [
       "<Figure size 1008x432 with 1 Axes>"
      ]
     },
     "metadata": {},
     "output_type": "display_data"
    }
   ],
   "source": [
    "unitprice_group_season_sort.plot()\n",
    "plt.title(\"계절별 판매단가 평균\")"
   ]
  },
  {
   "cell_type": "markdown",
   "metadata": {},
   "source": [
    "# 계절별 상품명 수  (보류) \n"
   ]
  },
  {
   "cell_type": "code",
   "execution_count": null,
   "metadata": {},
   "outputs": [],
   "source": []
  },
  {
   "cell_type": "markdown",
   "metadata": {},
   "source": [
    "# 계절별 최소판매수량 총합 / 평균\n"
   ]
  },
  {
   "cell_type": "code",
   "execution_count": 43,
   "metadata": {},
   "outputs": [],
   "source": [
    "quantity_season =  pd.DataFrame(kitchen_raw, columns = [\"계절\",\"최소판매수량\"])"
   ]
  },
  {
   "cell_type": "code",
   "execution_count": 44,
   "metadata": {},
   "outputs": [
    {
     "data": {
      "text/html": [
       "<div>\n",
       "<style scoped>\n",
       "    .dataframe tbody tr th:only-of-type {\n",
       "        vertical-align: middle;\n",
       "    }\n",
       "\n",
       "    .dataframe tbody tr th {\n",
       "        vertical-align: top;\n",
       "    }\n",
       "\n",
       "    .dataframe thead th {\n",
       "        text-align: right;\n",
       "    }\n",
       "</style>\n",
       "<table border=\"1\" class=\"dataframe\">\n",
       "  <thead>\n",
       "    <tr style=\"text-align: right;\">\n",
       "      <th></th>\n",
       "      <th>계절</th>\n",
       "      <th>최소판매수량</th>\n",
       "    </tr>\n",
       "  </thead>\n",
       "  <tbody>\n",
       "    <tr>\n",
       "      <th>20</th>\n",
       "      <td>겨울</td>\n",
       "      <td>555</td>\n",
       "    </tr>\n",
       "    <tr>\n",
       "      <th>21</th>\n",
       "      <td>겨울</td>\n",
       "      <td>970</td>\n",
       "    </tr>\n",
       "    <tr>\n",
       "      <th>22</th>\n",
       "      <td>겨울</td>\n",
       "      <td>1629</td>\n",
       "    </tr>\n",
       "    <tr>\n",
       "      <th>79</th>\n",
       "      <td>겨울</td>\n",
       "      <td>46</td>\n",
       "    </tr>\n",
       "    <tr>\n",
       "      <th>80</th>\n",
       "      <td>겨울</td>\n",
       "      <td>53</td>\n",
       "    </tr>\n",
       "    <tr>\n",
       "      <th>...</th>\n",
       "      <td>...</td>\n",
       "      <td>...</td>\n",
       "    </tr>\n",
       "    <tr>\n",
       "      <th>35370</th>\n",
       "      <td>겨울</td>\n",
       "      <td>11</td>\n",
       "    </tr>\n",
       "    <tr>\n",
       "      <th>35371</th>\n",
       "      <td>겨울</td>\n",
       "      <td>51</td>\n",
       "    </tr>\n",
       "    <tr>\n",
       "      <th>35372</th>\n",
       "      <td>겨울</td>\n",
       "      <td>91</td>\n",
       "    </tr>\n",
       "    <tr>\n",
       "      <th>35373</th>\n",
       "      <td>겨울</td>\n",
       "      <td>15</td>\n",
       "    </tr>\n",
       "    <tr>\n",
       "      <th>35374</th>\n",
       "      <td>겨울</td>\n",
       "      <td>69</td>\n",
       "    </tr>\n",
       "  </tbody>\n",
       "</table>\n",
       "<p>6567 rows × 2 columns</p>\n",
       "</div>"
      ],
      "text/plain": [
       "       계절  최소판매수량\n",
       "20     겨울     555\n",
       "21     겨울     970\n",
       "22     겨울    1629\n",
       "79     겨울      46\n",
       "80     겨울      53\n",
       "...    ..     ...\n",
       "35370  겨울      11\n",
       "35371  겨울      51\n",
       "35372  겨울      91\n",
       "35373  겨울      15\n",
       "35374  겨울      69\n",
       "\n",
       "[6567 rows x 2 columns]"
      ]
     },
     "execution_count": 44,
     "metadata": {},
     "output_type": "execute_result"
    }
   ],
   "source": [
    "quantity_season"
   ]
  },
  {
   "cell_type": "code",
   "execution_count": 45,
   "metadata": {},
   "outputs": [],
   "source": [
    "quantity_season_group = quantity_season.groupby(\"계절\")"
   ]
  },
  {
   "cell_type": "code",
   "execution_count": 46,
   "metadata": {},
   "outputs": [],
   "source": [
    "quantity_group_sum  = quantity_season_group.sum()   # 데이터프레임 \n",
    "quantity_group_mean = quantity_season_group.mean()"
   ]
  },
  {
   "cell_type": "code",
   "execution_count": 47,
   "metadata": {},
   "outputs": [],
   "source": [
    "df_quantity_groupSUM = pd.DataFrame(quantity_group_sum, (\"봄\",\"여름\",\"가을\",\"겨울\"))\n",
    "df_quantity_groupMEAN = pd.DataFrame(quantity_group_mean, (\"봄\",\"여름\",\"가을\",\"겨울\"))"
   ]
  },
  {
   "cell_type": "code",
   "execution_count": null,
   "metadata": {},
   "outputs": [],
   "source": []
  },
  {
   "cell_type": "code",
   "execution_count": 48,
   "metadata": {},
   "outputs": [
    {
     "data": {
      "text/plain": [
       "Text(0.5, 1.0, '계절별 최소판매수량 평균')"
      ]
     },
     "execution_count": 48,
     "metadata": {},
     "output_type": "execute_result"
    },
    {
     "name": "stderr",
     "output_type": "stream",
     "text": [
      "C:\\ProgramData\\Anaconda3\\lib\\site-packages\\matplotlib\\backends\\backend_agg.py:211: RuntimeWarning: Glyph 48388 missing from current font.\n",
      "  font.set_text(s, 0.0, flags=flags)\n",
      "C:\\ProgramData\\Anaconda3\\lib\\site-packages\\matplotlib\\backends\\backend_agg.py:211: RuntimeWarning: Glyph 50668 missing from current font.\n",
      "  font.set_text(s, 0.0, flags=flags)\n",
      "C:\\ProgramData\\Anaconda3\\lib\\site-packages\\matplotlib\\backends\\backend_agg.py:211: RuntimeWarning: Glyph 47492 missing from current font.\n",
      "  font.set_text(s, 0.0, flags=flags)\n",
      "C:\\ProgramData\\Anaconda3\\lib\\site-packages\\matplotlib\\backends\\backend_agg.py:211: RuntimeWarning: Glyph 44032 missing from current font.\n",
      "  font.set_text(s, 0.0, flags=flags)\n",
      "C:\\ProgramData\\Anaconda3\\lib\\site-packages\\matplotlib\\backends\\backend_agg.py:211: RuntimeWarning: Glyph 51012 missing from current font.\n",
      "  font.set_text(s, 0.0, flags=flags)\n",
      "C:\\ProgramData\\Anaconda3\\lib\\site-packages\\matplotlib\\backends\\backend_agg.py:211: RuntimeWarning: Glyph 44200 missing from current font.\n",
      "  font.set_text(s, 0.0, flags=flags)\n",
      "C:\\ProgramData\\Anaconda3\\lib\\site-packages\\matplotlib\\backends\\backend_agg.py:211: RuntimeWarning: Glyph 50872 missing from current font.\n",
      "  font.set_text(s, 0.0, flags=flags)\n",
      "C:\\ProgramData\\Anaconda3\\lib\\site-packages\\matplotlib\\backends\\backend_agg.py:211: RuntimeWarning: Glyph 44228 missing from current font.\n",
      "  font.set_text(s, 0.0, flags=flags)\n",
      "C:\\ProgramData\\Anaconda3\\lib\\site-packages\\matplotlib\\backends\\backend_agg.py:211: RuntimeWarning: Glyph 51208 missing from current font.\n",
      "  font.set_text(s, 0.0, flags=flags)\n",
      "C:\\ProgramData\\Anaconda3\\lib\\site-packages\\matplotlib\\backends\\backend_agg.py:211: RuntimeWarning: Glyph 48324 missing from current font.\n",
      "  font.set_text(s, 0.0, flags=flags)\n",
      "C:\\ProgramData\\Anaconda3\\lib\\site-packages\\matplotlib\\backends\\backend_agg.py:211: RuntimeWarning: Glyph 52572 missing from current font.\n",
      "  font.set_text(s, 0.0, flags=flags)\n",
      "C:\\ProgramData\\Anaconda3\\lib\\site-packages\\matplotlib\\backends\\backend_agg.py:211: RuntimeWarning: Glyph 49548 missing from current font.\n",
      "  font.set_text(s, 0.0, flags=flags)\n",
      "C:\\ProgramData\\Anaconda3\\lib\\site-packages\\matplotlib\\backends\\backend_agg.py:211: RuntimeWarning: Glyph 54032 missing from current font.\n",
      "  font.set_text(s, 0.0, flags=flags)\n",
      "C:\\ProgramData\\Anaconda3\\lib\\site-packages\\matplotlib\\backends\\backend_agg.py:211: RuntimeWarning: Glyph 47588 missing from current font.\n",
      "  font.set_text(s, 0.0, flags=flags)\n",
      "C:\\ProgramData\\Anaconda3\\lib\\site-packages\\matplotlib\\backends\\backend_agg.py:211: RuntimeWarning: Glyph 49688 missing from current font.\n",
      "  font.set_text(s, 0.0, flags=flags)\n",
      "C:\\ProgramData\\Anaconda3\\lib\\site-packages\\matplotlib\\backends\\backend_agg.py:211: RuntimeWarning: Glyph 47049 missing from current font.\n",
      "  font.set_text(s, 0.0, flags=flags)\n",
      "C:\\ProgramData\\Anaconda3\\lib\\site-packages\\matplotlib\\backends\\backend_agg.py:211: RuntimeWarning: Glyph 54633 missing from current font.\n",
      "  font.set_text(s, 0.0, flags=flags)\n",
      "C:\\ProgramData\\Anaconda3\\lib\\site-packages\\matplotlib\\backends\\backend_agg.py:176: RuntimeWarning: Glyph 48388 missing from current font.\n",
      "  font.load_char(ord(s), flags=flags)\n",
      "C:\\ProgramData\\Anaconda3\\lib\\site-packages\\matplotlib\\backends\\backend_agg.py:180: RuntimeWarning: Glyph 50668 missing from current font.\n",
      "  font.set_text(s, 0, flags=flags)\n",
      "C:\\ProgramData\\Anaconda3\\lib\\site-packages\\matplotlib\\backends\\backend_agg.py:180: RuntimeWarning: Glyph 47492 missing from current font.\n",
      "  font.set_text(s, 0, flags=flags)\n",
      "C:\\ProgramData\\Anaconda3\\lib\\site-packages\\matplotlib\\backends\\backend_agg.py:180: RuntimeWarning: Glyph 44032 missing from current font.\n",
      "  font.set_text(s, 0, flags=flags)\n",
      "C:\\ProgramData\\Anaconda3\\lib\\site-packages\\matplotlib\\backends\\backend_agg.py:180: RuntimeWarning: Glyph 51012 missing from current font.\n",
      "  font.set_text(s, 0, flags=flags)\n",
      "C:\\ProgramData\\Anaconda3\\lib\\site-packages\\matplotlib\\backends\\backend_agg.py:180: RuntimeWarning: Glyph 44200 missing from current font.\n",
      "  font.set_text(s, 0, flags=flags)\n",
      "C:\\ProgramData\\Anaconda3\\lib\\site-packages\\matplotlib\\backends\\backend_agg.py:180: RuntimeWarning: Glyph 50872 missing from current font.\n",
      "  font.set_text(s, 0, flags=flags)\n",
      "C:\\ProgramData\\Anaconda3\\lib\\site-packages\\matplotlib\\backends\\backend_agg.py:180: RuntimeWarning: Glyph 44228 missing from current font.\n",
      "  font.set_text(s, 0, flags=flags)\n",
      "C:\\ProgramData\\Anaconda3\\lib\\site-packages\\matplotlib\\backends\\backend_agg.py:180: RuntimeWarning: Glyph 51208 missing from current font.\n",
      "  font.set_text(s, 0, flags=flags)\n",
      "C:\\ProgramData\\Anaconda3\\lib\\site-packages\\matplotlib\\backends\\backend_agg.py:180: RuntimeWarning: Glyph 48324 missing from current font.\n",
      "  font.set_text(s, 0, flags=flags)\n",
      "C:\\ProgramData\\Anaconda3\\lib\\site-packages\\matplotlib\\backends\\backend_agg.py:180: RuntimeWarning: Glyph 52572 missing from current font.\n",
      "  font.set_text(s, 0, flags=flags)\n",
      "C:\\ProgramData\\Anaconda3\\lib\\site-packages\\matplotlib\\backends\\backend_agg.py:180: RuntimeWarning: Glyph 49548 missing from current font.\n",
      "  font.set_text(s, 0, flags=flags)\n",
      "C:\\ProgramData\\Anaconda3\\lib\\site-packages\\matplotlib\\backends\\backend_agg.py:180: RuntimeWarning: Glyph 54032 missing from current font.\n",
      "  font.set_text(s, 0, flags=flags)\n",
      "C:\\ProgramData\\Anaconda3\\lib\\site-packages\\matplotlib\\backends\\backend_agg.py:180: RuntimeWarning: Glyph 47588 missing from current font.\n",
      "  font.set_text(s, 0, flags=flags)\n",
      "C:\\ProgramData\\Anaconda3\\lib\\site-packages\\matplotlib\\backends\\backend_agg.py:180: RuntimeWarning: Glyph 49688 missing from current font.\n",
      "  font.set_text(s, 0, flags=flags)\n",
      "C:\\ProgramData\\Anaconda3\\lib\\site-packages\\matplotlib\\backends\\backend_agg.py:180: RuntimeWarning: Glyph 47049 missing from current font.\n",
      "  font.set_text(s, 0, flags=flags)\n",
      "C:\\ProgramData\\Anaconda3\\lib\\site-packages\\matplotlib\\backends\\backend_agg.py:180: RuntimeWarning: Glyph 54633 missing from current font.\n",
      "  font.set_text(s, 0, flags=flags)\n"
     ]
    },
    {
     "data": {
      "image/png": "[encoded data removed]",
      "text/plain": [
       "<Figure size 1008x432 with 1 Axes>"
      ]
     },
     "metadata": {},
     "output_type": "display_data"
    },
    {
     "name": "stderr",
     "output_type": "stream",
     "text": [
      "C:\\ProgramData\\Anaconda3\\lib\\site-packages\\matplotlib\\backends\\backend_agg.py:211: RuntimeWarning: Glyph 54217 missing from current font.\n",
      "  font.set_text(s, 0.0, flags=flags)\n",
      "C:\\ProgramData\\Anaconda3\\lib\\site-packages\\matplotlib\\backends\\backend_agg.py:211: RuntimeWarning: Glyph 44512 missing from current font.\n",
      "  font.set_text(s, 0.0, flags=flags)\n",
      "C:\\ProgramData\\Anaconda3\\lib\\site-packages\\matplotlib\\backends\\backend_agg.py:180: RuntimeWarning: Glyph 54217 missing from current font.\n",
      "  font.set_text(s, 0, flags=flags)\n",
      "C:\\ProgramData\\Anaconda3\\lib\\site-packages\\matplotlib\\backends\\backend_agg.py:180: RuntimeWarning: Glyph 44512 missing from current font.\n",
      "  font.set_text(s, 0, flags=flags)\n"
     ]
    },
    {
     "data": {
      "image/png": "[encoded data removed]",
      "text/plain": [
       "<Figure size 1008x432 with 1 Axes>"
      ]
     },
     "metadata": {},
     "output_type": "display_data"
    }
   ],
   "source": [
    "df_quantity_groupSUM.plot.bar()\n",
    "plt.title(\"계절별 최소판매수량 합계\")\n",
    "\n",
    "df_quantity_groupMEAN.plot.bar()\n",
    "plt.title(\"계절별 최소판매수량 평균\")"
   ]
  },
  {
   "cell_type": "code",
   "execution_count": null,
   "metadata": {},
   "outputs": [],
   "source": [
    "\n"
   ]
  },
  {
   "cell_type": "markdown",
   "metadata": {},
   "source": [
    "#  1-2. 분기"
   ]
  },
  {
   "cell_type": "markdown",
   "metadata": {},
   "source": [
    "#  분기 별 취급액  총액 / 평균 "
   ]
  },
  {
   "cell_type": "code",
   "execution_count": 49,
   "metadata": {},
   "outputs": [],
   "source": [
    "sales_by_Q = pd.DataFrame(kitchen_raw, columns = (\"분기\", \"취급액\")  )"
   ]
  },
  {
   "cell_type": "code",
   "execution_count": 50,
   "metadata": {},
   "outputs": [
    {
     "data": {
      "text/html": [
       "<div>\n",
       "<style scoped>\n",
       "    .dataframe tbody tr th:only-of-type {\n",
       "        vertical-align: middle;\n",
       "    }\n",
       "\n",
       "    .dataframe tbody tr th {\n",
       "        vertical-align: top;\n",
       "    }\n",
       "\n",
       "    .dataframe thead th {\n",
       "        text-align: right;\n",
       "    }\n",
       "</style>\n",
       "<table border=\"1\" class=\"dataframe\">\n",
       "  <thead>\n",
       "    <tr style=\"text-align: right;\">\n",
       "      <th></th>\n",
       "      <th>분기</th>\n",
       "      <th>취급액</th>\n",
       "    </tr>\n",
       "  </thead>\n",
       "  <tbody>\n",
       "    <tr>\n",
       "      <th>20</th>\n",
       "      <td>Q1</td>\n",
       "      <td>33823000</td>\n",
       "    </tr>\n",
       "    <tr>\n",
       "      <th>21</th>\n",
       "      <td>Q1</td>\n",
       "      <td>59083000</td>\n",
       "    </tr>\n",
       "    <tr>\n",
       "      <th>22</th>\n",
       "      <td>Q1</td>\n",
       "      <td>99235000</td>\n",
       "    </tr>\n",
       "    <tr>\n",
       "      <th>79</th>\n",
       "      <td>Q1</td>\n",
       "      <td>7239000</td>\n",
       "    </tr>\n",
       "    <tr>\n",
       "      <th>80</th>\n",
       "      <td>Q1</td>\n",
       "      <td>8951000</td>\n",
       "    </tr>\n",
       "    <tr>\n",
       "      <th>...</th>\n",
       "      <td>...</td>\n",
       "      <td>...</td>\n",
       "    </tr>\n",
       "    <tr>\n",
       "      <th>35370</th>\n",
       "      <td>Q4</td>\n",
       "      <td>1664000</td>\n",
       "    </tr>\n",
       "    <tr>\n",
       "      <th>35371</th>\n",
       "      <td>Q4</td>\n",
       "      <td>9149000</td>\n",
       "    </tr>\n",
       "    <tr>\n",
       "      <th>35372</th>\n",
       "      <td>Q4</td>\n",
       "      <td>15282000</td>\n",
       "    </tr>\n",
       "    <tr>\n",
       "      <th>35373</th>\n",
       "      <td>Q4</td>\n",
       "      <td>2328000</td>\n",
       "    </tr>\n",
       "    <tr>\n",
       "      <th>35374</th>\n",
       "      <td>Q4</td>\n",
       "      <td>10157000</td>\n",
       "    </tr>\n",
       "  </tbody>\n",
       "</table>\n",
       "<p>6567 rows × 2 columns</p>\n",
       "</div>"
      ],
      "text/plain": [
       "       분기       취급액\n",
       "20     Q1  33823000\n",
       "21     Q1  59083000\n",
       "22     Q1  99235000\n",
       "79     Q1   7239000\n",
       "80     Q1   8951000\n",
       "...    ..       ...\n",
       "35370  Q4   1664000\n",
       "35371  Q4   9149000\n",
       "35372  Q4  15282000\n",
       "35373  Q4   2328000\n",
       "35374  Q4  10157000\n",
       "\n",
       "[6567 rows x 2 columns]"
      ]
     },
     "execution_count": 50,
     "metadata": {},
     "output_type": "execute_result"
    }
   ],
   "source": [
    "sales_by_Q "
   ]
  },
  {
   "cell_type": "code",
   "execution_count": 51,
   "metadata": {},
   "outputs": [],
   "source": [
    "sales_by_Q_group = sales_by_Q.groupby(\"분기\")"
   ]
  },
  {
   "cell_type": "code",
   "execution_count": 52,
   "metadata": {},
   "outputs": [],
   "source": [
    "Q_group_sum  = sales_by_Q_group.sum()\n",
    "Q_group_mean = sales_by_Q_group.mean()\n"
   ]
  },
  {
   "cell_type": "code",
   "execution_count": 53,
   "metadata": {
    "scrolled": false
   },
   "outputs": [
    {
     "data": {
      "text/plain": [
       "Text(0.5, 1.0, '분기별 취급액 평균')"
      ]
     },
     "execution_count": 53,
     "metadata": {},
     "output_type": "execute_result"
    },
    {
     "name": "stderr",
     "output_type": "stream",
     "text": [
      "C:\\ProgramData\\Anaconda3\\lib\\site-packages\\matplotlib\\backends\\backend_agg.py:211: RuntimeWarning: Glyph 48516 missing from current font.\n",
      "  font.set_text(s, 0.0, flags=flags)\n",
      "C:\\ProgramData\\Anaconda3\\lib\\site-packages\\matplotlib\\backends\\backend_agg.py:211: RuntimeWarning: Glyph 44592 missing from current font.\n",
      "  font.set_text(s, 0.0, flags=flags)\n",
      "C:\\ProgramData\\Anaconda3\\lib\\site-packages\\matplotlib\\backends\\backend_agg.py:211: RuntimeWarning: Glyph 48324 missing from current font.\n",
      "  font.set_text(s, 0.0, flags=flags)\n",
      "C:\\ProgramData\\Anaconda3\\lib\\site-packages\\matplotlib\\backends\\backend_agg.py:211: RuntimeWarning: Glyph 52712 missing from current font.\n",
      "  font.set_text(s, 0.0, flags=flags)\n",
      "C:\\ProgramData\\Anaconda3\\lib\\site-packages\\matplotlib\\backends\\backend_agg.py:211: RuntimeWarning: Glyph 44553 missing from current font.\n",
      "  font.set_text(s, 0.0, flags=flags)\n",
      "C:\\ProgramData\\Anaconda3\\lib\\site-packages\\matplotlib\\backends\\backend_agg.py:211: RuntimeWarning: Glyph 50529 missing from current font.\n",
      "  font.set_text(s, 0.0, flags=flags)\n",
      "C:\\ProgramData\\Anaconda3\\lib\\site-packages\\matplotlib\\backends\\backend_agg.py:211: RuntimeWarning: Glyph 52509 missing from current font.\n",
      "  font.set_text(s, 0.0, flags=flags)\n",
      "C:\\ProgramData\\Anaconda3\\lib\\site-packages\\matplotlib\\backends\\backend_agg.py:211: RuntimeWarning: Glyph 54633 missing from current font.\n",
      "  font.set_text(s, 0.0, flags=flags)\n",
      "C:\\ProgramData\\Anaconda3\\lib\\site-packages\\matplotlib\\backends\\backend_agg.py:180: RuntimeWarning: Glyph 48516 missing from current font.\n",
      "  font.set_text(s, 0, flags=flags)\n",
      "C:\\ProgramData\\Anaconda3\\lib\\site-packages\\matplotlib\\backends\\backend_agg.py:180: RuntimeWarning: Glyph 44592 missing from current font.\n",
      "  font.set_text(s, 0, flags=flags)\n",
      "C:\\ProgramData\\Anaconda3\\lib\\site-packages\\matplotlib\\backends\\backend_agg.py:180: RuntimeWarning: Glyph 48324 missing from current font.\n",
      "  font.set_text(s, 0, flags=flags)\n",
      "C:\\ProgramData\\Anaconda3\\lib\\site-packages\\matplotlib\\backends\\backend_agg.py:180: RuntimeWarning: Glyph 52712 missing from current font.\n",
      "  font.set_text(s, 0, flags=flags)\n",
      "C:\\ProgramData\\Anaconda3\\lib\\site-packages\\matplotlib\\backends\\backend_agg.py:180: RuntimeWarning: Glyph 44553 missing from current font.\n",
      "  font.set_text(s, 0, flags=flags)\n",
      "C:\\ProgramData\\Anaconda3\\lib\\site-packages\\matplotlib\\backends\\backend_agg.py:180: RuntimeWarning: Glyph 50529 missing from current font.\n",
      "  font.set_text(s, 0, flags=flags)\n",
      "C:\\ProgramData\\Anaconda3\\lib\\site-packages\\matplotlib\\backends\\backend_agg.py:180: RuntimeWarning: Glyph 52509 missing from current font.\n",
      "  font.set_text(s, 0, flags=flags)\n",
      "C:\\ProgramData\\Anaconda3\\lib\\site-packages\\matplotlib\\backends\\backend_agg.py:180: RuntimeWarning: Glyph 54633 missing from current font.\n",
      "  font.set_text(s, 0, flags=flags)\n"
     ]
    },
    {
     "data": {
      "image/png": "[encoded data removed]",
      "text/plain": [
       "<Figure size 1008x432 with 1 Axes>"
      ]
     },
     "metadata": {},
     "output_type": "display_data"
    },
    {
     "name": "stderr",
     "output_type": "stream",
     "text": [
      "C:\\ProgramData\\Anaconda3\\lib\\site-packages\\matplotlib\\backends\\backend_agg.py:211: RuntimeWarning: Glyph 54217 missing from current font.\n",
      "  font.set_text(s, 0.0, flags=flags)\n",
      "C:\\ProgramData\\Anaconda3\\lib\\site-packages\\matplotlib\\backends\\backend_agg.py:211: RuntimeWarning: Glyph 44512 missing from current font.\n",
      "  font.set_text(s, 0.0, flags=flags)\n",
      "C:\\ProgramData\\Anaconda3\\lib\\site-packages\\matplotlib\\backends\\backend_agg.py:180: RuntimeWarning: Glyph 54217 missing from current font.\n",
      "  font.set_text(s, 0, flags=flags)\n",
      "C:\\ProgramData\\Anaconda3\\lib\\site-packages\\matplotlib\\backends\\backend_agg.py:180: RuntimeWarning: Glyph 44512 missing from current font.\n",
      "  font.set_text(s, 0, flags=flags)\n"
     ]
    },
    {
     "data": {
      "image/png": "[encoded data removed]",
      "text/plain": [
       "<Figure size 1008x432 with 1 Axes>"
      ]
     },
     "metadata": {},
     "output_type": "display_data"
    }
   ],
   "source": [
    "Q_group_sum.plot.bar()\n",
    "plt.title(\"분기별 취급액 총합\")\n",
    "Q_group_mean.plot.bar()\n",
    "plt.title(\"분기별 취급액 평균\")"
   ]
  },
  {
   "cell_type": "markdown",
   "metadata": {},
   "source": [
    "# 분기별 매진 여부 "
   ]
  },
  {
   "cell_type": "markdown",
   "metadata": {},
   "source": [
    "### 전부 3,4 월 -> 1분기 5건 이므로 생략 "
   ]
  },
  {
   "cell_type": "code",
   "execution_count": null,
   "metadata": {},
   "outputs": [],
   "source": []
  },
  {
   "cell_type": "markdown",
   "metadata": {},
   "source": [
    "#  분기별 판매 단가 평균\n"
   ]
  },
  {
   "cell_type": "code",
   "execution_count": 54,
   "metadata": {},
   "outputs": [],
   "source": [
    "unitprice_by_Q =  pd.DataFrame(kitchen_raw, columns = ['판매단가','분기'])"
   ]
  },
  {
   "cell_type": "code",
   "execution_count": 55,
   "metadata": {},
   "outputs": [
    {
     "data": {
      "text/html": [
       "<div>\n",
       "<style scoped>\n",
       "    .dataframe tbody tr th:only-of-type {\n",
       "        vertical-align: middle;\n",
       "    }\n",
       "\n",
       "    .dataframe tbody tr th {\n",
       "        vertical-align: top;\n",
       "    }\n",
       "\n",
       "    .dataframe thead th {\n",
       "        text-align: right;\n",
       "    }\n",
       "</style>\n",
       "<table border=\"1\" class=\"dataframe\">\n",
       "  <thead>\n",
       "    <tr style=\"text-align: right;\">\n",
       "      <th></th>\n",
       "      <th>판매단가</th>\n",
       "      <th>분기</th>\n",
       "    </tr>\n",
       "  </thead>\n",
       "  <tbody>\n",
       "    <tr>\n",
       "      <th>20</th>\n",
       "      <td>60900</td>\n",
       "      <td>Q1</td>\n",
       "    </tr>\n",
       "    <tr>\n",
       "      <th>21</th>\n",
       "      <td>60900</td>\n",
       "      <td>Q1</td>\n",
       "    </tr>\n",
       "    <tr>\n",
       "      <th>22</th>\n",
       "      <td>60900</td>\n",
       "      <td>Q1</td>\n",
       "    </tr>\n",
       "    <tr>\n",
       "      <th>79</th>\n",
       "      <td>158000</td>\n",
       "      <td>Q1</td>\n",
       "    </tr>\n",
       "    <tr>\n",
       "      <th>80</th>\n",
       "      <td>168000</td>\n",
       "      <td>Q1</td>\n",
       "    </tr>\n",
       "    <tr>\n",
       "      <th>...</th>\n",
       "      <td>...</td>\n",
       "      <td>...</td>\n",
       "    </tr>\n",
       "    <tr>\n",
       "      <th>35370</th>\n",
       "      <td>148000</td>\n",
       "      <td>Q4</td>\n",
       "    </tr>\n",
       "    <tr>\n",
       "      <th>35371</th>\n",
       "      <td>178000</td>\n",
       "      <td>Q4</td>\n",
       "    </tr>\n",
       "    <tr>\n",
       "      <th>35372</th>\n",
       "      <td>168000</td>\n",
       "      <td>Q4</td>\n",
       "    </tr>\n",
       "    <tr>\n",
       "      <th>35373</th>\n",
       "      <td>158000</td>\n",
       "      <td>Q4</td>\n",
       "    </tr>\n",
       "    <tr>\n",
       "      <th>35374</th>\n",
       "      <td>148000</td>\n",
       "      <td>Q4</td>\n",
       "    </tr>\n",
       "  </tbody>\n",
       "</table>\n",
       "<p>6567 rows × 2 columns</p>\n",
       "</div>"
      ],
      "text/plain": [
       "         판매단가  분기\n",
       "20      60900  Q1\n",
       "21      60900  Q1\n",
       "22      60900  Q1\n",
       "79     158000  Q1\n",
       "80     168000  Q1\n",
       "...       ...  ..\n",
       "35370  148000  Q4\n",
       "35371  178000  Q4\n",
       "35372  168000  Q4\n",
       "35373  158000  Q4\n",
       "35374  148000  Q4\n",
       "\n",
       "[6567 rows x 2 columns]"
      ]
     },
     "execution_count": 55,
     "metadata": {},
     "output_type": "execute_result"
    }
   ],
   "source": [
    "unitprice_by_Q"
   ]
  },
  {
   "cell_type": "code",
   "execution_count": 56,
   "metadata": {},
   "outputs": [],
   "source": [
    "# unitprice_by_Q_season = unitprice_by_Q.groupby(\"분기\")"
   ]
  },
  {
   "cell_type": "code",
   "execution_count": 57,
   "metadata": {},
   "outputs": [],
   "source": [
    "# unitprice_by_Q_SUM= unitprice_by_Q_season.sum()\n",
    "# unitprice_by_Q_MEAN= unitprice_by_Q_season.mean()"
   ]
  },
  {
   "cell_type": "code",
   "execution_count": 58,
   "metadata": {
    "scrolled": false
   },
   "outputs": [
    {
     "data": {
      "text/plain": [
       "Text(0.5, 1.0, '분기별 판매 단가 평균')"
      ]
     },
     "execution_count": 58,
     "metadata": {},
     "output_type": "execute_result"
    },
    {
     "name": "stderr",
     "output_type": "stream",
     "text": [
      "C:\\ProgramData\\Anaconda3\\lib\\site-packages\\matplotlib\\backends\\backend_agg.py:211: RuntimeWarning: Glyph 48516 missing from current font.\n",
      "  font.set_text(s, 0.0, flags=flags)\n",
      "C:\\ProgramData\\Anaconda3\\lib\\site-packages\\matplotlib\\backends\\backend_agg.py:211: RuntimeWarning: Glyph 44592 missing from current font.\n",
      "  font.set_text(s, 0.0, flags=flags)\n",
      "C:\\ProgramData\\Anaconda3\\lib\\site-packages\\matplotlib\\backends\\backend_agg.py:211: RuntimeWarning: Glyph 48324 missing from current font.\n",
      "  font.set_text(s, 0.0, flags=flags)\n",
      "C:\\ProgramData\\Anaconda3\\lib\\site-packages\\matplotlib\\backends\\backend_agg.py:211: RuntimeWarning: Glyph 54032 missing from current font.\n",
      "  font.set_text(s, 0.0, flags=flags)\n",
      "C:\\ProgramData\\Anaconda3\\lib\\site-packages\\matplotlib\\backends\\backend_agg.py:211: RuntimeWarning: Glyph 47588 missing from current font.\n",
      "  font.set_text(s, 0.0, flags=flags)\n",
      "C:\\ProgramData\\Anaconda3\\lib\\site-packages\\matplotlib\\backends\\backend_agg.py:211: RuntimeWarning: Glyph 45800 missing from current font.\n",
      "  font.set_text(s, 0.0, flags=flags)\n",
      "C:\\ProgramData\\Anaconda3\\lib\\site-packages\\matplotlib\\backends\\backend_agg.py:211: RuntimeWarning: Glyph 44032 missing from current font.\n",
      "  font.set_text(s, 0.0, flags=flags)\n",
      "C:\\ProgramData\\Anaconda3\\lib\\site-packages\\matplotlib\\backends\\backend_agg.py:211: RuntimeWarning: Glyph 54217 missing from current font.\n",
      "  font.set_text(s, 0.0, flags=flags)\n",
      "C:\\ProgramData\\Anaconda3\\lib\\site-packages\\matplotlib\\backends\\backend_agg.py:211: RuntimeWarning: Glyph 44512 missing from current font.\n",
      "  font.set_text(s, 0.0, flags=flags)\n",
      "C:\\ProgramData\\Anaconda3\\lib\\site-packages\\matplotlib\\backends\\backend_agg.py:180: RuntimeWarning: Glyph 48516 missing from current font.\n",
      "  font.set_text(s, 0, flags=flags)\n",
      "C:\\ProgramData\\Anaconda3\\lib\\site-packages\\matplotlib\\backends\\backend_agg.py:180: RuntimeWarning: Glyph 44592 missing from current font.\n",
      "  font.set_text(s, 0, flags=flags)\n",
      "C:\\ProgramData\\Anaconda3\\lib\\site-packages\\matplotlib\\backends\\backend_agg.py:180: RuntimeWarning: Glyph 48324 missing from current font.\n",
      "  font.set_text(s, 0, flags=flags)\n",
      "C:\\ProgramData\\Anaconda3\\lib\\site-packages\\matplotlib\\backends\\backend_agg.py:180: RuntimeWarning: Glyph 54032 missing from current font.\n",
      "  font.set_text(s, 0, flags=flags)\n",
      "C:\\ProgramData\\Anaconda3\\lib\\site-packages\\matplotlib\\backends\\backend_agg.py:180: RuntimeWarning: Glyph 47588 missing from current font.\n",
      "  font.set_text(s, 0, flags=flags)\n",
      "C:\\ProgramData\\Anaconda3\\lib\\site-packages\\matplotlib\\backends\\backend_agg.py:180: RuntimeWarning: Glyph 45800 missing from current font.\n",
      "  font.set_text(s, 0, flags=flags)\n",
      "C:\\ProgramData\\Anaconda3\\lib\\site-packages\\matplotlib\\backends\\backend_agg.py:180: RuntimeWarning: Glyph 44032 missing from current font.\n",
      "  font.set_text(s, 0, flags=flags)\n",
      "C:\\ProgramData\\Anaconda3\\lib\\site-packages\\matplotlib\\backends\\backend_agg.py:180: RuntimeWarning: Glyph 54217 missing from current font.\n",
      "  font.set_text(s, 0, flags=flags)\n",
      "C:\\ProgramData\\Anaconda3\\lib\\site-packages\\matplotlib\\backends\\backend_agg.py:180: RuntimeWarning: Glyph 44512 missing from current font.\n",
      "  font.set_text(s, 0, flags=flags)\n"
     ]
    },
    {
     "data": {
      "image/png": "[encoded data removed]",
      "text/plain": [
       "<Figure size 1008x432 with 1 Axes>"
      ]
     },
     "metadata": {},
     "output_type": "display_data"
    }
   ],
   "source": [
    "# # unitprice_by_Q_SUM.plot()\n",
    "# # plt.title(\"분기별 판매 단가 하\")\n",
    "# unitprice_by_Q_MEAN.plot.bar()\n",
    "# plt.title(\"분기별 판매 단가 평균\")"
   ]
  },
  {
   "cell_type": "markdown",
   "metadata": {},
   "source": [
    "# 분기별 상품명 수 (보류 )"
   ]
  },
  {
   "cell_type": "code",
   "execution_count": null,
   "metadata": {},
   "outputs": [],
   "source": []
  },
  {
   "cell_type": "markdown",
   "metadata": {},
   "source": [
    "# 분기별 최소판매수량 총합 / 평균 "
   ]
  },
  {
   "cell_type": "code",
   "execution_count": 59,
   "metadata": {},
   "outputs": [],
   "source": [
    "quantity_Q =  pd.DataFrame(kitchen_raw, columns = [\"분기\",\"최소판매수량\"])"
   ]
  },
  {
   "cell_type": "code",
   "execution_count": 60,
   "metadata": {},
   "outputs": [
    {
     "data": {
      "text/html": [
       "<div>\n",
       "<style scoped>\n",
       "    .dataframe tbody tr th:only-of-type {\n",
       "        vertical-align: middle;\n",
       "    }\n",
       "\n",
       "    .dataframe tbody tr th {\n",
       "        vertical-align: top;\n",
       "    }\n",
       "\n",
       "    .dataframe thead th {\n",
       "        text-align: right;\n",
       "    }\n",
       "</style>\n",
       "<table border=\"1\" class=\"dataframe\">\n",
       "  <thead>\n",
       "    <tr style=\"text-align: right;\">\n",
       "      <th></th>\n",
       "      <th>분기</th>\n",
       "      <th>최소판매수량</th>\n",
       "    </tr>\n",
       "  </thead>\n",
       "  <tbody>\n",
       "    <tr>\n",
       "      <th>20</th>\n",
       "      <td>Q1</td>\n",
       "      <td>555</td>\n",
       "    </tr>\n",
       "    <tr>\n",
       "      <th>21</th>\n",
       "      <td>Q1</td>\n",
       "      <td>970</td>\n",
       "    </tr>\n",
       "    <tr>\n",
       "      <th>22</th>\n",
       "      <td>Q1</td>\n",
       "      <td>1629</td>\n",
       "    </tr>\n",
       "    <tr>\n",
       "      <th>79</th>\n",
       "      <td>Q1</td>\n",
       "      <td>46</td>\n",
       "    </tr>\n",
       "    <tr>\n",
       "      <th>80</th>\n",
       "      <td>Q1</td>\n",
       "      <td>53</td>\n",
       "    </tr>\n",
       "    <tr>\n",
       "      <th>...</th>\n",
       "      <td>...</td>\n",
       "      <td>...</td>\n",
       "    </tr>\n",
       "    <tr>\n",
       "      <th>35370</th>\n",
       "      <td>Q4</td>\n",
       "      <td>11</td>\n",
       "    </tr>\n",
       "    <tr>\n",
       "      <th>35371</th>\n",
       "      <td>Q4</td>\n",
       "      <td>51</td>\n",
       "    </tr>\n",
       "    <tr>\n",
       "      <th>35372</th>\n",
       "      <td>Q4</td>\n",
       "      <td>91</td>\n",
       "    </tr>\n",
       "    <tr>\n",
       "      <th>35373</th>\n",
       "      <td>Q4</td>\n",
       "      <td>15</td>\n",
       "    </tr>\n",
       "    <tr>\n",
       "      <th>35374</th>\n",
       "      <td>Q4</td>\n",
       "      <td>69</td>\n",
       "    </tr>\n",
       "  </tbody>\n",
       "</table>\n",
       "<p>6567 rows × 2 columns</p>\n",
       "</div>"
      ],
      "text/plain": [
       "       분기  최소판매수량\n",
       "20     Q1     555\n",
       "21     Q1     970\n",
       "22     Q1    1629\n",
       "79     Q1      46\n",
       "80     Q1      53\n",
       "...    ..     ...\n",
       "35370  Q4      11\n",
       "35371  Q4      51\n",
       "35372  Q4      91\n",
       "35373  Q4      15\n",
       "35374  Q4      69\n",
       "\n",
       "[6567 rows x 2 columns]"
      ]
     },
     "execution_count": 60,
     "metadata": {},
     "output_type": "execute_result"
    }
   ],
   "source": [
    "quantity_Q"
   ]
  },
  {
   "cell_type": "code",
   "execution_count": 61,
   "metadata": {},
   "outputs": [
    {
     "ename": "NameError",
     "evalue": "name 'quantity_season_Q' is not defined",
     "output_type": "error",
     "traceback": [
      "\u001b[1;31m---------------------------------------------------------------------------\u001b[0m",
      "\u001b[1;31mNameError\u001b[0m                                 Traceback (most recent call last)",
      "\u001b[1;32m<ipython-input-61-5f7ceb5b9258>\u001b[0m in \u001b[0;36m<module>\u001b[1;34m\u001b[0m\n\u001b[1;32m----> 1\u001b[1;33m \u001b[0mquantity_Q_group\u001b[0m \u001b[1;33m=\u001b[0m \u001b[0mquantity_season_Q\u001b[0m\u001b[1;33m.\u001b[0m\u001b[0mgroupby\u001b[0m\u001b[1;33m(\u001b[0m\u001b[1;34m\"분기\"\u001b[0m\u001b[1;33m)\u001b[0m\u001b[1;33m\u001b[0m\u001b[1;33m\u001b[0m\u001b[0m\n\u001b[0m",
      "\u001b[1;31mNameError\u001b[0m: name 'quantity_season_Q' is not defined"
     ]
    }
   ],
   "source": [
    "quantity_Q_group = quantity_season_Q.groupby(\"분기\")"
   ]
  },
  {
   "cell_type": "code",
   "execution_count": null,
   "metadata": {},
   "outputs": [],
   "source": [
    "quantity_Q_group_sum  = quantity_Q_group.sum()   # 데이터프레임 \n",
    "quantity_Q_group_mean = quantity_Q_group.mean()"
   ]
  },
  {
   "cell_type": "code",
   "execution_count": null,
   "metadata": {},
   "outputs": [],
   "source": [
    "quantity_Q_group_sum.plot.bar()\n",
    "plt.title(\"분기별 최소판매수량 합계\")\n",
    "quantity_Q_group_mean.plot.bar()\n",
    "plt.title(\"분기별 최소판매수량 평균\")"
   ]
  },
  {
   "cell_type": "markdown",
   "metadata": {},
   "source": [
    "# 1-0. 시계열 (월별, 시간대별 )"
   ]
  },
  {
   "cell_type": "code",
   "execution_count": null,
   "metadata": {},
   "outputs": [],
   "source": [
    "kitchen_raw"
   ]
  },
  {
   "cell_type": "markdown",
   "metadata": {},
   "source": [
    "# 월별 취급액 총합 / 평균 "
   ]
  },
  {
   "cell_type": "code",
   "execution_count": null,
   "metadata": {},
   "outputs": [],
   "source": [
    "sales_by_month = pd.DataFrame(kitchen_raw, columns = (\"월\",\"취급액\"))"
   ]
  },
  {
   "cell_type": "code",
   "execution_count": null,
   "metadata": {},
   "outputs": [],
   "source": [
    "sales_by_month"
   ]
  },
  {
   "cell_type": "code",
   "execution_count": null,
   "metadata": {},
   "outputs": [],
   "source": [
    "sales_by_month_group = sales_by_month.groupby(\"월\")"
   ]
  },
  {
   "cell_type": "code",
   "execution_count": null,
   "metadata": {},
   "outputs": [],
   "source": [
    "sales_by_month_group_SUM= sales_by_month_group.sum()\n",
    "sales_by_month_group_MEAN=  sales_by_month_group.mean() "
   ]
  },
  {
   "cell_type": "code",
   "execution_count": null,
   "metadata": {},
   "outputs": [],
   "source": [
    "sales_by_month_group_SUM.plot()\n",
    "plt.title(\"월별 취급액 합계\")\n",
    "plt.xticks(np.arange(1,13,1))\n",
    "\n",
    "sales_by_month_group_MEAN.plot()\n",
    "plt.title(\"월별 취급액 평균\")\n",
    "plt.xticks(np.arange(1,13,1))"
   ]
  },
  {
   "cell_type": "code",
   "execution_count": null,
   "metadata": {},
   "outputs": [],
   "source": []
  },
  {
   "cell_type": "markdown",
   "metadata": {},
   "source": [
    "# 시간대별 취급액 총합 / 평균 "
   ]
  },
  {
   "cell_type": "code",
   "execution_count": null,
   "metadata": {},
   "outputs": [],
   "source": [
    "sales_by_hhmm = pd.DataFrame(kitchen_raw, columns = (\"시간\",\"취급액\"))"
   ]
  },
  {
   "cell_type": "code",
   "execution_count": null,
   "metadata": {},
   "outputs": [],
   "source": [
    "sales_by_hhmm"
   ]
  },
  {
   "cell_type": "code",
   "execution_count": null,
   "metadata": {},
   "outputs": [],
   "source": [
    "sales_by_hhmm_group = sales_by_hhmm.groupby(\"시간\")"
   ]
  },
  {
   "cell_type": "code",
   "execution_count": null,
   "metadata": {},
   "outputs": [],
   "source": [
    "sales_by_time_SUM = sales_by_hhmm_group.sum()\n",
    "sales_by_time_MEAN= sales_by_hhmm_group.mean()"
   ]
  },
  {
   "cell_type": "code",
   "execution_count": null,
   "metadata": {},
   "outputs": [],
   "source": [
    "sales_by_time_SUM.plot()\n",
    "plt.title(\"시간대 별 취급액 총합\")\n",
    "# plt.xticks(np.arange(0,24,1))\n",
    "\n",
    "\n",
    "\n",
    "sales_by_time_MEAN.plot()\n",
    "plt.title(\"시간대 별 취급액 평균\")"
   ]
  },
  {
   "cell_type": "code",
   "execution_count": null,
   "metadata": {},
   "outputs": [],
   "source": []
  },
  {
   "cell_type": "code",
   "execution_count": null,
   "metadata": {},
   "outputs": [],
   "source": []
  },
  {
   "cell_type": "code",
   "execution_count": null,
   "metadata": {},
   "outputs": [],
   "source": []
  },
  {
   "cell_type": "code",
   "execution_count": null,
   "metadata": {},
   "outputs": [],
   "source": [
    "##################### 새로운 버젼 ###################"
   ]
  },
  {
   "cell_type": "code",
   "execution_count": null,
   "metadata": {},
   "outputs": [],
   "source": []
  },
  {
   "cell_type": "code",
   "execution_count": 62,
   "metadata": {},
   "outputs": [],
   "source": [
    "from timeseries_graph_functions import *  # 시각화용 함수 만든것 불러오기 "
   ]
  },
  {
   "cell_type": "code",
   "execution_count": 63,
   "metadata": {},
   "outputs": [],
   "source": [
    "pd.set_option('display.float_format', '{:.2f}'.format)    #과학적 표기법 안쓸래 \n",
    "mpl.rcParams['axes.unicode_minus'] = False               # 마이너스 표기 오류 방지 "
   ]
  },
  {
   "cell_type": "code",
   "execution_count": 64,
   "metadata": {},
   "outputs": [],
   "source": [
    "# 한글 폰트 깨짐 방지 \n",
    "font_name = fm.FontProperties(fname=\"C:/Windows/Fonts/malgun.ttf\").get_name()   \n",
    "rc('font', family=font_name)\n",
    "# plt.rcParams['font.family'] = 'Malgun Gothic'"
   ]
  },
  {
   "cell_type": "code",
   "execution_count": 65,
   "metadata": {},
   "outputs": [],
   "source": [
    "base_dir = \"C:\\\\programming\\\\bigcontest_2020\\\\champion_league\\\\preprocess\\\\saejin\"\n",
    "excel_file = \"원데이터 전처리.xlsx\"\n",
    "\n",
    "excel_dir = os.path.join(base_dir,excel_file)"
   ]
  },
  {
   "cell_type": "code",
   "execution_count": 66,
   "metadata": {},
   "outputs": [],
   "source": [
    "raw_data = pd.read_excel(excel_dir, \n",
    "                             sheet_name = \"Sheet1\",\n",
    "                             header = 0)"
   ]
  },
  {
   "cell_type": "code",
   "execution_count": 67,
   "metadata": {},
   "outputs": [
    {
     "data": {
      "text/html": [
       "<div>\n",
       "<style scoped>\n",
       "    .dataframe tbody tr th:only-of-type {\n",
       "        vertical-align: middle;\n",
       "    }\n",
       "\n",
       "    .dataframe tbody tr th {\n",
       "        vertical-align: top;\n",
       "    }\n",
       "\n",
       "    .dataframe thead th {\n",
       "        text-align: right;\n",
       "    }\n",
       "</style>\n",
       "<table border=\"1\" class=\"dataframe\">\n",
       "  <thead>\n",
       "    <tr style=\"text-align: right;\">\n",
       "      <th></th>\n",
       "      <th>Unnamed: 0</th>\n",
       "      <th>방송일시</th>\n",
       "      <th>노출(분)</th>\n",
       "      <th>마더코드</th>\n",
       "      <th>상품코드</th>\n",
       "      <th>상품명</th>\n",
       "      <th>상품군</th>\n",
       "      <th>판매단가</th>\n",
       "      <th>취급액</th>\n",
       "      <th>날짜</th>\n",
       "      <th>...</th>\n",
       "      <th>월</th>\n",
       "      <th>일</th>\n",
       "      <th>요일</th>\n",
       "      <th>분기</th>\n",
       "      <th>365일</th>\n",
       "      <th>계절</th>\n",
       "      <th>방송시간</th>\n",
       "      <th>매진여부</th>\n",
       "      <th>취급액boxcox</th>\n",
       "      <th>최소판매수량</th>\n",
       "    </tr>\n",
       "  </thead>\n",
       "  <tbody>\n",
       "    <tr>\n",
       "      <th>0</th>\n",
       "      <td>1</td>\n",
       "      <td>2019-01-01 06:00:00</td>\n",
       "      <td>20.00</td>\n",
       "      <td>100346</td>\n",
       "      <td>201072</td>\n",
       "      <td>테이트 남성 셀린니트3종</td>\n",
       "      <td>의류</td>\n",
       "      <td>39900</td>\n",
       "      <td>2099000</td>\n",
       "      <td>20190101</td>\n",
       "      <td>...</td>\n",
       "      <td>1</td>\n",
       "      <td>1</td>\n",
       "      <td>화요일</td>\n",
       "      <td>Q1</td>\n",
       "      <td>1</td>\n",
       "      <td>겨울</td>\n",
       "      <td>20.00</td>\n",
       "      <td>0</td>\n",
       "      <td>109.82</td>\n",
       "      <td>53</td>\n",
       "    </tr>\n",
       "    <tr>\n",
       "      <th>1</th>\n",
       "      <td>2</td>\n",
       "      <td>2019-01-01 06:00:00</td>\n",
       "      <td>20.00</td>\n",
       "      <td>100346</td>\n",
       "      <td>201079</td>\n",
       "      <td>테이트 여성 셀린니트3종</td>\n",
       "      <td>의류</td>\n",
       "      <td>39900</td>\n",
       "      <td>4371000</td>\n",
       "      <td>20190101</td>\n",
       "      <td>...</td>\n",
       "      <td>1</td>\n",
       "      <td>1</td>\n",
       "      <td>화요일</td>\n",
       "      <td>Q1</td>\n",
       "      <td>1</td>\n",
       "      <td>겨울</td>\n",
       "      <td>20.00</td>\n",
       "      <td>0</td>\n",
       "      <td>130.05</td>\n",
       "      <td>110</td>\n",
       "    </tr>\n",
       "    <tr>\n",
       "      <th>2</th>\n",
       "      <td>3</td>\n",
       "      <td>2019-01-01 06:20:00</td>\n",
       "      <td>20.00</td>\n",
       "      <td>100346</td>\n",
       "      <td>201072</td>\n",
       "      <td>테이트 남성 셀린니트3종</td>\n",
       "      <td>의류</td>\n",
       "      <td>39900</td>\n",
       "      <td>3262000</td>\n",
       "      <td>20190101</td>\n",
       "      <td>...</td>\n",
       "      <td>1</td>\n",
       "      <td>1</td>\n",
       "      <td>화요일</td>\n",
       "      <td>Q1</td>\n",
       "      <td>1</td>\n",
       "      <td>겨울</td>\n",
       "      <td>20.00</td>\n",
       "      <td>0</td>\n",
       "      <td>121.58</td>\n",
       "      <td>82</td>\n",
       "    </tr>\n",
       "    <tr>\n",
       "      <th>3</th>\n",
       "      <td>4</td>\n",
       "      <td>2019-01-01 06:20:00</td>\n",
       "      <td>20.00</td>\n",
       "      <td>100346</td>\n",
       "      <td>201079</td>\n",
       "      <td>테이트 여성 셀린니트3종</td>\n",
       "      <td>의류</td>\n",
       "      <td>39900</td>\n",
       "      <td>6955000</td>\n",
       "      <td>20190101</td>\n",
       "      <td>...</td>\n",
       "      <td>1</td>\n",
       "      <td>1</td>\n",
       "      <td>화요일</td>\n",
       "      <td>Q1</td>\n",
       "      <td>1</td>\n",
       "      <td>겨울</td>\n",
       "      <td>20.00</td>\n",
       "      <td>0</td>\n",
       "      <td>144.68</td>\n",
       "      <td>174</td>\n",
       "    </tr>\n",
       "    <tr>\n",
       "      <th>4</th>\n",
       "      <td>5</td>\n",
       "      <td>2019-01-01 06:40:00</td>\n",
       "      <td>20.00</td>\n",
       "      <td>100346</td>\n",
       "      <td>201072</td>\n",
       "      <td>테이트 남성 셀린니트3종</td>\n",
       "      <td>의류</td>\n",
       "      <td>39900</td>\n",
       "      <td>6672000</td>\n",
       "      <td>20190101</td>\n",
       "      <td>...</td>\n",
       "      <td>1</td>\n",
       "      <td>1</td>\n",
       "      <td>화요일</td>\n",
       "      <td>Q1</td>\n",
       "      <td>1</td>\n",
       "      <td>겨울</td>\n",
       "      <td>20.00</td>\n",
       "      <td>0</td>\n",
       "      <td>143.31</td>\n",
       "      <td>167</td>\n",
       "    </tr>\n",
       "    <tr>\n",
       "      <th>...</th>\n",
       "      <td>...</td>\n",
       "      <td>...</td>\n",
       "      <td>...</td>\n",
       "      <td>...</td>\n",
       "      <td>...</td>\n",
       "      <td>...</td>\n",
       "      <td>...</td>\n",
       "      <td>...</td>\n",
       "      <td>...</td>\n",
       "      <td>...</td>\n",
       "      <td>...</td>\n",
       "      <td>...</td>\n",
       "      <td>...</td>\n",
       "      <td>...</td>\n",
       "      <td>...</td>\n",
       "      <td>...</td>\n",
       "      <td>...</td>\n",
       "      <td>...</td>\n",
       "      <td>...</td>\n",
       "      <td>...</td>\n",
       "      <td>...</td>\n",
       "    </tr>\n",
       "    <tr>\n",
       "      <th>35370</th>\n",
       "      <td>38296</td>\n",
       "      <td>2019-12-31 23:20:00</td>\n",
       "      <td>20.00</td>\n",
       "      <td>100448</td>\n",
       "      <td>201391</td>\n",
       "      <td>일시불쿠첸압력밥솥 6인용</td>\n",
       "      <td>주방</td>\n",
       "      <td>148000</td>\n",
       "      <td>1664000</td>\n",
       "      <td>20191231</td>\n",
       "      <td>...</td>\n",
       "      <td>12</td>\n",
       "      <td>31</td>\n",
       "      <td>화요일</td>\n",
       "      <td>Q4</td>\n",
       "      <td>365</td>\n",
       "      <td>겨울</td>\n",
       "      <td>20.00</td>\n",
       "      <td>0</td>\n",
       "      <td>104.07</td>\n",
       "      <td>11</td>\n",
       "    </tr>\n",
       "    <tr>\n",
       "      <th>35371</th>\n",
       "      <td>38297</td>\n",
       "      <td>2019-12-31 23:40:00</td>\n",
       "      <td>20.00</td>\n",
       "      <td>100448</td>\n",
       "      <td>201383</td>\n",
       "      <td>무이자쿠첸압력밥솥 10인용</td>\n",
       "      <td>주방</td>\n",
       "      <td>178000</td>\n",
       "      <td>9149000</td>\n",
       "      <td>20191231</td>\n",
       "      <td>...</td>\n",
       "      <td>12</td>\n",
       "      <td>31</td>\n",
       "      <td>화요일</td>\n",
       "      <td>Q4</td>\n",
       "      <td>365</td>\n",
       "      <td>겨울</td>\n",
       "      <td>20.00</td>\n",
       "      <td>0</td>\n",
       "      <td>154.06</td>\n",
       "      <td>51</td>\n",
       "    </tr>\n",
       "    <tr>\n",
       "      <th>35372</th>\n",
       "      <td>38298</td>\n",
       "      <td>2019-12-31 23:40:00</td>\n",
       "      <td>20.00</td>\n",
       "      <td>100448</td>\n",
       "      <td>201390</td>\n",
       "      <td>일시불쿠첸압력밥솥 10인용</td>\n",
       "      <td>주방</td>\n",
       "      <td>168000</td>\n",
       "      <td>15282000</td>\n",
       "      <td>20191231</td>\n",
       "      <td>...</td>\n",
       "      <td>12</td>\n",
       "      <td>31</td>\n",
       "      <td>화요일</td>\n",
       "      <td>Q4</td>\n",
       "      <td>365</td>\n",
       "      <td>겨울</td>\n",
       "      <td>20.00</td>\n",
       "      <td>0</td>\n",
       "      <td>173.20</td>\n",
       "      <td>91</td>\n",
       "    </tr>\n",
       "    <tr>\n",
       "      <th>35373</th>\n",
       "      <td>38299</td>\n",
       "      <td>2019-12-31 23:40:00</td>\n",
       "      <td>20.00</td>\n",
       "      <td>100448</td>\n",
       "      <td>201384</td>\n",
       "      <td>무이자쿠첸압력밥솥 6인용</td>\n",
       "      <td>주방</td>\n",
       "      <td>158000</td>\n",
       "      <td>2328000</td>\n",
       "      <td>20191231</td>\n",
       "      <td>...</td>\n",
       "      <td>12</td>\n",
       "      <td>31</td>\n",
       "      <td>화요일</td>\n",
       "      <td>Q4</td>\n",
       "      <td>365</td>\n",
       "      <td>겨울</td>\n",
       "      <td>20.00</td>\n",
       "      <td>0</td>\n",
       "      <td>112.48</td>\n",
       "      <td>15</td>\n",
       "    </tr>\n",
       "    <tr>\n",
       "      <th>35374</th>\n",
       "      <td>38300</td>\n",
       "      <td>2019-12-31 23:40:00</td>\n",
       "      <td>20.00</td>\n",
       "      <td>100448</td>\n",
       "      <td>201391</td>\n",
       "      <td>일시불쿠첸압력밥솥 6인용</td>\n",
       "      <td>주방</td>\n",
       "      <td>148000</td>\n",
       "      <td>10157000</td>\n",
       "      <td>20191231</td>\n",
       "      <td>...</td>\n",
       "      <td>12</td>\n",
       "      <td>31</td>\n",
       "      <td>화요일</td>\n",
       "      <td>Q4</td>\n",
       "      <td>365</td>\n",
       "      <td>겨울</td>\n",
       "      <td>20.00</td>\n",
       "      <td>0</td>\n",
       "      <td>157.78</td>\n",
       "      <td>69</td>\n",
       "    </tr>\n",
       "  </tbody>\n",
       "</table>\n",
       "<p>35375 rows × 21 columns</p>\n",
       "</div>"
      ],
      "text/plain": [
       "       Unnamed: 0                방송일시  노출(분)    마더코드    상품코드             상품명  \\\n",
       "0               1 2019-01-01 06:00:00  20.00  100346  201072   테이트 남성 셀린니트3종   \n",
       "1               2 2019-01-01 06:00:00  20.00  100346  201079   테이트 여성 셀린니트3종   \n",
       "2               3 2019-01-01 06:20:00  20.00  100346  201072   테이트 남성 셀린니트3종   \n",
       "3               4 2019-01-01 06:20:00  20.00  100346  201079   테이트 여성 셀린니트3종   \n",
       "4               5 2019-01-01 06:40:00  20.00  100346  201072   테이트 남성 셀린니트3종   \n",
       "...           ...                 ...    ...     ...     ...             ...   \n",
       "35370       38296 2019-12-31 23:20:00  20.00  100448  201391   일시불쿠첸압력밥솥 6인용   \n",
       "35371       38297 2019-12-31 23:40:00  20.00  100448  201383  무이자쿠첸압력밥솥 10인용   \n",
       "35372       38298 2019-12-31 23:40:00  20.00  100448  201390  일시불쿠첸압력밥솥 10인용   \n",
       "35373       38299 2019-12-31 23:40:00  20.00  100448  201384   무이자쿠첸압력밥솥 6인용   \n",
       "35374       38300 2019-12-31 23:40:00  20.00  100448  201391   일시불쿠첸압력밥솥 6인용   \n",
       "\n",
       "      상품군    판매단가       취급액        날짜  ...   월   일   요일  분기 365일  계절  방송시간  \\\n",
       "0      의류   39900   2099000  20190101  ...   1   1  화요일  Q1    1  겨울 20.00   \n",
       "1      의류   39900   4371000  20190101  ...   1   1  화요일  Q1    1  겨울 20.00   \n",
       "2      의류   39900   3262000  20190101  ...   1   1  화요일  Q1    1  겨울 20.00   \n",
       "3      의류   39900   6955000  20190101  ...   1   1  화요일  Q1    1  겨울 20.00   \n",
       "4      의류   39900   6672000  20190101  ...   1   1  화요일  Q1    1  겨울 20.00   \n",
       "...    ..     ...       ...       ...  ...  ..  ..  ...  ..  ...  ..   ...   \n",
       "35370  주방  148000   1664000  20191231  ...  12  31  화요일  Q4  365  겨울 20.00   \n",
       "35371  주방  178000   9149000  20191231  ...  12  31  화요일  Q4  365  겨울 20.00   \n",
       "35372  주방  168000  15282000  20191231  ...  12  31  화요일  Q4  365  겨울 20.00   \n",
       "35373  주방  158000   2328000  20191231  ...  12  31  화요일  Q4  365  겨울 20.00   \n",
       "35374  주방  148000  10157000  20191231  ...  12  31  화요일  Q4  365  겨울 20.00   \n",
       "\n",
       "       매진여부  취급액boxcox  최소판매수량  \n",
       "0         0     109.82      53  \n",
       "1         0     130.05     110  \n",
       "2         0     121.58      82  \n",
       "3         0     144.68     174  \n",
       "4         0     143.31     167  \n",
       "...     ...        ...     ...  \n",
       "35370     0     104.07      11  \n",
       "35371     0     154.06      51  \n",
       "35372     0     173.20      91  \n",
       "35373     0     112.48      15  \n",
       "35374     0     157.78      69  \n",
       "\n",
       "[35375 rows x 21 columns]"
      ]
     },
     "execution_count": 67,
     "metadata": {},
     "output_type": "execute_result"
    }
   ],
   "source": [
    "raw_data"
   ]
  },
  {
   "cell_type": "markdown",
   "metadata": {},
   "source": [
    "# 상품군 : 주방\n"
   ]
  },
  {
   "cell_type": "code",
   "execution_count": 68,
   "metadata": {},
   "outputs": [],
   "source": [
    "kitchen_raw = raw_data[raw_data['상품군'] == '주방']"
   ]
  },
  {
   "cell_type": "code",
   "execution_count": 69,
   "metadata": {},
   "outputs": [],
   "source": [
    "focus_data = kitchen_raw"
   ]
  },
  {
   "cell_type": "code",
   "execution_count": 73,
   "metadata": {},
   "outputs": [
    {
     "name": "stdout",
     "output_type": "stream",
     "text": [
      "<class 'pandas.core.frame.DataFrame'>\n",
      "Int64Index: 6567 entries, 20 to 35374\n",
      "Data columns (total 21 columns):\n",
      " #   Column      Non-Null Count  Dtype         \n",
      "---  ------      --------------  -----         \n",
      " 0   Unnamed: 0  6567 non-null   int64         \n",
      " 1   방송일시        6567 non-null   datetime64[ns]\n",
      " 2   노출(분)       6567 non-null   float64       \n",
      " 3   마더코드        6567 non-null   int64         \n",
      " 4   상품코드        6567 non-null   int64         \n",
      " 5   상품명         6567 non-null   object        \n",
      " 6   상품군         6567 non-null   object        \n",
      " 7   판매단가        6567 non-null   int64         \n",
      " 8   취급액         6567 non-null   int64         \n",
      " 9   날짜          6567 non-null   int64         \n",
      " 10  시간          6567 non-null   object        \n",
      " 11  월           6567 non-null   int64         \n",
      " 12  일           6567 non-null   int64         \n",
      " 13  요일          6567 non-null   object        \n",
      " 14  분기          6567 non-null   object        \n",
      " 15  365일        6567 non-null   int64         \n",
      " 16  계절          6567 non-null   object        \n",
      " 17  방송시간        6567 non-null   float64       \n",
      " 18  매진여부        6567 non-null   int64         \n",
      " 19  취급액boxcox   6567 non-null   float64       \n",
      " 20  최소판매수량      6567 non-null   int64         \n",
      "dtypes: datetime64[ns](1), float64(3), int64(11), object(6)\n",
      "memory usage: 1.1+ MB\n"
     ]
    }
   ],
   "source": [
    "focus_data.info()"
   ]
  },
  {
   "cell_type": "code",
   "execution_count": 74,
   "metadata": {},
   "outputs": [
    {
     "data": {
      "text/html": [
       "<div>\n",
       "<style scoped>\n",
       "    .dataframe tbody tr th:only-of-type {\n",
       "        vertical-align: middle;\n",
       "    }\n",
       "\n",
       "    .dataframe tbody tr th {\n",
       "        vertical-align: top;\n",
       "    }\n",
       "\n",
       "    .dataframe thead th {\n",
       "        text-align: right;\n",
       "    }\n",
       "</style>\n",
       "<table border=\"1\" class=\"dataframe\">\n",
       "  <thead>\n",
       "    <tr style=\"text-align: right;\">\n",
       "      <th></th>\n",
       "      <th>Unnamed: 0</th>\n",
       "      <th>방송일시</th>\n",
       "      <th>노출(분)</th>\n",
       "      <th>마더코드</th>\n",
       "      <th>상품코드</th>\n",
       "      <th>상품명</th>\n",
       "      <th>상품군</th>\n",
       "      <th>판매단가</th>\n",
       "      <th>취급액</th>\n",
       "      <th>날짜</th>\n",
       "      <th>...</th>\n",
       "      <th>월</th>\n",
       "      <th>일</th>\n",
       "      <th>요일</th>\n",
       "      <th>분기</th>\n",
       "      <th>365일</th>\n",
       "      <th>계절</th>\n",
       "      <th>방송시간</th>\n",
       "      <th>매진여부</th>\n",
       "      <th>취급액boxcox</th>\n",
       "      <th>최소판매수량</th>\n",
       "    </tr>\n",
       "  </thead>\n",
       "  <tbody>\n",
       "    <tr>\n",
       "      <th>20</th>\n",
       "      <td>21</td>\n",
       "      <td>2019-01-01 12:00:00</td>\n",
       "      <td>20.00</td>\n",
       "      <td>100088</td>\n",
       "      <td>200236</td>\n",
       "      <td>에코라믹 통주물 스톤 냄비세트</td>\n",
       "      <td>주방</td>\n",
       "      <td>60900</td>\n",
       "      <td>33823000</td>\n",
       "      <td>20190101</td>\n",
       "      <td>...</td>\n",
       "      <td>1</td>\n",
       "      <td>1</td>\n",
       "      <td>화요일</td>\n",
       "      <td>Q1</td>\n",
       "      <td>1</td>\n",
       "      <td>겨울</td>\n",
       "      <td>20.00</td>\n",
       "      <td>0</td>\n",
       "      <td>207.52</td>\n",
       "      <td>555</td>\n",
       "    </tr>\n",
       "    <tr>\n",
       "      <th>21</th>\n",
       "      <td>22</td>\n",
       "      <td>2019-01-01 12:20:00</td>\n",
       "      <td>20.00</td>\n",
       "      <td>100088</td>\n",
       "      <td>200236</td>\n",
       "      <td>에코라믹 통주물 스톤 냄비세트</td>\n",
       "      <td>주방</td>\n",
       "      <td>60900</td>\n",
       "      <td>59083000</td>\n",
       "      <td>20190101</td>\n",
       "      <td>...</td>\n",
       "      <td>1</td>\n",
       "      <td>1</td>\n",
       "      <td>화요일</td>\n",
       "      <td>Q1</td>\n",
       "      <td>1</td>\n",
       "      <td>겨울</td>\n",
       "      <td>20.00</td>\n",
       "      <td>0</td>\n",
       "      <td>235.50</td>\n",
       "      <td>970</td>\n",
       "    </tr>\n",
       "    <tr>\n",
       "      <th>22</th>\n",
       "      <td>23</td>\n",
       "      <td>2019-01-01 12:40:00</td>\n",
       "      <td>20.00</td>\n",
       "      <td>100088</td>\n",
       "      <td>200236</td>\n",
       "      <td>에코라믹 통주물 스톤 냄비세트</td>\n",
       "      <td>주방</td>\n",
       "      <td>60900</td>\n",
       "      <td>99235000</td>\n",
       "      <td>20190101</td>\n",
       "      <td>...</td>\n",
       "      <td>1</td>\n",
       "      <td>1</td>\n",
       "      <td>화요일</td>\n",
       "      <td>Q1</td>\n",
       "      <td>1</td>\n",
       "      <td>겨울</td>\n",
       "      <td>20.00</td>\n",
       "      <td>0</td>\n",
       "      <td>264.81</td>\n",
       "      <td>1629</td>\n",
       "    </tr>\n",
       "    <tr>\n",
       "      <th>79</th>\n",
       "      <td>80</td>\n",
       "      <td>2019-01-02 10:00:00</td>\n",
       "      <td>20.00</td>\n",
       "      <td>100448</td>\n",
       "      <td>202098</td>\n",
       "      <td>일시불 쿠첸 풀스텐 압력밥솥 10인용 (A1)</td>\n",
       "      <td>주방</td>\n",
       "      <td>158000</td>\n",
       "      <td>7239000</td>\n",
       "      <td>20190102</td>\n",
       "      <td>...</td>\n",
       "      <td>1</td>\n",
       "      <td>2</td>\n",
       "      <td>수요일</td>\n",
       "      <td>Q1</td>\n",
       "      <td>2</td>\n",
       "      <td>겨울</td>\n",
       "      <td>20.00</td>\n",
       "      <td>0</td>\n",
       "      <td>146.02</td>\n",
       "      <td>46</td>\n",
       "    </tr>\n",
       "    <tr>\n",
       "      <th>80</th>\n",
       "      <td>81</td>\n",
       "      <td>2019-01-02 10:00:00</td>\n",
       "      <td>20.00</td>\n",
       "      <td>100448</td>\n",
       "      <td>202093</td>\n",
       "      <td>무이자 쿠첸 풀스텐 압력밥솥 10인용(A1)</td>\n",
       "      <td>주방</td>\n",
       "      <td>168000</td>\n",
       "      <td>8951000</td>\n",
       "      <td>20190102</td>\n",
       "      <td>...</td>\n",
       "      <td>1</td>\n",
       "      <td>2</td>\n",
       "      <td>수요일</td>\n",
       "      <td>Q1</td>\n",
       "      <td>2</td>\n",
       "      <td>겨울</td>\n",
       "      <td>20.00</td>\n",
       "      <td>0</td>\n",
       "      <td>153.29</td>\n",
       "      <td>53</td>\n",
       "    </tr>\n",
       "    <tr>\n",
       "      <th>...</th>\n",
       "      <td>...</td>\n",
       "      <td>...</td>\n",
       "      <td>...</td>\n",
       "      <td>...</td>\n",
       "      <td>...</td>\n",
       "      <td>...</td>\n",
       "      <td>...</td>\n",
       "      <td>...</td>\n",
       "      <td>...</td>\n",
       "      <td>...</td>\n",
       "      <td>...</td>\n",
       "      <td>...</td>\n",
       "      <td>...</td>\n",
       "      <td>...</td>\n",
       "      <td>...</td>\n",
       "      <td>...</td>\n",
       "      <td>...</td>\n",
       "      <td>...</td>\n",
       "      <td>...</td>\n",
       "      <td>...</td>\n",
       "      <td>...</td>\n",
       "    </tr>\n",
       "    <tr>\n",
       "      <th>35370</th>\n",
       "      <td>38296</td>\n",
       "      <td>2019-12-31 23:20:00</td>\n",
       "      <td>20.00</td>\n",
       "      <td>100448</td>\n",
       "      <td>201391</td>\n",
       "      <td>일시불쿠첸압력밥솥 6인용</td>\n",
       "      <td>주방</td>\n",
       "      <td>148000</td>\n",
       "      <td>1664000</td>\n",
       "      <td>20191231</td>\n",
       "      <td>...</td>\n",
       "      <td>12</td>\n",
       "      <td>31</td>\n",
       "      <td>화요일</td>\n",
       "      <td>Q4</td>\n",
       "      <td>365</td>\n",
       "      <td>겨울</td>\n",
       "      <td>20.00</td>\n",
       "      <td>0</td>\n",
       "      <td>104.07</td>\n",
       "      <td>11</td>\n",
       "    </tr>\n",
       "    <tr>\n",
       "      <th>35371</th>\n",
       "      <td>38297</td>\n",
       "      <td>2019-12-31 23:40:00</td>\n",
       "      <td>20.00</td>\n",
       "      <td>100448</td>\n",
       "      <td>201383</td>\n",
       "      <td>무이자쿠첸압력밥솥 10인용</td>\n",
       "      <td>주방</td>\n",
       "      <td>178000</td>\n",
       "      <td>9149000</td>\n",
       "      <td>20191231</td>\n",
       "      <td>...</td>\n",
       "      <td>12</td>\n",
       "      <td>31</td>\n",
       "      <td>화요일</td>\n",
       "      <td>Q4</td>\n",
       "      <td>365</td>\n",
       "      <td>겨울</td>\n",
       "      <td>20.00</td>\n",
       "      <td>0</td>\n",
       "      <td>154.06</td>\n",
       "      <td>51</td>\n",
       "    </tr>\n",
       "    <tr>\n",
       "      <th>35372</th>\n",
       "      <td>38298</td>\n",
       "      <td>2019-12-31 23:40:00</td>\n",
       "      <td>20.00</td>\n",
       "      <td>100448</td>\n",
       "      <td>201390</td>\n",
       "      <td>일시불쿠첸압력밥솥 10인용</td>\n",
       "      <td>주방</td>\n",
       "      <td>168000</td>\n",
       "      <td>15282000</td>\n",
       "      <td>20191231</td>\n",
       "      <td>...</td>\n",
       "      <td>12</td>\n",
       "      <td>31</td>\n",
       "      <td>화요일</td>\n",
       "      <td>Q4</td>\n",
       "      <td>365</td>\n",
       "      <td>겨울</td>\n",
       "      <td>20.00</td>\n",
       "      <td>0</td>\n",
       "      <td>173.20</td>\n",
       "      <td>91</td>\n",
       "    </tr>\n",
       "    <tr>\n",
       "      <th>35373</th>\n",
       "      <td>38299</td>\n",
       "      <td>2019-12-31 23:40:00</td>\n",
       "      <td>20.00</td>\n",
       "      <td>100448</td>\n",
       "      <td>201384</td>\n",
       "      <td>무이자쿠첸압력밥솥 6인용</td>\n",
       "      <td>주방</td>\n",
       "      <td>158000</td>\n",
       "      <td>2328000</td>\n",
       "      <td>20191231</td>\n",
       "      <td>...</td>\n",
       "      <td>12</td>\n",
       "      <td>31</td>\n",
       "      <td>화요일</td>\n",
       "      <td>Q4</td>\n",
       "      <td>365</td>\n",
       "      <td>겨울</td>\n",
       "      <td>20.00</td>\n",
       "      <td>0</td>\n",
       "      <td>112.48</td>\n",
       "      <td>15</td>\n",
       "    </tr>\n",
       "    <tr>\n",
       "      <th>35374</th>\n",
       "      <td>38300</td>\n",
       "      <td>2019-12-31 23:40:00</td>\n",
       "      <td>20.00</td>\n",
       "      <td>100448</td>\n",
       "      <td>201391</td>\n",
       "      <td>일시불쿠첸압력밥솥 6인용</td>\n",
       "      <td>주방</td>\n",
       "      <td>148000</td>\n",
       "      <td>10157000</td>\n",
       "      <td>20191231</td>\n",
       "      <td>...</td>\n",
       "      <td>12</td>\n",
       "      <td>31</td>\n",
       "      <td>화요일</td>\n",
       "      <td>Q4</td>\n",
       "      <td>365</td>\n",
       "      <td>겨울</td>\n",
       "      <td>20.00</td>\n",
       "      <td>0</td>\n",
       "      <td>157.78</td>\n",
       "      <td>69</td>\n",
       "    </tr>\n",
       "  </tbody>\n",
       "</table>\n",
       "<p>6567 rows × 21 columns</p>\n",
       "</div>"
      ],
      "text/plain": [
       "       Unnamed: 0                방송일시  노출(분)    마더코드    상품코드  \\\n",
       "20             21 2019-01-01 12:00:00  20.00  100088  200236   \n",
       "21             22 2019-01-01 12:20:00  20.00  100088  200236   \n",
       "22             23 2019-01-01 12:40:00  20.00  100088  200236   \n",
       "79             80 2019-01-02 10:00:00  20.00  100448  202098   \n",
       "80             81 2019-01-02 10:00:00  20.00  100448  202093   \n",
       "...           ...                 ...    ...     ...     ...   \n",
       "35370       38296 2019-12-31 23:20:00  20.00  100448  201391   \n",
       "35371       38297 2019-12-31 23:40:00  20.00  100448  201383   \n",
       "35372       38298 2019-12-31 23:40:00  20.00  100448  201390   \n",
       "35373       38299 2019-12-31 23:40:00  20.00  100448  201384   \n",
       "35374       38300 2019-12-31 23:40:00  20.00  100448  201391   \n",
       "\n",
       "                             상품명 상품군    판매단가       취급액        날짜  ...   월   일  \\\n",
       "20              에코라믹 통주물 스톤 냄비세트  주방   60900  33823000  20190101  ...   1   1   \n",
       "21              에코라믹 통주물 스톤 냄비세트  주방   60900  59083000  20190101  ...   1   1   \n",
       "22              에코라믹 통주물 스톤 냄비세트  주방   60900  99235000  20190101  ...   1   1   \n",
       "79     일시불 쿠첸 풀스텐 압력밥솥 10인용 (A1)  주방  158000   7239000  20190102  ...   1   2   \n",
       "80      무이자 쿠첸 풀스텐 압력밥솥 10인용(A1)  주방  168000   8951000  20190102  ...   1   2   \n",
       "...                          ...  ..     ...       ...       ...  ...  ..  ..   \n",
       "35370              일시불쿠첸압력밥솥 6인용  주방  148000   1664000  20191231  ...  12  31   \n",
       "35371             무이자쿠첸압력밥솥 10인용  주방  178000   9149000  20191231  ...  12  31   \n",
       "35372             일시불쿠첸압력밥솥 10인용  주방  168000  15282000  20191231  ...  12  31   \n",
       "35373              무이자쿠첸압력밥솥 6인용  주방  158000   2328000  20191231  ...  12  31   \n",
       "35374              일시불쿠첸압력밥솥 6인용  주방  148000  10157000  20191231  ...  12  31   \n",
       "\n",
       "        요일  분기 365일  계절  방송시간  매진여부  취급액boxcox  최소판매수량  \n",
       "20     화요일  Q1    1  겨울 20.00     0     207.52     555  \n",
       "21     화요일  Q1    1  겨울 20.00     0     235.50     970  \n",
       "22     화요일  Q1    1  겨울 20.00     0     264.81    1629  \n",
       "79     수요일  Q1    2  겨울 20.00     0     146.02      46  \n",
       "80     수요일  Q1    2  겨울 20.00     0     153.29      53  \n",
       "...    ...  ..  ...  ..   ...   ...        ...     ...  \n",
       "35370  화요일  Q4  365  겨울 20.00     0     104.07      11  \n",
       "35371  화요일  Q4  365  겨울 20.00     0     154.06      51  \n",
       "35372  화요일  Q4  365  겨울 20.00     0     173.20      91  \n",
       "35373  화요일  Q4  365  겨울 20.00     0     112.48      15  \n",
       "35374  화요일  Q4  365  겨울 20.00     0     157.78      69  \n",
       "\n",
       "[6567 rows x 21 columns]"
      ]
     },
     "execution_count": 74,
     "metadata": {},
     "output_type": "execute_result"
    }
   ],
   "source": [
    "focus_data"
   ]
  },
  {
   "cell_type": "code",
   "execution_count": 75,
   "metadata": {},
   "outputs": [
    {
     "data": {
      "image/png": "[encoded data removed]",
      "text/plain": [
       "<Figure size 1008x432 with 1 Axes>"
      ]
     },
     "metadata": {},
     "output_type": "display_data"
    },
    {
     "data": {
      "image/png": "[encoded data removed]",
      "text/plain": [
       "<Figure size 1008x432 with 1 Axes>"
      ]
     },
     "metadata": {},
     "output_type": "display_data"
    }
   ],
   "source": [
    "sales_by_month(focus_data)"
   ]
  },
  {
   "cell_type": "code",
   "execution_count": 77,
   "metadata": {},
   "outputs": [
    {
     "data": {
      "image/png": "[encoded data removed]",
      "text/plain": [
       "<Figure size 1080x360 with 1 Axes>"
      ]
     },
     "metadata": {},
     "output_type": "display_data"
    },
    {
     "data": {
      "image/png": "[encoded data removed]",
      "text/plain": [
       "<Figure size 1080x360 with 1 Axes>"
      ]
     },
     "metadata": {},
     "output_type": "display_data"
    }
   ],
   "source": [
    "sales_by_time(focus_data)"
   ]
  },
  {
   "cell_type": "code",
   "execution_count": 78,
   "metadata": {},
   "outputs": [
    {
     "data": {
      "image/png": "[encoded data removed]",
      "text/plain": [
       "<Figure size 1008x432 with 1 Axes>"
      ]
     },
     "metadata": {},
     "output_type": "display_data"
    },
    {
     "data": {
      "image/png": "[encoded data removed]",
      "text/plain": [
       "<Figure size 1008x432 with 1 Axes>"
      ]
     },
     "metadata": {},
     "output_type": "display_data"
    }
   ],
   "source": [
    "sales_by_yoill(focus_data)"
   ]
  },
  {
   "cell_type": "code",
   "execution_count": 79,
   "metadata": {
    "scrolled": false
   },
   "outputs": [
    {
     "name": "stdout",
     "output_type": "stream",
     "text": [
      "AxesSubplot(0.125,0.125;0.775x0.755)\n",
      "Text(0.5, 1.0, '계절 별 취급액 총합')\n",
      "AxesSubplot(0.125,0.125;0.775x0.755)\n",
      "Text(0.5, 1.0, '계절 별 취급액 평균')\n"
     ]
    },
    {
     "data": {
      "image/png": "[encoded data removed]",
      "text/plain": [
       "<Figure size 1008x432 with 1 Axes>"
      ]
     },
     "metadata": {},
     "output_type": "display_data"
    },
    {
     "data": {
      "image/png": "[encoded data removed]",
      "text/plain": [
       "<Figure size 1008x432 with 1 Axes>"
      ]
     },
     "metadata": {},
     "output_type": "display_data"
    }
   ],
   "source": [
    "sales_by_season(focus_data)"
   ]
  },
  {
   "cell_type": "code",
   "execution_count": 80,
   "metadata": {},
   "outputs": [
    {
     "name": "stdout",
     "output_type": "stream",
     "text": [
      "    매진여부\n",
      "계절      \n",
      "가을     0\n",
      "겨울     0\n",
      "봄      5\n",
      "여름     0\n"
     ]
    }
   ],
   "source": [
    "soldout_by_season(focus_data)"
   ]
  },
  {
   "cell_type": "code",
   "execution_count": 81,
   "metadata": {},
   "outputs": [
    {
     "name": "stdout",
     "output_type": "stream",
     "text": [
      "AxesSubplot(0.125,0.125;0.775x0.755)\n",
      "Text(0.5, 1.0, '계절별 판매단가 총액')\n",
      "AxesSubplot(0.125,0.125;0.775x0.755)\n",
      "Text(0.5, 1.0, '계절별 판매단가 평균')\n"
     ]
    },
    {
     "data": {
      "image/png": "[encoded data removed]",
      "text/plain": [
       "<Figure size 1008x432 with 1 Axes>"
      ]
     },
     "metadata": {},
     "output_type": "display_data"
    },
    {
     "data": {
      "image/png": "[encoded data removed]",
      "text/plain": [
       "<Figure size 1008x432 with 1 Axes>"
      ]
     },
     "metadata": {},
     "output_type": "display_data"
    }
   ],
   "source": [
    "unitprice_by_season(focus_data)"
   ]
  },
  {
   "cell_type": "code",
   "execution_count": 82,
   "metadata": {},
   "outputs": [
    {
     "data": {
      "image/png": "[encoded data removed]",
      "text/plain": [
       "<Figure size 1008x432 with 1 Axes>"
      ]
     },
     "metadata": {},
     "output_type": "display_data"
    },
    {
     "data": {
      "image/png": "[encoded data removed]",
      "text/plain": [
       "<Figure size 1008x432 with 1 Axes>"
      ]
     },
     "metadata": {},
     "output_type": "display_data"
    }
   ],
   "source": [
    "quantity_by_season(focus_data)"
   ]
  },
  {
   "cell_type": "code",
   "execution_count": 83,
   "metadata": {
    "scrolled": true
   },
   "outputs": [
    {
     "data": {
      "image/png": "[encoded data removed]",
      "text/plain": [
       "<Figure size 1008x432 with 1 Axes>"
      ]
     },
     "metadata": {},
     "output_type": "display_data"
    },
    {
     "data": {
      "image/png": "[encoded data removed]",
      "text/plain": [
       "<Figure size 1008x432 with 1 Axes>"
      ]
     },
     "metadata": {},
     "output_type": "display_data"
    }
   ],
   "source": [
    "sales_by_Q(focus_data)"
   ]
  },
  {
   "cell_type": "code",
   "execution_count": 84,
   "metadata": {},
   "outputs": [
    {
     "data": {
      "image/png": "[encoded data removed]",
      "text/plain": [
       "<Figure size 1008x432 with 1 Axes>"
      ]
     },
     "metadata": {},
     "output_type": "display_data"
    }
   ],
   "source": [
    "unitprice_by_Q(focus_data)"
   ]
  },
  {
   "cell_type": "code",
   "execution_count": 85,
   "metadata": {},
   "outputs": [
    {
     "data": {
      "image/png": "[encoded data removed]",
      "text/plain": [
       "<Figure size 1008x432 with 1 Axes>"
      ]
     },
     "metadata": {},
     "output_type": "display_data"
    },
    {
     "data": {
      "image/png": "[encoded data removed]",
      "text/plain": [
       "<Figure size 1008x432 with 1 Axes>"
      ]
     },
     "metadata": {},
     "output_type": "display_data"
    }
   ],
   "source": [
    "quantity_by_Q(focus_data)"
   ]
  },
  {
   "cell_type": "code",
   "execution_count": null,
   "metadata": {},
   "outputs": [],
   "source": []
  }
 ],
 "metadata": {
  "kernelspec": {
   "display_name": "Python 3",
   "language": "python",
   "name": "python3"
  },
  "language_info": {
   "codemirror_mode": {
    "name": "ipython",
    "version": 3
   },
   "file_extension": ".py",
   "mimetype": "text/x-python",
   "name": "python",
   "nbconvert_exporter": "python",
   "pygments_lexer": "ipython3",
   "version": "3.7.6"
  }
 },
 "nbformat": 4,
 "nbformat_minor": 4
}
