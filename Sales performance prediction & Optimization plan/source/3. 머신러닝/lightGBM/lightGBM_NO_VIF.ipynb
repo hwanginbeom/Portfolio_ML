{
 "cells": [
  {
   "cell_type": "code",
   "execution_count": null,
   "metadata": {
    "id": "BY86qjjOe1F-",
    "colab_type": "code",
    "colab": {}
   },
   "outputs": [],
   "source": [
    "# matplotlib 한글 깨짐 해결\n",
    "!sudo apt-get install -y fonts-nanum\n",
    "!sudo fc-cache -fv\n",
    "!rm ~/.cache/matplotlib -rf\n",
    "\n",
    "# 이 셀 실행 후 런터임 재실행을 실시하세요"
   ]
  },
  {
   "cell_type": "code",
   "execution_count": null,
   "metadata": {
    "id": "dcEJcdate9VY",
    "colab_type": "code",
    "colab": {}
   },
   "outputs": [],
   "source": [
    "import pandas as pd\n",
    "import numpy as np\n",
    "import datetime\n",
    "import seaborn as sns\n",
    "import xgboost as xgb\n",
    "from sklearn.model_selection import train_test_split\n",
    "from sklearn.model_selection import KFold\n",
    "from sklearn.model_selection import GridSearchCV\n",
    "from sklearn.model_selection import cross_val_score\n",
    "from sklearn.metrics import explained_variance_score\n",
    "from sklearn.preprocessing import OneHotEncoder\n",
    "import lightgbm as lgb\n",
    "\n",
    "\n",
    "\n",
    "import matplotlib.pyplot as plt\n",
    "plt.rc('font', family='NanumBarunGothic') # 한글설정"
   ]
  },
  {
   "cell_type": "code",
   "execution_count": null,
   "metadata": {
    "id": "s8J8_JmWqSGo",
    "colab_type": "code",
    "colab": {}
   },
   "outputs": [],
   "source": [
    "# 파이썬 지수를 정수로 표현!\n",
    "pd.options.display.float_format = '{:.5f}'.format\n",
    "\n",
    "# 코랩 그래프 크게!\n",
    "\n",
    "%matplotlib inline\n",
    "\n",
    "plt.rcParams['figure.figsize'] = (20, 20)"
   ]
  },
  {
   "cell_type": "code",
   "execution_count": null,
   "metadata": {
    "id": "YRGFKL14gtO8",
    "colab_type": "code",
    "colab": {}
   },
   "outputs": [],
   "source": [
    "from google.colab import drive\n",
    "drive.mount(\"/content/drive\", force_remount=True)"
   ]
  },
  {
   "cell_type": "code",
   "execution_count": null,
   "metadata": {
    "id": "pc91UrXOe9Xg",
    "colab_type": "code",
    "colab": {}
   },
   "outputs": [],
   "source": [
    "\n",
    "# 한글설정\n",
    "plt.rc('font', family='NanumBarunGothic')\n",
    "\n",
    "# 파이썬 지수를 정수로 표현\n",
    "pd.options.display.float_format = '{:.5f}'.format\n",
    "\n",
    "# 구글 드라이브 연동\n",
    "from google.colab import drive\n",
    "drive.mount('/content/drive')\n",
    "\n",
    "# 데이터 불러오기\n",
    "test = pd.read_csv('/content/drive/My Drive/2020빅콘테스트 예측/data/새미프로젝트용/test.csv', encoding = 'cp949')\n",
    "train = pd.read_csv('/content/drive/My Drive/2020빅콘테스트 예측/data/새미프로젝트용/train.csv', encoding = 'cp949')\n",
    "\n",
    "\n"
   ]
  },
  {
   "cell_type": "code",
   "execution_count": null,
   "metadata": {
    "id": "EM0hDnFje9Z1",
    "colab_type": "code",
    "colab": {}
   },
   "outputs": [],
   "source": [
    "# train / test 나누기\n",
    "temp_train = train.drop(['Unnamed: 0','방송일시', '월', '그룹코드', '상품코드', '상품명', '일', '요일', '반기', '분기', '365일', '53주차', '시간', '시간hour', '날짜', '날짜시간', '168시간', '방송끝나는시간', '마더코드', '시청률평균', '시청률중앙값', '시청률최고값', '0.016평균값', '취급액'], axis = 1, inplace = False)\n",
    "temp_test = test.drop(['Unnamed: 0', '방송일시', '월', '그룹코드', '상품코드', '상품명', '일', '요일', '반기', '분기', '365일', '53주차', '시간', '시간hour', '날짜', '날짜시간', '168시간', '방송끝나는시간', '마더코드', '취급액'], axis = 1, inplace = False)\n",
    "y_train = temp_train['취급액boxcox']\n",
    "y_test = temp_test['취급액boxcox']\n",
    "\n",
    "all_data = temp_train.append(temp_test)\n",
    "all_data = all_data.drop(['취급액boxcox'], axis = 1, inplace = False)\n",
    "\n",
    "# 원핫 인코딩\n",
    "data = pd.get_dummies(data = all_data, columns = ['상품군', '계절', '휴일', '매진여부', '브랜드', '결제수단', 'sale단어', '대박확률등급', '중분류', '비눈여부', '비눈여부_평균이상'], drop_first = True)\n",
    "x_train = data.iloc[:32480, ]\n",
    "x_test = data.iloc[32480:35466, ]\n",
    "\n",
    "print('x_train 크기 : ', x_train.shape)\n",
    "print('y_train : 크기 :', y_train.shape)\n",
    "print('x_test 크기 : ', x_test.shape)\n",
    "print('y_test : 크기 :', y_test.shape)\n"
   ]
  },
  {
   "cell_type": "code",
   "execution_count": null,
   "metadata": {
    "id": "Bg0MHz-pRdiE",
    "colab_type": "code",
    "colab": {}
   },
   "outputs": [],
   "source": [
    "## Grid Search전 Feature Importance 보기\n",
    "\n",
    "temp_model1 = lgb.LGBMRegressor()\n",
    "temp_model1.fit(x_train, y_train)\n",
    "temp_model1.feature_importances_\n",
    "\n",
    "df = {'feature' : pd.Series(x_train.columns), 'importance' : pd.Series(temp_model1.feature_importances_)}\n",
    "importance_df = pd.DataFrame(df)\n",
    "importance_df = importance_df.sort_values(by = ['importance'])\n",
    "importance_df.plot.barh(y = 'importance', x = 'feature')\n",
    "\n",
    "\n",
    "## > 브랜드 : 범주의 수가 1400개에 달함 > 제거"
   ]
  },
  {
   "cell_type": "code",
   "execution_count": null,
   "metadata": {
    "id": "VqF8sWiaSRar",
    "colab_type": "code",
    "colab": {}
   },
   "outputs": [],
   "source": [
    "## 변수 중요도가 낮은 변수 제거 (1) : 브랜드\n",
    "temp_all_data = all_data.drop(['브랜드'], axis = 1, inplace = False)\n",
    "\n",
    "# 원핫 인코딩\n",
    "data = pd.get_dummies(data = temp_all_data, columns = ['상품군', '계절', '휴일', '매진여부', '결제수단', 'sale단어', '대박확률등급', '중분류', '비눈여부', '비눈여부_평균이상'], drop_first = True)\n",
    "x_train = data.iloc[:32480, ]\n",
    "x_test = data.iloc[32480:35466, ]\n",
    "\n",
    "print('x_train 크기 : ', x_train.shape)\n",
    "print('y_train : 크기 :', y_train.shape)\n",
    "print('x_test 크기 : ', x_test.shape)\n",
    "print('y_test : 크기 :', y_test.shape)\n",
    "\n",
    "# 제거후 중요도 확인\n",
    "temp_model2 = lgb.LGBMRegressor()\n",
    "temp_model2.fit(x_train, y_train)\n",
    "temp_model2.feature_importances_\n",
    "## Feature Importance\n",
    "df = {'feature' : pd.Series(x_train.columns), 'importance' : pd.Series(temp_model2.feature_importances_)}\n",
    "importance_df = pd.DataFrame(df)\n",
    "importance_df = importance_df.sort_values(by = ['importance'])\n",
    "importance_df.plot.barh(y = 'importance', x = 'feature')\n"
   ]
  },
  {
   "cell_type": "code",
   "execution_count": null,
   "metadata": {
    "id": "KezOdSSScE6C",
    "colab_type": "code",
    "colab": {}
   },
   "outputs": [],
   "source": [
    "## 변수 중요도가 낮은 변수 제거 (2) : 중분류\n",
    "temp_all_data = all_data.drop(['브랜드', '중분류'], axis = 1, inplace = False)\n",
    "\n",
    "# 원핫 인코딩\n",
    "data = pd.get_dummies(data = temp_all_data, columns = ['상품군', '계절', '휴일', '매진여부', '결제수단', 'sale단어', '대박확률등급', '비눈여부', '비눈여부_평균이상'], drop_first = True)\n",
    "x_train = data.iloc[:32480, ]\n",
    "x_test = data.iloc[32480:35466, ]\n",
    "\n",
    "print('x_train 크기 : ', x_train.shape)\n",
    "print('y_train : 크기 :', y_train.shape)\n",
    "print('x_test 크기 : ', x_test.shape)\n",
    "print('y_test : 크기 :', y_test.shape)\n",
    "\n",
    "# 제거후 중요도 확인\n",
    "temp_model3 = lgb.LGBMRegressor()\n",
    "temp_model3.fit(x_train, y_train)\n",
    "temp_model3.feature_importances_\n",
    "## Feature Importance\n",
    "df = {'feature' : pd.Series(x_train.columns), 'importance' : pd.Series(temp_model3.feature_importances_)}\n",
    "importance_df = pd.DataFrame(df)\n",
    "importance_df = importance_df.sort_values(by = ['importance'])\n",
    "importance_df.plot.barh(y = 'importance', x = 'feature')"
   ]
  },
  {
   "cell_type": "code",
   "execution_count": null,
   "metadata": {
    "id": "CgxaaIyJThg0",
    "colab_type": "code",
    "colab": {}
   },
   "outputs": [],
   "source": [
    "## 변수 중요도가 낮은 변수 제거 (3) : sale단어\n",
    "temp_all_data = all_data.drop(['브랜드', '중분류', 'sale단어'], axis = 1, inplace = False)\n",
    "\n",
    "# 원핫 인코딩\n",
    "data = pd.get_dummies(data = temp_all_data, columns = ['상품군', '계절', '휴일', '매진여부', '결제수단', '대박확률등급', '비눈여부', '비눈여부_평균이상'], drop_first = True)\n",
    "x_train = data.iloc[:32480, ]\n",
    "x_test = data.iloc[32480:35466, ]\n",
    "\n",
    "print('x_train 크기 : ', x_train.shape)\n",
    "print('y_train : 크기 :', y_train.shape)\n",
    "print('x_test 크기 : ', x_test.shape)\n",
    "print('y_test : 크기 :', y_test.shape)\n",
    "\n",
    "# 제거후 중요도 확인\n",
    "temp_model4 = lgb.LGBMRegressor()\n",
    "temp_model4.fit(x_train, y_train)\n",
    "temp_model4.feature_importances_\n",
    "## Feature Importance\n",
    "df = {'feature' : pd.Series(x_train.columns), 'importance' : pd.Series(temp_model3.feature_importances_)}\n",
    "importance_df = pd.DataFrame(df)\n",
    "importance_df = importance_df.sort_values(by = ['importance'])\n",
    "importance_df.plot.barh(y = 'importance', x = 'feature')"
   ]
  },
  {
   "cell_type": "code",
   "execution_count": null,
   "metadata": {
    "id": "UzvT89Vpe9gD",
    "colab_type": "code",
    "colab": {}
   },
   "outputs": [],
   "source": [
    "## 변수 중요도가 낮은 변수 제거 (4) : 대박확률등급\n",
    "temp_all_data = all_data.drop(['브랜드', '중분류', 'sale단어', '대박확률등급'], axis = 1, inplace = False)\n",
    "\n",
    "# 원핫 인코딩\n",
    "data = pd.get_dummies(data = temp_all_data, columns = ['상품군', '계절', '휴일', '매진여부', '결제수단', '비눈여부', '비눈여부_평균이상'], drop_first = True)\n",
    "x_train = data.iloc[:32480, ]\n",
    "x_test = data.iloc[32480:35466, ]\n",
    "\n",
    "print('x_train 크기 : ', x_train.shape)\n",
    "print('y_train : 크기 :', y_train.shape)\n",
    "print('x_test 크기 : ', x_test.shape)\n",
    "print('y_test : 크기 :', y_test.shape)\n",
    "\n",
    "# 제거후 중요도 확인\n",
    "temp_model5 = lgb.LGBMRegressor()\n",
    "temp_model5.fit(x_train, y_train)\n",
    "temp_model5.feature_importances_\n",
    "## Feature Importance\n",
    "df = {'feature' : pd.Series(x_train.columns), 'importance' : pd.Series(temp_model3.feature_importances_)}\n",
    "importance_df = pd.DataFrame(df)\n",
    "importance_df = importance_df.sort_values(by = ['importance'])\n",
    "importance_df.plot.barh(y = 'importance', x = 'feature')"
   ]
  },
  {
   "cell_type": "code",
   "execution_count": null,
   "metadata": {
    "id": "pWv2DZkMcbEp",
    "colab_type": "code",
    "colab": {}
   },
   "outputs": [],
   "source": [
    "import pandas as pd\n",
    "import numpy as np\n",
    "import datetime\n",
    "import seaborn as sns\n",
    "import xgboost as xgb\n",
    "from sklearn.model_selection import train_test_split\n",
    "from sklearn.model_selection import KFold\n",
    "from sklearn.model_selection import GridSearchCV\n",
    "from sklearn.model_selection import cross_val_score\n",
    "from sklearn.metrics import explained_variance_score\n",
    "from sklearn.preprocessing import OneHotEncoder\n",
    "import lightgbm as lgb\n",
    "\n"
   ]
  },
  {
   "cell_type": "code",
   "execution_count": null,
   "metadata": {
    "id": "XU-zAowiwdmZ",
    "colab_type": "code",
    "colab": {}
   },
   "outputs": [],
   "source": [
    "np.random.seed(123)\n",
    "\n",
    "kfold = KFold(n_splits = 3, random_state=1, shuffle = True)\n",
    "\n",
    "lgb_model = lgb.LGBMRegressor()\n",
    "\n",
    "param = {\n",
    "    'objective' : ['regression'],\n",
    "    'num_leaves' : [55, 60, 75],\n",
    "    'feature_fraction' : [0.75, 0.8, 0.85],\n",
    "    'bagging_fraction' : [1.0],\n",
    "    'reg_alpha' : [1.6, 1.5, 1.4],\n",
    "    'n_estimator' : [1,2]\n",
    "}\n",
    "\n",
    "lgb_grid = GridSearchCV(estimator = lgb_model,\n",
    "                   param_grid = param,\n",
    "                   cv = kfold,\n",
    "                   scoring = 'neg_mean_absolute_error', \n",
    "                   n_jobs = 1,\n",
    "                   verbose = 2)\n",
    "\n",
    "lgb_grid.fit(x_train, y_train)\n"
   ]
  },
  {
   "cell_type": "code",
   "execution_count": null,
   "metadata": {
    "id": "aT_j2qZ58j9M",
    "colab_type": "code",
    "colab": {}
   },
   "outputs": [],
   "source": [
    "\n",
    "print(lgb_grid.best_params_)\n",
    "print(lgb_grid.best_score_)\n",
    "\n",
    "# 5\n",
    "# {'bagging_fraction': 1.0, 'feature_fraction': 0.8, 'n_estimator': 2, 'num_leaves': 60, 'objective': 'regression', 'reg_alpha': 1.5}\n",
    "# -18.808200301591373\n",
    "\n",
    "# 4\n",
    "# {'bagging_fraction': 1.0, 'feature_fraction': 0.8, 'n_estimator': 3, 'num_leaves': 60, 'objective': 'regression', 'reg_alpha': 1.5}\n",
    "# -18.808200301591373\n",
    "\n",
    "# 3\n",
    "# {'bagging_fraction': 1.0, 'feature_fraction': 0.8, 'n_estimator': 4, 'num_leaves': 60, 'objective': 'regression', 'reg_alpha': 1.5}  <<<<< 선택!\n",
    "# -18.808200301591373\n",
    "\n",
    "# 2\n",
    "# {'bagging_fraction': 1.0, 'feature_fraction': 0.8, 'n_estimator': 5, 'num_leaves': 60, 'objective': 'regression', 'reg_alpha': 1.6}\n",
    "# -18.81244905308232\n",
    "\n",
    "# 1\n",
    "# {'bagging_fraction': 1.0, 'feature_fraction': 0.8, 'n_estimator': 10, 'num_leaves': 60, 'objective': 'regression', 'reg_alpha': 1.4}\n",
    "# -18.818141503232106\n",
    "\n"
   ]
  },
  {
   "cell_type": "code",
   "execution_count": null,
   "metadata": {
    "id": "3CC0_AhhZeVt",
    "colab_type": "code",
    "colab": {}
   },
   "outputs": [],
   "source": [
    "## Feature Importance\n",
    "data = {'feature' : pd.Series(x_train.columns), 'importance' : pd.Series(lgb_grid.best_estimator_.feature_importances_)}\n",
    "importance_df = pd.DataFrame(data)\n",
    "importance_df = importance_df.sort_values(by = ['importance'])\n",
    "importance_df.plot.barh(y = 'importance', x = 'feature')\n",
    "\n"
   ]
  },
  {
   "cell_type": "code",
   "execution_count": null,
   "metadata": {
    "id": "QF1q1T32X4ya",
    "colab_type": "code",
    "colab": {}
   },
   "outputs": [],
   "source": [
    "# 최종모델\n",
    "\n",
    "final_model = lgb.LGBMRegressor(objective = 'regression',\n",
    "                                num_leaves = 60,\n",
    "                                feature_fraction = 0.8,\n",
    "                                bagging_fraction = 0.1,\n",
    "                                reg_alpha = 1.5,\n",
    "                                n_estimator = 4)\n",
    "final_model.fit(x_train, y_train)\n",
    "y_pred = final_model.predict(x_test)"
   ]
  },
  {
   "cell_type": "code",
   "execution_count": null,
   "metadata": {
    "id": "yhmRf8NsrEBQ",
    "colab_type": "code",
    "colab": {}
   },
   "outputs": [],
   "source": [
    "plt.rcParams['figure.figsize'] = (20, 5)\n",
    "\n",
    "data = {\n",
    "    'real' : y_test,\n",
    "    'pred' : y_pred\n",
    "}\n",
    "\n",
    "df = pd.DataFrame(data)\n",
    "\n",
    "df.plot.line(linewidth = 0.5)\n",
    "\n"
   ]
  },
  {
   "cell_type": "code",
   "execution_count": null,
   "metadata": {
    "id": "6lN0TC0PbcY5",
    "colab_type": "code",
    "colab": {}
   },
   "outputs": [],
   "source": [
    "# MAE 구해주는 함수\n",
    "def mean_absolute_error(y_true, y_pred):\n",
    "    y_true, y_pred = np.array(y_true), np.array(y_pred)\n",
    "    return np.mean(np.abs(y_true - y_pred))\n",
    "\n",
    "\n",
    "# MAPE 구해주는 함수\n",
    "def mean_absolute_percentage_error(y_true, y_pred):\n",
    "    y_true, y_pred = np.array(y_true), np.array(y_pred)\n",
    "    return np.mean(np.abs((y_true - y_pred) / y_true)) * 100"
   ]
  },
  {
   "cell_type": "code",
   "execution_count": null,
   "metadata": {
    "id": "bJ0VAX7pfivS",
    "colab_type": "code",
    "colab": {}
   },
   "outputs": [],
   "source": [
    "print('MAE :',mean_absolute_error(y_test,y_pred))\n",
    "print('MAPE :',mean_absolute_percentage_error(y_test,y_pred))"
   ]
  },
  {
   "cell_type": "code",
   "execution_count": null,
   "metadata": {
    "id": "e6H5FYOo5Tar",
    "colab_type": "code",
    "colab": {}
   },
   "outputs": [],
   "source": [
    ""
   ]
  }
 ],
 "metadata": {
  "colab": {
   "name": "lightGBM_NO_VIF.ipynb",
   "provenance": [],
   "private_outputs": true,
   "collapsed_sections": []
  },
  "kernelspec": {
   "name": "python3",
   "display_name": "Python 3"
  },
  "accelerator": "GPU"
 },
 "nbformat": 4,
 "nbformat_minor": 0
}
